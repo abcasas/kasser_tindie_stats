{
 "cells": [
  {
   "cell_type": "markdown",
   "id": "d09ca065",
   "metadata": {},
   "source": [
    "# Customer Segmentation with the Tindie Orders' dataset"
   ]
  },
  {
   "cell_type": "markdown",
   "id": "28e4cb36",
   "metadata": {},
   "source": [
    "Customer segmentation will be applied to the KASSER SYNTHS customer database in Tindie using K-means clustering from scikit-learn.\n",
    "\n",
    "Case Study:\n",
    "Can this customer database be grouped to develop customized relationships?\n",
    "\n",
    "To answer this question 3 features will be created and used:\n",
    "- products ordered (Quantity)\n",
    "- average return rate (Status Refund / Billed + Refund)\n",
    "- total spending (Item Total)\n",
    "\n",
    "Dataset represents real customers & orders data between November 2018 - May 2022 and it is pseudonymized for confidentiality.\n",
    "\n",
    "Imports"
   ]
  },
  {
   "cell_type": "code",
   "execution_count": 79,
   "id": "d18fa16a",
   "metadata": {},
   "outputs": [],
   "source": [
    "# data wrangling\n",
    "import pandas as pd\n",
    "import numpy as np\n",
    "\n",
    "# visualization\n",
    "import matplotlib.pyplot as plt\n",
    "import plotly.express as px\n",
    "import plotly.graph_objects as go\n",
    "from plotly.subplots import make_subplots\n",
    "\n",
    "# for data preprocessing and clustering\n",
    "from sklearn.cluster import KMeans\n",
    "\n",
    "%matplotlib inline\n",
    "# to include graphs inline within the frontends next to code\n",
    "\n",
    "%config InlineBackend.figure_format='retina'\n",
    "#to enable retina (high resolution) plots\n",
    "\n",
    "pd.options.mode.chained_assignment = None\n",
    "# to bypass warnings in various dataframe assignments"
   ]
  },
  {
   "cell_type": "markdown",
   "id": "3f614ca0",
   "metadata": {},
   "source": [
    "Investigate data"
   ]
  },
  {
   "cell_type": "code",
   "execution_count": 80,
   "id": "2af5a39f",
   "metadata": {},
   "outputs": [],
   "source": [
    "# load data into a dataframe\n",
    "customers_orders = pd.read_csv(\"https://raw.githubusercontent.com/abcasas/kasser_tindie_stats/main/datasets/orders/orders.csv\")"
   ]
  },
  {
   "cell_type": "code",
   "execution_count": 81,
   "id": "ea376fe3",
   "metadata": {},
   "outputs": [
    {
     "data": {
      "text/html": [
       "<div>\n",
       "<style scoped>\n",
       "    .dataframe tbody tr th:only-of-type {\n",
       "        vertical-align: middle;\n",
       "    }\n",
       "\n",
       "    .dataframe tbody tr th {\n",
       "        vertical-align: top;\n",
       "    }\n",
       "\n",
       "    .dataframe thead th {\n",
       "        text-align: right;\n",
       "    }\n",
       "</style>\n",
       "<table border=\"1\" class=\"dataframe\">\n",
       "  <thead>\n",
       "    <tr style=\"text-align: right;\">\n",
       "      <th></th>\n",
       "      <th>Order ID</th>\n",
       "      <th>Status</th>\n",
       "      <th>Order Date</th>\n",
       "      <th>Shipping Date</th>\n",
       "      <th>Refund Date</th>\n",
       "      <th>Customer ID</th>\n",
       "      <th>City</th>\n",
       "      <th>State/Province</th>\n",
       "      <th>Postal/Zip Code</th>\n",
       "      <th>Country</th>\n",
       "      <th>Product Title</th>\n",
       "      <th>Option Summary</th>\n",
       "      <th>Quantity</th>\n",
       "      <th>Unit Price</th>\n",
       "      <th>Discount Price</th>\n",
       "      <th>Item Total</th>\n",
       "      <th>Shipping Total</th>\n",
       "      <th>Discount Total</th>\n",
       "      <th>Order Total</th>\n",
       "    </tr>\n",
       "  </thead>\n",
       "  <tbody>\n",
       "    <tr>\n",
       "      <th>0</th>\n",
       "      <td>134029</td>\n",
       "      <td>billed</td>\n",
       "      <td>2018-12-07</td>\n",
       "      <td>2018-12-12</td>\n",
       "      <td>NaN</td>\n",
       "      <td>79b517750071a0fce0ea0c2ef27fc40d5063df78aac79c...</td>\n",
       "      <td>Brookings</td>\n",
       "      <td>SD</td>\n",
       "      <td>57006</td>\n",
       "      <td>United States of America</td>\n",
       "      <td>DAFM synth - GENESIS YM2612 / YM3438</td>\n",
       "      <td>FM YAMAHA chip: YM3438 - Fully Assembled</td>\n",
       "      <td>1</td>\n",
       "      <td>124.38</td>\n",
       "      <td>124.38</td>\n",
       "      <td>124.38</td>\n",
       "      <td>0.00</td>\n",
       "      <td>0.00</td>\n",
       "      <td>124.38</td>\n",
       "    </tr>\n",
       "    <tr>\n",
       "      <th>1</th>\n",
       "      <td>136661</td>\n",
       "      <td>billed</td>\n",
       "      <td>2019-01-04</td>\n",
       "      <td>2019-01-13</td>\n",
       "      <td>NaN</td>\n",
       "      <td>5f54c081a80b3cd0960794be1ea8f4fbd1bb977f7d9b30...</td>\n",
       "      <td>Neustadt</td>\n",
       "      <td>RP</td>\n",
       "      <td>67433</td>\n",
       "      <td>Germany</td>\n",
       "      <td>DAFM synth - GENESIS YM2612 / YM3438</td>\n",
       "      <td>FM YAMAHA chip: YM2612 - Fully Assembled</td>\n",
       "      <td>1</td>\n",
       "      <td>126.12</td>\n",
       "      <td>126.12</td>\n",
       "      <td>126.12</td>\n",
       "      <td>0.00</td>\n",
       "      <td>0.00</td>\n",
       "      <td>126.12</td>\n",
       "    </tr>\n",
       "    <tr>\n",
       "      <th>2</th>\n",
       "      <td>136829</td>\n",
       "      <td>billed</td>\n",
       "      <td>2019-01-05</td>\n",
       "      <td>2019-01-16</td>\n",
       "      <td>NaN</td>\n",
       "      <td>1eaa433ace9b356d976ae83bdfac56282ef0fa7afcc05f...</td>\n",
       "      <td>Auckland</td>\n",
       "      <td>Auckland</td>\n",
       "      <td>1024</td>\n",
       "      <td>New Zealand</td>\n",
       "      <td>DAFM synth - GENESIS YM2612 / YM3438</td>\n",
       "      <td>FM YAMAHA chip: YM2612 - Fully Assembled</td>\n",
       "      <td>1</td>\n",
       "      <td>126.12</td>\n",
       "      <td>126.12</td>\n",
       "      <td>126.12</td>\n",
       "      <td>0.00</td>\n",
       "      <td>0.00</td>\n",
       "      <td>126.12</td>\n",
       "    </tr>\n",
       "    <tr>\n",
       "      <th>3</th>\n",
       "      <td>137381</td>\n",
       "      <td>billed</td>\n",
       "      <td>2019-01-10</td>\n",
       "      <td>2019-01-19</td>\n",
       "      <td>NaN</td>\n",
       "      <td>92ce259747bc2c850787c5e27547416aa4da0a13a23708...</td>\n",
       "      <td>Berlin</td>\n",
       "      <td>Berlin</td>\n",
       "      <td>10409</td>\n",
       "      <td>Germany</td>\n",
       "      <td>DAFM synth - GENESIS YM2612 / YM3438</td>\n",
       "      <td>FM YAMAHA chip: YM2612 - Fully Assembled</td>\n",
       "      <td>1</td>\n",
       "      <td>126.12</td>\n",
       "      <td>126.12</td>\n",
       "      <td>126.12</td>\n",
       "      <td>0.00</td>\n",
       "      <td>0.00</td>\n",
       "      <td>126.12</td>\n",
       "    </tr>\n",
       "    <tr>\n",
       "      <th>4</th>\n",
       "      <td>142040</td>\n",
       "      <td>billed</td>\n",
       "      <td>2019-02-23</td>\n",
       "      <td>2019-02-25</td>\n",
       "      <td>NaN</td>\n",
       "      <td>d1b71ad194e919d69cabdf143cea070293c4190d6c3be3...</td>\n",
       "      <td>Bluff City</td>\n",
       "      <td>TN</td>\n",
       "      <td>37618</td>\n",
       "      <td>United States of America</td>\n",
       "      <td>DAFM synth - GENESIS YM2612 / YM3438</td>\n",
       "      <td>FM YAMAHA chip: YM2612 - Fully Assembled</td>\n",
       "      <td>1</td>\n",
       "      <td>156.11</td>\n",
       "      <td>129.99</td>\n",
       "      <td>129.99</td>\n",
       "      <td>19.99</td>\n",
       "      <td>26.12</td>\n",
       "      <td>149.98</td>\n",
       "    </tr>\n",
       "  </tbody>\n",
       "</table>\n",
       "</div>"
      ],
      "text/plain": [
       "   Order ID  Status  Order Date Shipping Date Refund Date  \\\n",
       "0    134029  billed  2018-12-07    2018-12-12         NaN   \n",
       "1    136661  billed  2019-01-04    2019-01-13         NaN   \n",
       "2    136829  billed  2019-01-05    2019-01-16         NaN   \n",
       "3    137381  billed  2019-01-10    2019-01-19         NaN   \n",
       "4    142040  billed  2019-02-23    2019-02-25         NaN   \n",
       "\n",
       "                                         Customer ID        City  \\\n",
       "0  79b517750071a0fce0ea0c2ef27fc40d5063df78aac79c...   Brookings   \n",
       "1  5f54c081a80b3cd0960794be1ea8f4fbd1bb977f7d9b30...    Neustadt   \n",
       "2  1eaa433ace9b356d976ae83bdfac56282ef0fa7afcc05f...    Auckland   \n",
       "3  92ce259747bc2c850787c5e27547416aa4da0a13a23708...      Berlin   \n",
       "4  d1b71ad194e919d69cabdf143cea070293c4190d6c3be3...  Bluff City   \n",
       "\n",
       "  State/Province Postal/Zip Code                   Country  \\\n",
       "0             SD           57006  United States of America   \n",
       "1             RP           67433                   Germany   \n",
       "2       Auckland            1024               New Zealand   \n",
       "3         Berlin           10409                   Germany   \n",
       "4             TN           37618  United States of America   \n",
       "\n",
       "                          Product Title  \\\n",
       "0  DAFM synth - GENESIS YM2612 / YM3438   \n",
       "1  DAFM synth - GENESIS YM2612 / YM3438   \n",
       "2  DAFM synth - GENESIS YM2612 / YM3438   \n",
       "3  DAFM synth - GENESIS YM2612 / YM3438   \n",
       "4  DAFM synth - GENESIS YM2612 / YM3438   \n",
       "\n",
       "                             Option Summary  Quantity  Unit Price  \\\n",
       "0  FM YAMAHA chip: YM3438 - Fully Assembled         1      124.38   \n",
       "1  FM YAMAHA chip: YM2612 - Fully Assembled         1      126.12   \n",
       "2  FM YAMAHA chip: YM2612 - Fully Assembled         1      126.12   \n",
       "3  FM YAMAHA chip: YM2612 - Fully Assembled         1      126.12   \n",
       "4  FM YAMAHA chip: YM2612 - Fully Assembled         1      156.11   \n",
       "\n",
       "   Discount Price  Item Total  Shipping Total  Discount Total  Order Total  \n",
       "0          124.38      124.38            0.00            0.00       124.38  \n",
       "1          126.12      126.12            0.00            0.00       126.12  \n",
       "2          126.12      126.12            0.00            0.00       126.12  \n",
       "3          126.12      126.12            0.00            0.00       126.12  \n",
       "4          129.99      129.99           19.99           26.12       149.98  "
      ]
     },
     "execution_count": 81,
     "metadata": {},
     "output_type": "execute_result"
    }
   ],
   "source": [
    "# first rows of the dataset\n",
    "customers_orders.head()"
   ]
  },
  {
   "cell_type": "code",
   "execution_count": 82,
   "id": "ff3fe79d",
   "metadata": {
    "scrolled": false
   },
   "outputs": [
    {
     "data": {
      "text/html": [
       "<div>\n",
       "<style scoped>\n",
       "    .dataframe tbody tr th:only-of-type {\n",
       "        vertical-align: middle;\n",
       "    }\n",
       "\n",
       "    .dataframe tbody tr th {\n",
       "        vertical-align: top;\n",
       "    }\n",
       "\n",
       "    .dataframe thead th {\n",
       "        text-align: right;\n",
       "    }\n",
       "</style>\n",
       "<table border=\"1\" class=\"dataframe\">\n",
       "  <thead>\n",
       "    <tr style=\"text-align: right;\">\n",
       "      <th></th>\n",
       "      <th>Order ID</th>\n",
       "      <th>Quantity</th>\n",
       "      <th>Unit Price</th>\n",
       "      <th>Discount Price</th>\n",
       "      <th>Item Total</th>\n",
       "      <th>Shipping Total</th>\n",
       "      <th>Discount Total</th>\n",
       "      <th>Order Total</th>\n",
       "    </tr>\n",
       "  </thead>\n",
       "  <tbody>\n",
       "    <tr>\n",
       "      <th>count</th>\n",
       "      <td>264.000000</td>\n",
       "      <td>264.0</td>\n",
       "      <td>264.000000</td>\n",
       "      <td>264.000000</td>\n",
       "      <td>264.000000</td>\n",
       "      <td>262.000000</td>\n",
       "      <td>262.000000</td>\n",
       "      <td>262.000000</td>\n",
       "    </tr>\n",
       "    <tr>\n",
       "      <th>mean</th>\n",
       "      <td>217737.806818</td>\n",
       "      <td>1.0</td>\n",
       "      <td>188.928939</td>\n",
       "      <td>188.063939</td>\n",
       "      <td>188.063939</td>\n",
       "      <td>20.515611</td>\n",
       "      <td>0.871603</td>\n",
       "      <td>210.015153</td>\n",
       "    </tr>\n",
       "    <tr>\n",
       "      <th>std</th>\n",
       "      <td>52199.152930</td>\n",
       "      <td>0.0</td>\n",
       "      <td>63.501703</td>\n",
       "      <td>63.478458</td>\n",
       "      <td>63.478458</td>\n",
       "      <td>8.536438</td>\n",
       "      <td>4.580202</td>\n",
       "      <td>68.293399</td>\n",
       "    </tr>\n",
       "    <tr>\n",
       "      <th>min</th>\n",
       "      <td>134029.000000</td>\n",
       "      <td>1.0</td>\n",
       "      <td>14.980000</td>\n",
       "      <td>14.980000</td>\n",
       "      <td>14.980000</td>\n",
       "      <td>0.000000</td>\n",
       "      <td>0.000000</td>\n",
       "      <td>14.980000</td>\n",
       "    </tr>\n",
       "    <tr>\n",
       "      <th>25%</th>\n",
       "      <td>169716.250000</td>\n",
       "      <td>1.0</td>\n",
       "      <td>156.110000</td>\n",
       "      <td>154.370000</td>\n",
       "      <td>154.370000</td>\n",
       "      <td>16.490000</td>\n",
       "      <td>0.000000</td>\n",
       "      <td>175.260000</td>\n",
       "    </tr>\n",
       "    <tr>\n",
       "      <th>50%</th>\n",
       "      <td>213764.500000</td>\n",
       "      <td>1.0</td>\n",
       "      <td>174.990000</td>\n",
       "      <td>174.990000</td>\n",
       "      <td>174.990000</td>\n",
       "      <td>24.990000</td>\n",
       "      <td>0.000000</td>\n",
       "      <td>199.980000</td>\n",
       "    </tr>\n",
       "    <tr>\n",
       "      <th>75%</th>\n",
       "      <td>257184.750000</td>\n",
       "      <td>1.0</td>\n",
       "      <td>249.990000</td>\n",
       "      <td>249.990000</td>\n",
       "      <td>249.990000</td>\n",
       "      <td>24.990000</td>\n",
       "      <td>0.000000</td>\n",
       "      <td>274.980000</td>\n",
       "    </tr>\n",
       "    <tr>\n",
       "      <th>max</th>\n",
       "      <td>332621.000000</td>\n",
       "      <td>1.0</td>\n",
       "      <td>274.980000</td>\n",
       "      <td>274.980000</td>\n",
       "      <td>274.980000</td>\n",
       "      <td>90.000000</td>\n",
       "      <td>30.000000</td>\n",
       "      <td>374.970000</td>\n",
       "    </tr>\n",
       "  </tbody>\n",
       "</table>\n",
       "</div>"
      ],
      "text/plain": [
       "            Order ID  Quantity  Unit Price  Discount Price  Item Total  \\\n",
       "count     264.000000     264.0  264.000000      264.000000  264.000000   \n",
       "mean   217737.806818       1.0  188.928939      188.063939  188.063939   \n",
       "std     52199.152930       0.0   63.501703       63.478458   63.478458   \n",
       "min    134029.000000       1.0   14.980000       14.980000   14.980000   \n",
       "25%    169716.250000       1.0  156.110000      154.370000  154.370000   \n",
       "50%    213764.500000       1.0  174.990000      174.990000  174.990000   \n",
       "75%    257184.750000       1.0  249.990000      249.990000  249.990000   \n",
       "max    332621.000000       1.0  274.980000      274.980000  274.980000   \n",
       "\n",
       "       Shipping Total  Discount Total  Order Total  \n",
       "count      262.000000      262.000000   262.000000  \n",
       "mean        20.515611        0.871603   210.015153  \n",
       "std          8.536438        4.580202    68.293399  \n",
       "min          0.000000        0.000000    14.980000  \n",
       "25%         16.490000        0.000000   175.260000  \n",
       "50%         24.990000        0.000000   199.980000  \n",
       "75%         24.990000        0.000000   274.980000  \n",
       "max         90.000000       30.000000   374.970000  "
      ]
     },
     "execution_count": 82,
     "metadata": {},
     "output_type": "execute_result"
    }
   ],
   "source": [
    "# descriptive statistics of the non-object columns\n",
    "customers_orders.describe()"
   ]
  },
  {
   "cell_type": "code",
   "execution_count": 83,
   "id": "6d4f361a",
   "metadata": {
    "scrolled": true
   },
   "outputs": [
    {
     "name": "stdout",
     "output_type": "stream",
     "text": [
      "<class 'pandas.core.frame.DataFrame'>\n",
      "RangeIndex: 264 entries, 0 to 263\n",
      "Data columns (total 19 columns):\n",
      " #   Column           Non-Null Count  Dtype  \n",
      "---  ------           --------------  -----  \n",
      " 0   Order ID         264 non-null    int64  \n",
      " 1   Status           264 non-null    object \n",
      " 2   Order Date       264 non-null    object \n",
      " 3   Shipping Date    253 non-null    object \n",
      " 4   Refund Date      13 non-null     object \n",
      " 5   Customer ID      264 non-null    object \n",
      " 6   City             262 non-null    object \n",
      " 7   State/Province   260 non-null    object \n",
      " 8   Postal/Zip Code  262 non-null    object \n",
      " 9   Country          262 non-null    object \n",
      " 10  Product Title    264 non-null    object \n",
      " 11  Option Summary   264 non-null    object \n",
      " 12  Quantity         264 non-null    int64  \n",
      " 13  Unit Price       264 non-null    float64\n",
      " 14  Discount Price   264 non-null    float64\n",
      " 15  Item Total       264 non-null    float64\n",
      " 16  Shipping Total   262 non-null    float64\n",
      " 17  Discount Total   262 non-null    float64\n",
      " 18  Order Total      262 non-null    float64\n",
      "dtypes: float64(6), int64(2), object(11)\n",
      "memory usage: 39.3+ KB\n"
     ]
    }
   ],
   "source": [
    "# first glance of customers_orders data\n",
    "customers_orders.info()"
   ]
  },
  {
   "cell_type": "markdown",
   "id": "4904b749",
   "metadata": {},
   "source": [
    "# 0. Cleaning the data and calculating new columns"
   ]
  },
  {
   "cell_type": "markdown",
   "id": "7f4aea40",
   "metadata": {},
   "source": [
    "Looking at the customers_orders.info() results there are at least 2 empty rows in some of the columns. This may be related to order IDs where more than one item was ordered. Let's check for duplicate order IDs"
   ]
  },
  {
   "cell_type": "code",
   "execution_count": 84,
   "id": "87fdaf51",
   "metadata": {
    "scrolled": true
   },
   "outputs": [
    {
     "data": {
      "text/html": [
       "<div>\n",
       "<style scoped>\n",
       "    .dataframe tbody tr th:only-of-type {\n",
       "        vertical-align: middle;\n",
       "    }\n",
       "\n",
       "    .dataframe tbody tr th {\n",
       "        vertical-align: top;\n",
       "    }\n",
       "\n",
       "    .dataframe thead th {\n",
       "        text-align: right;\n",
       "    }\n",
       "</style>\n",
       "<table border=\"1\" class=\"dataframe\">\n",
       "  <thead>\n",
       "    <tr style=\"text-align: right;\">\n",
       "      <th></th>\n",
       "      <th>Order ID</th>\n",
       "      <th>Status</th>\n",
       "      <th>Order Date</th>\n",
       "      <th>Shipping Date</th>\n",
       "      <th>Refund Date</th>\n",
       "      <th>Customer ID</th>\n",
       "      <th>City</th>\n",
       "      <th>State/Province</th>\n",
       "      <th>Postal/Zip Code</th>\n",
       "      <th>Country</th>\n",
       "      <th>Product Title</th>\n",
       "      <th>Option Summary</th>\n",
       "      <th>Quantity</th>\n",
       "      <th>Unit Price</th>\n",
       "      <th>Discount Price</th>\n",
       "      <th>Item Total</th>\n",
       "      <th>Shipping Total</th>\n",
       "      <th>Discount Total</th>\n",
       "      <th>Order Total</th>\n",
       "    </tr>\n",
       "  </thead>\n",
       "  <tbody>\n",
       "    <tr>\n",
       "      <th>54</th>\n",
       "      <td>166827</td>\n",
       "      <td>billed</td>\n",
       "      <td>2019-09-30</td>\n",
       "      <td>2019-10-08</td>\n",
       "      <td>NaN</td>\n",
       "      <td>4dd0c81d81cee897e87b2bc807b9b82a62a5ba3f978e55...</td>\n",
       "      <td>Kitchener</td>\n",
       "      <td>ON</td>\n",
       "      <td>N2H6M4</td>\n",
       "      <td>Canada</td>\n",
       "      <td>DAFM synth - GENESIS YM2612 / YM3438</td>\n",
       "      <td>Knobs color: Metallic Red; OLED Display Color:...</td>\n",
       "      <td>1</td>\n",
       "      <td>174.99</td>\n",
       "      <td>174.99</td>\n",
       "      <td>174.99</td>\n",
       "      <td>24.99</td>\n",
       "      <td>0.0</td>\n",
       "      <td>374.97</td>\n",
       "    </tr>\n",
       "    <tr>\n",
       "      <th>55</th>\n",
       "      <td>166827</td>\n",
       "      <td>billed</td>\n",
       "      <td>2019-09-30</td>\n",
       "      <td>NaN</td>\n",
       "      <td>NaN</td>\n",
       "      <td>9b2d5b4678781e53038e91ea5324530a03f27dc1d0e5f6...</td>\n",
       "      <td>NaN</td>\n",
       "      <td>NaN</td>\n",
       "      <td>NaN</td>\n",
       "      <td>NaN</td>\n",
       "      <td>DAFM synth - GENESIS YM2612 / YM3438</td>\n",
       "      <td>OLED Display Color: Electric Blue; Knobs color...</td>\n",
       "      <td>1</td>\n",
       "      <td>174.99</td>\n",
       "      <td>174.99</td>\n",
       "      <td>174.99</td>\n",
       "      <td>NaN</td>\n",
       "      <td>NaN</td>\n",
       "      <td>NaN</td>\n",
       "    </tr>\n",
       "    <tr>\n",
       "      <th>195</th>\n",
       "      <td>256126</td>\n",
       "      <td>billed</td>\n",
       "      <td>2021-04-03</td>\n",
       "      <td>2021-04-07</td>\n",
       "      <td>NaN</td>\n",
       "      <td>7e0a3e445c2e165b164b20375750818514f4c55fae9dfa...</td>\n",
       "      <td>Phoenix</td>\n",
       "      <td>AZ</td>\n",
       "      <td>85009-5108</td>\n",
       "      <td>United States of America</td>\n",
       "      <td>DAFM synth - ARCADE YM2151</td>\n",
       "      <td>Knobs color: Rose Gold</td>\n",
       "      <td>1</td>\n",
       "      <td>259.99</td>\n",
       "      <td>259.99</td>\n",
       "      <td>259.99</td>\n",
       "      <td>24.99</td>\n",
       "      <td>0.0</td>\n",
       "      <td>299.96</td>\n",
       "    </tr>\n",
       "    <tr>\n",
       "      <th>196</th>\n",
       "      <td>256126</td>\n",
       "      <td>billed</td>\n",
       "      <td>2021-04-03</td>\n",
       "      <td>NaN</td>\n",
       "      <td>NaN</td>\n",
       "      <td>9b2d5b4678781e53038e91ea5324530a03f27dc1d0e5f6...</td>\n",
       "      <td>NaN</td>\n",
       "      <td>NaN</td>\n",
       "      <td>NaN</td>\n",
       "      <td>NaN</td>\n",
       "      <td>DAFM synth - Upgrade KIT</td>\n",
       "      <td>Upgrade Kit: USB To Serial Converter</td>\n",
       "      <td>1</td>\n",
       "      <td>14.98</td>\n",
       "      <td>14.98</td>\n",
       "      <td>14.98</td>\n",
       "      <td>NaN</td>\n",
       "      <td>NaN</td>\n",
       "      <td>NaN</td>\n",
       "    </tr>\n",
       "  </tbody>\n",
       "</table>\n",
       "</div>"
      ],
      "text/plain": [
       "     Order ID  Status  Order Date Shipping Date Refund Date  \\\n",
       "54     166827  billed  2019-09-30    2019-10-08         NaN   \n",
       "55     166827  billed  2019-09-30           NaN         NaN   \n",
       "195    256126  billed  2021-04-03    2021-04-07         NaN   \n",
       "196    256126  billed  2021-04-03           NaN         NaN   \n",
       "\n",
       "                                           Customer ID       City  \\\n",
       "54   4dd0c81d81cee897e87b2bc807b9b82a62a5ba3f978e55...  Kitchener   \n",
       "55   9b2d5b4678781e53038e91ea5324530a03f27dc1d0e5f6...        NaN   \n",
       "195  7e0a3e445c2e165b164b20375750818514f4c55fae9dfa...    Phoenix   \n",
       "196  9b2d5b4678781e53038e91ea5324530a03f27dc1d0e5f6...        NaN   \n",
       "\n",
       "    State/Province Postal/Zip Code                   Country  \\\n",
       "54              ON          N2H6M4                    Canada   \n",
       "55             NaN             NaN                       NaN   \n",
       "195             AZ      85009-5108  United States of America   \n",
       "196            NaN             NaN                       NaN   \n",
       "\n",
       "                            Product Title  \\\n",
       "54   DAFM synth - GENESIS YM2612 / YM3438   \n",
       "55   DAFM synth - GENESIS YM2612 / YM3438   \n",
       "195            DAFM synth - ARCADE YM2151   \n",
       "196              DAFM synth - Upgrade KIT   \n",
       "\n",
       "                                        Option Summary  Quantity  Unit Price  \\\n",
       "54   Knobs color: Metallic Red; OLED Display Color:...         1      174.99   \n",
       "55   OLED Display Color: Electric Blue; Knobs color...         1      174.99   \n",
       "195                             Knobs color: Rose Gold         1      259.99   \n",
       "196               Upgrade Kit: USB To Serial Converter         1       14.98   \n",
       "\n",
       "     Discount Price  Item Total  Shipping Total  Discount Total  Order Total  \n",
       "54           174.99      174.99           24.99             0.0       374.97  \n",
       "55           174.99      174.99             NaN             NaN          NaN  \n",
       "195          259.99      259.99           24.99             0.0       299.96  \n",
       "196           14.98       14.98             NaN             NaN          NaN  "
      ]
     },
     "execution_count": 84,
     "metadata": {},
     "output_type": "execute_result"
    }
   ],
   "source": [
    "customers_orders[customers_orders['Order ID'].duplicated(keep=False)]"
   ]
  },
  {
   "cell_type": "markdown",
   "id": "38c7db17",
   "metadata": {},
   "source": [
    "Exactly. There have been two orders where two items have been ordered. In these cases, the order information is not duplicated in both items. Let's group by order ID and update the remaining information."
   ]
  },
  {
   "cell_type": "code",
   "execution_count": 85,
   "id": "84c6066f",
   "metadata": {},
   "outputs": [
    {
     "name": "stdout",
     "output_type": "stream",
     "text": [
      "<class 'pandas.core.frame.DataFrame'>\n",
      "RangeIndex: 264 entries, 0 to 263\n",
      "Data columns (total 19 columns):\n",
      " #   Column           Non-Null Count  Dtype  \n",
      "---  ------           --------------  -----  \n",
      " 0   Order ID         264 non-null    int64  \n",
      " 1   Status           264 non-null    object \n",
      " 2   Order Date       264 non-null    object \n",
      " 3   Shipping Date    255 non-null    object \n",
      " 4   Refund Date      13 non-null     object \n",
      " 5   Customer ID      264 non-null    object \n",
      " 6   City             264 non-null    object \n",
      " 7   State/Province   262 non-null    object \n",
      " 8   Postal/Zip Code  264 non-null    object \n",
      " 9   Country          264 non-null    object \n",
      " 10  Product Title    264 non-null    object \n",
      " 11  Option Summary   264 non-null    object \n",
      " 12  Quantity         264 non-null    int64  \n",
      " 13  Unit Price       264 non-null    float64\n",
      " 14  Discount Price   264 non-null    float64\n",
      " 15  Item Total       264 non-null    float64\n",
      " 16  Shipping Total   264 non-null    float64\n",
      " 17  Discount Total   264 non-null    float64\n",
      " 18  Order Total      264 non-null    float64\n",
      "dtypes: float64(6), int64(2), object(11)\n",
      "memory usage: 39.3+ KB\n"
     ]
    }
   ],
   "source": [
    "columns_tofill = ['Shipping Date', 'City', 'State/Province', 'Postal/Zip Code', 'Country', 'Shipping Total', 'Discount Total', 'Order Total']\n",
    "\n",
    "for column in columns_tofill:\n",
    "    customers_orders[column] = customers_orders.groupby('Order ID')[column].transform(lambda x: x.ffill())\n",
    "\n",
    "customers_orders.info()"
   ]
  },
  {
   "cell_type": "markdown",
   "id": "5f8da036",
   "metadata": {},
   "source": [
    "There are still missing values in Shipping Date, Refund Date and State/Province.\n",
    "\n",
    "Shipping Date: There are nine orders that do not have a shipping date. Let's see why"
   ]
  },
  {
   "cell_type": "code",
   "execution_count": 86,
   "id": "97acef3a",
   "metadata": {
    "scrolled": true
   },
   "outputs": [
    {
     "data": {
      "text/html": [
       "<div>\n",
       "<style scoped>\n",
       "    .dataframe tbody tr th:only-of-type {\n",
       "        vertical-align: middle;\n",
       "    }\n",
       "\n",
       "    .dataframe tbody tr th {\n",
       "        vertical-align: top;\n",
       "    }\n",
       "\n",
       "    .dataframe thead th {\n",
       "        text-align: right;\n",
       "    }\n",
       "</style>\n",
       "<table border=\"1\" class=\"dataframe\">\n",
       "  <thead>\n",
       "    <tr style=\"text-align: right;\">\n",
       "      <th></th>\n",
       "      <th>Order ID</th>\n",
       "      <th>Status</th>\n",
       "      <th>Order Date</th>\n",
       "      <th>Shipping Date</th>\n",
       "      <th>Refund Date</th>\n",
       "      <th>Customer ID</th>\n",
       "      <th>City</th>\n",
       "      <th>State/Province</th>\n",
       "      <th>Postal/Zip Code</th>\n",
       "      <th>Country</th>\n",
       "      <th>Product Title</th>\n",
       "      <th>Option Summary</th>\n",
       "      <th>Quantity</th>\n",
       "      <th>Unit Price</th>\n",
       "      <th>Discount Price</th>\n",
       "      <th>Item Total</th>\n",
       "      <th>Shipping Total</th>\n",
       "      <th>Discount Total</th>\n",
       "      <th>Order Total</th>\n",
       "    </tr>\n",
       "  </thead>\n",
       "  <tbody>\n",
       "    <tr>\n",
       "      <th>26</th>\n",
       "      <td>153924</td>\n",
       "      <td>refunded</td>\n",
       "      <td>2019-06-06</td>\n",
       "      <td>NaN</td>\n",
       "      <td>2019-06-16</td>\n",
       "      <td>159f093907cc176ab57e859c19213d7b908307bf73d55a...</td>\n",
       "      <td>Ottawa</td>\n",
       "      <td>ON</td>\n",
       "      <td>K2J 4P3</td>\n",
       "      <td>Canada</td>\n",
       "      <td>DAFM synth - GENESIS YM2612 / YM3438</td>\n",
       "      <td>OLED Display Color: Electric Blue; Knobs color...</td>\n",
       "      <td>1</td>\n",
       "      <td>174.99</td>\n",
       "      <td>174.99</td>\n",
       "      <td>174.99</td>\n",
       "      <td>24.99</td>\n",
       "      <td>0.0</td>\n",
       "      <td>199.98</td>\n",
       "    </tr>\n",
       "    <tr>\n",
       "      <th>81</th>\n",
       "      <td>179904</td>\n",
       "      <td>refunded</td>\n",
       "      <td>2020-01-15</td>\n",
       "      <td>NaN</td>\n",
       "      <td>2020-01-16</td>\n",
       "      <td>e0cdc8183d4daf54548d2f40ef22c23c6a3889f199a995...</td>\n",
       "      <td>Tacoma</td>\n",
       "      <td>WA</td>\n",
       "      <td>98405</td>\n",
       "      <td>United States of America</td>\n",
       "      <td>DAFM synth - GENESIS YM2612 / YM3438</td>\n",
       "      <td>Knobs color: Urban Black; FM YAMAHA chip: YM26...</td>\n",
       "      <td>1</td>\n",
       "      <td>174.99</td>\n",
       "      <td>174.99</td>\n",
       "      <td>174.99</td>\n",
       "      <td>24.99</td>\n",
       "      <td>0.0</td>\n",
       "      <td>199.98</td>\n",
       "    </tr>\n",
       "    <tr>\n",
       "      <th>98</th>\n",
       "      <td>193505</td>\n",
       "      <td>refunded</td>\n",
       "      <td>2020-05-08</td>\n",
       "      <td>NaN</td>\n",
       "      <td>2020-05-22</td>\n",
       "      <td>108c224d3ef0ce006ed1e4b9b3e30e3acfb512c562d1a9...</td>\n",
       "      <td>Shime</td>\n",
       "      <td>Fukuoka</td>\n",
       "      <td>8112202</td>\n",
       "      <td>Japan</td>\n",
       "      <td>DAFM synth - GENESIS YM2612 / YM3438</td>\n",
       "      <td>Knobs color: Urban Black; OLED Display Color: ...</td>\n",
       "      <td>1</td>\n",
       "      <td>249.99</td>\n",
       "      <td>249.99</td>\n",
       "      <td>249.99</td>\n",
       "      <td>24.99</td>\n",
       "      <td>0.0</td>\n",
       "      <td>274.98</td>\n",
       "    </tr>\n",
       "    <tr>\n",
       "      <th>116</th>\n",
       "      <td>204797</td>\n",
       "      <td>refunded</td>\n",
       "      <td>2020-07-20</td>\n",
       "      <td>NaN</td>\n",
       "      <td>2020-07-20</td>\n",
       "      <td>da95cf8f688e01792724a48b134e61c606481eca724d77...</td>\n",
       "      <td>Snohomish</td>\n",
       "      <td>WA</td>\n",
       "      <td>98296-7608</td>\n",
       "      <td>United States of America</td>\n",
       "      <td>DAFM synth - Upgrade KIT</td>\n",
       "      <td>Upgrade Kit: Green Pill - 128 kbytes Microcont...</td>\n",
       "      <td>1</td>\n",
       "      <td>33.98</td>\n",
       "      <td>33.98</td>\n",
       "      <td>33.98</td>\n",
       "      <td>0.00</td>\n",
       "      <td>0.0</td>\n",
       "      <td>33.98</td>\n",
       "    </tr>\n",
       "    <tr>\n",
       "      <th>117</th>\n",
       "      <td>204985</td>\n",
       "      <td>refunded</td>\n",
       "      <td>2020-07-21</td>\n",
       "      <td>NaN</td>\n",
       "      <td>2020-07-21</td>\n",
       "      <td>16cc87c406335e0d9248ecc90769f263f19567c09bd210...</td>\n",
       "      <td>Oakland</td>\n",
       "      <td>CA</td>\n",
       "      <td>94609</td>\n",
       "      <td>United States of America</td>\n",
       "      <td>DAFM synth - Upgrade KIT</td>\n",
       "      <td>Upgrade Kit: Green Pill - 128 kbytes Microcont...</td>\n",
       "      <td>1</td>\n",
       "      <td>33.98</td>\n",
       "      <td>33.98</td>\n",
       "      <td>33.98</td>\n",
       "      <td>0.00</td>\n",
       "      <td>0.0</td>\n",
       "      <td>33.98</td>\n",
       "    </tr>\n",
       "    <tr>\n",
       "      <th>138</th>\n",
       "      <td>216979</td>\n",
       "      <td>refunded</td>\n",
       "      <td>2020-09-22</td>\n",
       "      <td>NaN</td>\n",
       "      <td>2020-09-30</td>\n",
       "      <td>80a7d106a7ba6c95b22261d7efa05ed9e90456f02748e7...</td>\n",
       "      <td>BENTLEY</td>\n",
       "      <td>WA</td>\n",
       "      <td>6102</td>\n",
       "      <td>Australia</td>\n",
       "      <td>DAFM synth - GENESIS YM2612 / YM3438</td>\n",
       "      <td>Knobs color: Urban Black; FM YAMAHA chip: YM2612</td>\n",
       "      <td>1</td>\n",
       "      <td>249.99</td>\n",
       "      <td>249.99</td>\n",
       "      <td>249.99</td>\n",
       "      <td>24.99</td>\n",
       "      <td>0.0</td>\n",
       "      <td>274.98</td>\n",
       "    </tr>\n",
       "    <tr>\n",
       "      <th>142</th>\n",
       "      <td>220003</td>\n",
       "      <td>refunded</td>\n",
       "      <td>2020-10-08</td>\n",
       "      <td>NaN</td>\n",
       "      <td>2020-10-08</td>\n",
       "      <td>2b399d7420dc7bc7af563099b028273c83adae8cf92fef...</td>\n",
       "      <td>Columbus</td>\n",
       "      <td>WI</td>\n",
       "      <td>53925-1763</td>\n",
       "      <td>United States of America</td>\n",
       "      <td>DAFM synth - Upgrade KIT</td>\n",
       "      <td>Upgrade Kit: Green Pill - 128 kbytes Microcont...</td>\n",
       "      <td>1</td>\n",
       "      <td>33.98</td>\n",
       "      <td>33.98</td>\n",
       "      <td>33.98</td>\n",
       "      <td>0.00</td>\n",
       "      <td>0.0</td>\n",
       "      <td>33.98</td>\n",
       "    </tr>\n",
       "    <tr>\n",
       "      <th>207</th>\n",
       "      <td>264226</td>\n",
       "      <td>refunded</td>\n",
       "      <td>2021-05-12</td>\n",
       "      <td>NaN</td>\n",
       "      <td>2021-05-15</td>\n",
       "      <td>65518f673f0f0ee95524bbfac829fac90915a87b89fe92...</td>\n",
       "      <td>Brighton</td>\n",
       "      <td>East Sussex</td>\n",
       "      <td>BN21FH</td>\n",
       "      <td>United Kingdom</td>\n",
       "      <td>DAFM synth - GENESIS YM2612 / YM3438</td>\n",
       "      <td>Knobs color: Urban Black; FM YAMAHA chip: YM3438</td>\n",
       "      <td>1</td>\n",
       "      <td>259.99</td>\n",
       "      <td>259.99</td>\n",
       "      <td>259.99</td>\n",
       "      <td>24.99</td>\n",
       "      <td>0.0</td>\n",
       "      <td>284.98</td>\n",
       "    </tr>\n",
       "    <tr>\n",
       "      <th>263</th>\n",
       "      <td>332621</td>\n",
       "      <td>billed</td>\n",
       "      <td>2022-06-12</td>\n",
       "      <td>NaN</td>\n",
       "      <td>NaN</td>\n",
       "      <td>cd36235e7711e378b3ec49eca87fc354ec2b528814c00f...</td>\n",
       "      <td>McMinnville</td>\n",
       "      <td>OR</td>\n",
       "      <td>97128-9554</td>\n",
       "      <td>United States of America</td>\n",
       "      <td>DAFM synth - GENESIS YM2612 / YM3438</td>\n",
       "      <td>Knobs color: Urban Black; FM YAMAHA chip: YM3438</td>\n",
       "      <td>1</td>\n",
       "      <td>269.99</td>\n",
       "      <td>269.99</td>\n",
       "      <td>269.99</td>\n",
       "      <td>24.99</td>\n",
       "      <td>0.0</td>\n",
       "      <td>294.98</td>\n",
       "    </tr>\n",
       "  </tbody>\n",
       "</table>\n",
       "</div>"
      ],
      "text/plain": [
       "     Order ID    Status  Order Date Shipping Date Refund Date  \\\n",
       "26     153924  refunded  2019-06-06           NaN  2019-06-16   \n",
       "81     179904  refunded  2020-01-15           NaN  2020-01-16   \n",
       "98     193505  refunded  2020-05-08           NaN  2020-05-22   \n",
       "116    204797  refunded  2020-07-20           NaN  2020-07-20   \n",
       "117    204985  refunded  2020-07-21           NaN  2020-07-21   \n",
       "138    216979  refunded  2020-09-22           NaN  2020-09-30   \n",
       "142    220003  refunded  2020-10-08           NaN  2020-10-08   \n",
       "207    264226  refunded  2021-05-12           NaN  2021-05-15   \n",
       "263    332621    billed  2022-06-12           NaN         NaN   \n",
       "\n",
       "                                           Customer ID         City  \\\n",
       "26   159f093907cc176ab57e859c19213d7b908307bf73d55a...       Ottawa   \n",
       "81   e0cdc8183d4daf54548d2f40ef22c23c6a3889f199a995...       Tacoma   \n",
       "98   108c224d3ef0ce006ed1e4b9b3e30e3acfb512c562d1a9...        Shime   \n",
       "116  da95cf8f688e01792724a48b134e61c606481eca724d77...    Snohomish   \n",
       "117  16cc87c406335e0d9248ecc90769f263f19567c09bd210...      Oakland   \n",
       "138  80a7d106a7ba6c95b22261d7efa05ed9e90456f02748e7...      BENTLEY   \n",
       "142  2b399d7420dc7bc7af563099b028273c83adae8cf92fef...     Columbus   \n",
       "207  65518f673f0f0ee95524bbfac829fac90915a87b89fe92...     Brighton   \n",
       "263  cd36235e7711e378b3ec49eca87fc354ec2b528814c00f...  McMinnville   \n",
       "\n",
       "    State/Province Postal/Zip Code                   Country  \\\n",
       "26              ON         K2J 4P3                    Canada   \n",
       "81              WA           98405  United States of America   \n",
       "98         Fukuoka         8112202                     Japan   \n",
       "116             WA      98296-7608  United States of America   \n",
       "117             CA           94609  United States of America   \n",
       "138             WA            6102                 Australia   \n",
       "142             WI      53925-1763  United States of America   \n",
       "207    East Sussex          BN21FH            United Kingdom   \n",
       "263             OR      97128-9554  United States of America   \n",
       "\n",
       "                            Product Title  \\\n",
       "26   DAFM synth - GENESIS YM2612 / YM3438   \n",
       "81   DAFM synth - GENESIS YM2612 / YM3438   \n",
       "98   DAFM synth - GENESIS YM2612 / YM3438   \n",
       "116              DAFM synth - Upgrade KIT   \n",
       "117              DAFM synth - Upgrade KIT   \n",
       "138  DAFM synth - GENESIS YM2612 / YM3438   \n",
       "142              DAFM synth - Upgrade KIT   \n",
       "207  DAFM synth - GENESIS YM2612 / YM3438   \n",
       "263  DAFM synth - GENESIS YM2612 / YM3438   \n",
       "\n",
       "                                        Option Summary  Quantity  Unit Price  \\\n",
       "26   OLED Display Color: Electric Blue; Knobs color...         1      174.99   \n",
       "81   Knobs color: Urban Black; FM YAMAHA chip: YM26...         1      174.99   \n",
       "98   Knobs color: Urban Black; OLED Display Color: ...         1      249.99   \n",
       "116  Upgrade Kit: Green Pill - 128 kbytes Microcont...         1       33.98   \n",
       "117  Upgrade Kit: Green Pill - 128 kbytes Microcont...         1       33.98   \n",
       "138   Knobs color: Urban Black; FM YAMAHA chip: YM2612         1      249.99   \n",
       "142  Upgrade Kit: Green Pill - 128 kbytes Microcont...         1       33.98   \n",
       "207   Knobs color: Urban Black; FM YAMAHA chip: YM3438         1      259.99   \n",
       "263   Knobs color: Urban Black; FM YAMAHA chip: YM3438         1      269.99   \n",
       "\n",
       "     Discount Price  Item Total  Shipping Total  Discount Total  Order Total  \n",
       "26           174.99      174.99           24.99             0.0       199.98  \n",
       "81           174.99      174.99           24.99             0.0       199.98  \n",
       "98           249.99      249.99           24.99             0.0       274.98  \n",
       "116           33.98       33.98            0.00             0.0        33.98  \n",
       "117           33.98       33.98            0.00             0.0        33.98  \n",
       "138          249.99      249.99           24.99             0.0       274.98  \n",
       "142           33.98       33.98            0.00             0.0        33.98  \n",
       "207          259.99      259.99           24.99             0.0       284.98  \n",
       "263          269.99      269.99           24.99             0.0       294.98  "
      ]
     },
     "execution_count": 86,
     "metadata": {},
     "output_type": "execute_result"
    }
   ],
   "source": [
    "customers_orders[customers_orders['Shipping Date'].isnull()]"
   ]
  },
  {
   "cell_type": "markdown",
   "id": "fdb91183",
   "metadata": {},
   "source": [
    "As you can see, eight of them correspond to canceled orders with a refund and it surely corresponds to cancellations prior to shipping. In the ninth row it is simply a recent order that has not yet been shipped."
   ]
  },
  {
   "cell_type": "markdown",
   "id": "058b9e00",
   "metadata": {},
   "source": [
    "Regarding to Refund Date column it is clear that when there is no refund this column is empty.\n",
    "Finally let's see why there are missing values in State/Province column."
   ]
  },
  {
   "cell_type": "code",
   "execution_count": 87,
   "id": "068157b0",
   "metadata": {
    "scrolled": true
   },
   "outputs": [
    {
     "data": {
      "text/html": [
       "<div>\n",
       "<style scoped>\n",
       "    .dataframe tbody tr th:only-of-type {\n",
       "        vertical-align: middle;\n",
       "    }\n",
       "\n",
       "    .dataframe tbody tr th {\n",
       "        vertical-align: top;\n",
       "    }\n",
       "\n",
       "    .dataframe thead th {\n",
       "        text-align: right;\n",
       "    }\n",
       "</style>\n",
       "<table border=\"1\" class=\"dataframe\">\n",
       "  <thead>\n",
       "    <tr style=\"text-align: right;\">\n",
       "      <th></th>\n",
       "      <th>Order ID</th>\n",
       "      <th>Status</th>\n",
       "      <th>Order Date</th>\n",
       "      <th>Shipping Date</th>\n",
       "      <th>Refund Date</th>\n",
       "      <th>Customer ID</th>\n",
       "      <th>City</th>\n",
       "      <th>State/Province</th>\n",
       "      <th>Postal/Zip Code</th>\n",
       "      <th>Country</th>\n",
       "      <th>Product Title</th>\n",
       "      <th>Option Summary</th>\n",
       "      <th>Quantity</th>\n",
       "      <th>Unit Price</th>\n",
       "      <th>Discount Price</th>\n",
       "      <th>Item Total</th>\n",
       "      <th>Shipping Total</th>\n",
       "      <th>Discount Total</th>\n",
       "      <th>Order Total</th>\n",
       "    </tr>\n",
       "  </thead>\n",
       "  <tbody>\n",
       "    <tr>\n",
       "      <th>167</th>\n",
       "      <td>235588</td>\n",
       "      <td>refunded</td>\n",
       "      <td>2020-12-14</td>\n",
       "      <td>2020-12-20</td>\n",
       "      <td>2021-06-09</td>\n",
       "      <td>fc7799bbdd95b92d83288e9063128cd625070e6b45ccea...</td>\n",
       "      <td>Tokyo</td>\n",
       "      <td>NaN</td>\n",
       "      <td>1580082</td>\n",
       "      <td>Japan</td>\n",
       "      <td>DAFM synth - ARCADE YM2151</td>\n",
       "      <td>Knobs color: Metallic Red</td>\n",
       "      <td>1</td>\n",
       "      <td>249.99</td>\n",
       "      <td>249.99</td>\n",
       "      <td>249.99</td>\n",
       "      <td>24.99</td>\n",
       "      <td>0.0</td>\n",
       "      <td>274.98</td>\n",
       "    </tr>\n",
       "    <tr>\n",
       "      <th>170</th>\n",
       "      <td>239280</td>\n",
       "      <td>billed</td>\n",
       "      <td>2021-01-06</td>\n",
       "      <td>2021-01-11</td>\n",
       "      <td>NaN</td>\n",
       "      <td>fc7799bbdd95b92d83288e9063128cd625070e6b45ccea...</td>\n",
       "      <td>Tokyo</td>\n",
       "      <td>NaN</td>\n",
       "      <td>1580082</td>\n",
       "      <td>Japan</td>\n",
       "      <td>DAFM synth - GENESIS YM2612 / YM3438</td>\n",
       "      <td>Knobs color: Urban Black; FM YAMAHA chip: YM2612</td>\n",
       "      <td>1</td>\n",
       "      <td>249.99</td>\n",
       "      <td>249.99</td>\n",
       "      <td>249.99</td>\n",
       "      <td>24.99</td>\n",
       "      <td>0.0</td>\n",
       "      <td>274.98</td>\n",
       "    </tr>\n",
       "  </tbody>\n",
       "</table>\n",
       "</div>"
      ],
      "text/plain": [
       "     Order ID    Status  Order Date Shipping Date Refund Date  \\\n",
       "167    235588  refunded  2020-12-14    2020-12-20  2021-06-09   \n",
       "170    239280    billed  2021-01-06    2021-01-11         NaN   \n",
       "\n",
       "                                           Customer ID   City State/Province  \\\n",
       "167  fc7799bbdd95b92d83288e9063128cd625070e6b45ccea...  Tokyo            NaN   \n",
       "170  fc7799bbdd95b92d83288e9063128cd625070e6b45ccea...  Tokyo            NaN   \n",
       "\n",
       "    Postal/Zip Code Country                         Product Title  \\\n",
       "167         1580082   Japan            DAFM synth - ARCADE YM2151   \n",
       "170         1580082   Japan  DAFM synth - GENESIS YM2612 / YM3438   \n",
       "\n",
       "                                       Option Summary  Quantity  Unit Price  \\\n",
       "167                         Knobs color: Metallic Red         1      249.99   \n",
       "170  Knobs color: Urban Black; FM YAMAHA chip: YM2612         1      249.99   \n",
       "\n",
       "     Discount Price  Item Total  Shipping Total  Discount Total  Order Total  \n",
       "167          249.99      249.99           24.99             0.0       274.98  \n",
       "170          249.99      249.99           24.99             0.0       274.98  "
      ]
     },
     "execution_count": 87,
     "metadata": {},
     "output_type": "execute_result"
    }
   ],
   "source": [
    "customers_orders[customers_orders['State/Province'].isnull()]"
   ]
  },
  {
   "cell_type": "markdown",
   "id": "6d49db20",
   "metadata": {},
   "source": [
    "Nothing critical for now. We leave it as is"
   ]
  },
  {
   "cell_type": "markdown",
   "id": "9c28199d",
   "metadata": {},
   "source": [
    "After that we will create a new column using the Quantity and Status columns. The new column will be called Refunded Quantity"
   ]
  },
  {
   "cell_type": "code",
   "execution_count": 88,
   "id": "97362480",
   "metadata": {},
   "outputs": [
    {
     "data": {
      "text/html": [
       "<div>\n",
       "<style scoped>\n",
       "    .dataframe tbody tr th:only-of-type {\n",
       "        vertical-align: middle;\n",
       "    }\n",
       "\n",
       "    .dataframe tbody tr th {\n",
       "        vertical-align: top;\n",
       "    }\n",
       "\n",
       "    .dataframe thead th {\n",
       "        text-align: right;\n",
       "    }\n",
       "</style>\n",
       "<table border=\"1\" class=\"dataframe\">\n",
       "  <thead>\n",
       "    <tr style=\"text-align: right;\">\n",
       "      <th></th>\n",
       "      <th>Order ID</th>\n",
       "      <th>Status</th>\n",
       "      <th>Order Date</th>\n",
       "      <th>Shipping Date</th>\n",
       "      <th>Refund Date</th>\n",
       "      <th>Customer ID</th>\n",
       "      <th>City</th>\n",
       "      <th>State/Province</th>\n",
       "      <th>Postal/Zip Code</th>\n",
       "      <th>Country</th>\n",
       "      <th>Product Title</th>\n",
       "      <th>Option Summary</th>\n",
       "      <th>Quantity</th>\n",
       "      <th>Unit Price</th>\n",
       "      <th>Discount Price</th>\n",
       "      <th>Item Total</th>\n",
       "      <th>Shipping Total</th>\n",
       "      <th>Discount Total</th>\n",
       "      <th>Order Total</th>\n",
       "      <th>Refunded_Quantity</th>\n",
       "    </tr>\n",
       "  </thead>\n",
       "  <tbody>\n",
       "    <tr>\n",
       "      <th>26</th>\n",
       "      <td>153924</td>\n",
       "      <td>refunded</td>\n",
       "      <td>2019-06-06</td>\n",
       "      <td>NaN</td>\n",
       "      <td>2019-06-16</td>\n",
       "      <td>159f093907cc176ab57e859c19213d7b908307bf73d55a...</td>\n",
       "      <td>Ottawa</td>\n",
       "      <td>ON</td>\n",
       "      <td>K2J 4P3</td>\n",
       "      <td>Canada</td>\n",
       "      <td>DAFM synth - GENESIS YM2612 / YM3438</td>\n",
       "      <td>OLED Display Color: Electric Blue; Knobs color...</td>\n",
       "      <td>1</td>\n",
       "      <td>174.99</td>\n",
       "      <td>174.99</td>\n",
       "      <td>174.99</td>\n",
       "      <td>24.99</td>\n",
       "      <td>0.0</td>\n",
       "      <td>199.98</td>\n",
       "      <td>1</td>\n",
       "    </tr>\n",
       "    <tr>\n",
       "      <th>32</th>\n",
       "      <td>156880</td>\n",
       "      <td>refunded</td>\n",
       "      <td>2019-07-03</td>\n",
       "      <td>2019-07-06</td>\n",
       "      <td>2019-07-29</td>\n",
       "      <td>8a54cfa8c6f9b391b313500e8b359c3cc336c76412581a...</td>\n",
       "      <td>Madrid</td>\n",
       "      <td>Madrid</td>\n",
       "      <td>28046</td>\n",
       "      <td>Spain</td>\n",
       "      <td>DAFM synth - GENESIS YM2612 / YM3438</td>\n",
       "      <td>OLED Display Color: Electric Blue; Knobs color...</td>\n",
       "      <td>1</td>\n",
       "      <td>174.99</td>\n",
       "      <td>174.99</td>\n",
       "      <td>174.99</td>\n",
       "      <td>5.99</td>\n",
       "      <td>0.0</td>\n",
       "      <td>180.98</td>\n",
       "      <td>1</td>\n",
       "    </tr>\n",
       "    <tr>\n",
       "      <th>81</th>\n",
       "      <td>179904</td>\n",
       "      <td>refunded</td>\n",
       "      <td>2020-01-15</td>\n",
       "      <td>NaN</td>\n",
       "      <td>2020-01-16</td>\n",
       "      <td>e0cdc8183d4daf54548d2f40ef22c23c6a3889f199a995...</td>\n",
       "      <td>Tacoma</td>\n",
       "      <td>WA</td>\n",
       "      <td>98405</td>\n",
       "      <td>United States of America</td>\n",
       "      <td>DAFM synth - GENESIS YM2612 / YM3438</td>\n",
       "      <td>Knobs color: Urban Black; FM YAMAHA chip: YM26...</td>\n",
       "      <td>1</td>\n",
       "      <td>174.99</td>\n",
       "      <td>174.99</td>\n",
       "      <td>174.99</td>\n",
       "      <td>24.99</td>\n",
       "      <td>0.0</td>\n",
       "      <td>199.98</td>\n",
       "      <td>1</td>\n",
       "    </tr>\n",
       "    <tr>\n",
       "      <th>98</th>\n",
       "      <td>193505</td>\n",
       "      <td>refunded</td>\n",
       "      <td>2020-05-08</td>\n",
       "      <td>NaN</td>\n",
       "      <td>2020-05-22</td>\n",
       "      <td>108c224d3ef0ce006ed1e4b9b3e30e3acfb512c562d1a9...</td>\n",
       "      <td>Shime</td>\n",
       "      <td>Fukuoka</td>\n",
       "      <td>8112202</td>\n",
       "      <td>Japan</td>\n",
       "      <td>DAFM synth - GENESIS YM2612 / YM3438</td>\n",
       "      <td>Knobs color: Urban Black; OLED Display Color: ...</td>\n",
       "      <td>1</td>\n",
       "      <td>249.99</td>\n",
       "      <td>249.99</td>\n",
       "      <td>249.99</td>\n",
       "      <td>24.99</td>\n",
       "      <td>0.0</td>\n",
       "      <td>274.98</td>\n",
       "      <td>1</td>\n",
       "    </tr>\n",
       "    <tr>\n",
       "      <th>115</th>\n",
       "      <td>203694</td>\n",
       "      <td>refunded</td>\n",
       "      <td>2020-07-12</td>\n",
       "      <td>2020-07-23</td>\n",
       "      <td>2020-10-25</td>\n",
       "      <td>d3e0eed6c223da5f38558b7cddee4f1a886f908993a5e1...</td>\n",
       "      <td>Las Vegas</td>\n",
       "      <td>NV</td>\n",
       "      <td>89102</td>\n",
       "      <td>United States of America</td>\n",
       "      <td>DAFM synth - GENESIS YM2612 / YM3438</td>\n",
       "      <td>FM YAMAHA chip: YM2612; Knobs color: Rose Gold</td>\n",
       "      <td>1</td>\n",
       "      <td>249.99</td>\n",
       "      <td>249.99</td>\n",
       "      <td>249.99</td>\n",
       "      <td>24.99</td>\n",
       "      <td>0.0</td>\n",
       "      <td>274.98</td>\n",
       "      <td>1</td>\n",
       "    </tr>\n",
       "  </tbody>\n",
       "</table>\n",
       "</div>"
      ],
      "text/plain": [
       "     Order ID    Status  Order Date Shipping Date Refund Date  \\\n",
       "26     153924  refunded  2019-06-06           NaN  2019-06-16   \n",
       "32     156880  refunded  2019-07-03    2019-07-06  2019-07-29   \n",
       "81     179904  refunded  2020-01-15           NaN  2020-01-16   \n",
       "98     193505  refunded  2020-05-08           NaN  2020-05-22   \n",
       "115    203694  refunded  2020-07-12    2020-07-23  2020-10-25   \n",
       "\n",
       "                                           Customer ID       City  \\\n",
       "26   159f093907cc176ab57e859c19213d7b908307bf73d55a...     Ottawa   \n",
       "32   8a54cfa8c6f9b391b313500e8b359c3cc336c76412581a...     Madrid   \n",
       "81   e0cdc8183d4daf54548d2f40ef22c23c6a3889f199a995...     Tacoma   \n",
       "98   108c224d3ef0ce006ed1e4b9b3e30e3acfb512c562d1a9...      Shime   \n",
       "115  d3e0eed6c223da5f38558b7cddee4f1a886f908993a5e1...  Las Vegas   \n",
       "\n",
       "    State/Province Postal/Zip Code                   Country  \\\n",
       "26              ON         K2J 4P3                    Canada   \n",
       "32          Madrid           28046                     Spain   \n",
       "81              WA           98405  United States of America   \n",
       "98         Fukuoka         8112202                     Japan   \n",
       "115             NV           89102  United States of America   \n",
       "\n",
       "                            Product Title  \\\n",
       "26   DAFM synth - GENESIS YM2612 / YM3438   \n",
       "32   DAFM synth - GENESIS YM2612 / YM3438   \n",
       "81   DAFM synth - GENESIS YM2612 / YM3438   \n",
       "98   DAFM synth - GENESIS YM2612 / YM3438   \n",
       "115  DAFM synth - GENESIS YM2612 / YM3438   \n",
       "\n",
       "                                        Option Summary  Quantity  Unit Price  \\\n",
       "26   OLED Display Color: Electric Blue; Knobs color...         1      174.99   \n",
       "32   OLED Display Color: Electric Blue; Knobs color...         1      174.99   \n",
       "81   Knobs color: Urban Black; FM YAMAHA chip: YM26...         1      174.99   \n",
       "98   Knobs color: Urban Black; OLED Display Color: ...         1      249.99   \n",
       "115     FM YAMAHA chip: YM2612; Knobs color: Rose Gold         1      249.99   \n",
       "\n",
       "     Discount Price  Item Total  Shipping Total  Discount Total  Order Total  \\\n",
       "26           174.99      174.99           24.99             0.0       199.98   \n",
       "32           174.99      174.99            5.99             0.0       180.98   \n",
       "81           174.99      174.99           24.99             0.0       199.98   \n",
       "98           249.99      249.99           24.99             0.0       274.98   \n",
       "115          249.99      249.99           24.99             0.0       274.98   \n",
       "\n",
       "     Refunded_Quantity  \n",
       "26                   1  \n",
       "32                   1  \n",
       "81                   1  \n",
       "98                   1  \n",
       "115                  1  "
      ]
     },
     "execution_count": 88,
     "metadata": {},
     "output_type": "execute_result"
    }
   ],
   "source": [
    "def refunded_orders(row):\n",
    "    if row['Status'] == 'refunded':\n",
    "        return 1\n",
    "    if row['Status'] == 'billed':\n",
    "        return 0\n",
    "\n",
    "customers_orders['Refunded_Quantity'] = customers_orders.apply (lambda row: refunded_orders(row), axis=1)\n",
    "\n",
    "customers_orders[customers_orders['Status']=='refunded'].head()"
   ]
  },
  {
   "cell_type": "markdown",
   "id": "e40e928c",
   "metadata": {},
   "source": [
    "# 1. Products ordered\n",
    "\n",
    "It is the count of the products ordered in Quantity column by a customer\n",
    "\n",
    "Create functions to identify customers who order multiple products"
   ]
  },
  {
   "cell_type": "code",
   "execution_count": 89,
   "id": "0680e2a5",
   "metadata": {},
   "outputs": [],
   "source": [
    "def encode_column(column):\n",
    "    if column > 0:\n",
    "        return 1\n",
    "    if column <= 0:\n",
    "        return 0\n",
    "\n",
    "\n",
    "def aggregate_by_ordered_quantity(dataframe, column_list):\n",
    "    '''this function:\n",
    "    1. aggregates a given dataframe by column list, \n",
    "    as a result creates a aggregated dataframe by counting the ordered item quantities\n",
    "\n",
    "    2. adds number_of_X ordered where X is the second element in the column_list \n",
    "    to the aggregated dataframe by encoding ordered items into 1\n",
    "\n",
    "    3. creates final dataframe containing information about \n",
    "    how many of X are ordered, based on the first element passed in the column list'''\n",
    "\n",
    "    aggregated_dataframe = (dataframe\n",
    "                            .groupby(column_list)\n",
    "                            .Quantity.count()\n",
    "                            .reset_index())\n",
    "\n",
    "    aggregated_dataframe[\"products_ordered\"] = (aggregated_dataframe\n",
    "                                                 .Quantity\n",
    "                                                 .apply(encode_column))\n",
    "\n",
    "    final_dataframe = (aggregated_dataframe\n",
    "                       .groupby(column_list[0])\n",
    "                       .products_ordered.sum() # aligned with the added column name\n",
    "                       .reset_index())\n",
    "\n",
    "    return final_dataframe"
   ]
  },
  {
   "cell_type": "code",
   "execution_count": 90,
   "id": "353882c0",
   "metadata": {},
   "outputs": [],
   "source": [
    "# apply functions to customers_orders\n",
    "customers = aggregate_by_ordered_quantity(customers_orders, [\"Customer ID\", \"Product Title\"])"
   ]
  },
  {
   "cell_type": "code",
   "execution_count": 91,
   "id": "3b36ffa8",
   "metadata": {},
   "outputs": [
    {
     "data": {
      "text/html": [
       "<div>\n",
       "<style scoped>\n",
       "    .dataframe tbody tr th:only-of-type {\n",
       "        vertical-align: middle;\n",
       "    }\n",
       "\n",
       "    .dataframe tbody tr th {\n",
       "        vertical-align: top;\n",
       "    }\n",
       "\n",
       "    .dataframe thead th {\n",
       "        text-align: right;\n",
       "    }\n",
       "</style>\n",
       "<table border=\"1\" class=\"dataframe\">\n",
       "  <thead>\n",
       "    <tr style=\"text-align: right;\">\n",
       "      <th></th>\n",
       "      <th>Customer ID</th>\n",
       "      <th>products_ordered</th>\n",
       "    </tr>\n",
       "  </thead>\n",
       "  <tbody>\n",
       "    <tr>\n",
       "      <th>0</th>\n",
       "      <td>02d256b0945f57b2c67f2cf6de70b7d49846e77cb09977...</td>\n",
       "      <td>1</td>\n",
       "    </tr>\n",
       "    <tr>\n",
       "      <th>1</th>\n",
       "      <td>04dc33d3e53a30be927e33fedee9a25dcbd7ecaf3ad001...</td>\n",
       "      <td>2</td>\n",
       "    </tr>\n",
       "    <tr>\n",
       "      <th>2</th>\n",
       "      <td>053e199141a85eeef526609bd0d9340828f1f5135adab4...</td>\n",
       "      <td>1</td>\n",
       "    </tr>\n",
       "    <tr>\n",
       "      <th>3</th>\n",
       "      <td>05f39745a03d75243b0135a7b893ebb22303ac5c011305...</td>\n",
       "      <td>1</td>\n",
       "    </tr>\n",
       "    <tr>\n",
       "      <th>4</th>\n",
       "      <td>0618510568bedd20b573f8bfeca0ceda5753c949015800...</td>\n",
       "      <td>1</td>\n",
       "    </tr>\n",
       "  </tbody>\n",
       "</table>\n",
       "</div>"
      ],
      "text/plain": [
       "                                         Customer ID  products_ordered\n",
       "0  02d256b0945f57b2c67f2cf6de70b7d49846e77cb09977...                 1\n",
       "1  04dc33d3e53a30be927e33fedee9a25dcbd7ecaf3ad001...                 2\n",
       "2  053e199141a85eeef526609bd0d9340828f1f5135adab4...                 1\n",
       "3  05f39745a03d75243b0135a7b893ebb22303ac5c011305...                 1\n",
       "4  0618510568bedd20b573f8bfeca0ceda5753c949015800...                 1"
      ]
     },
     "execution_count": 91,
     "metadata": {},
     "output_type": "execute_result"
    }
   ],
   "source": [
    "customers.head()"
   ]
  },
  {
   "cell_type": "markdown",
   "id": "1a13ff23",
   "metadata": {},
   "source": [
    "# 2. Average Return Rate\n",
    "\n",
    "It is the ratio of returned item quantity and ordered item quantity. This ratio is first calculated per order and then averaged for all orders of a customer."
   ]
  },
  {
   "cell_type": "code",
   "execution_count": 92,
   "id": "e14449c9",
   "metadata": {},
   "outputs": [],
   "source": [
    "# aggregate data per customer_id and order_id, \n",
    "# to see ordered item sum and returned item sum\n",
    "ordered_sum_by_customer_order = (customers_orders\n",
    "                                 .groupby([\"Customer ID\", \"Order ID\"])\n",
    "                                 .Quantity.sum()\n",
    "                                 .reset_index())\n",
    "\n",
    "returned_sum_by_customer_order = (customers_orders\n",
    "                                  .groupby([\"Customer ID\", \"Order ID\"])\n",
    "                                  .Refunded_Quantity.sum()\n",
    "                                  .reset_index())\n",
    "\n",
    "# merge two dataframes to be able to calculate unit return rate\n",
    "ordered_returned_sums = pd.merge(ordered_sum_by_customer_order, returned_sum_by_customer_order)\n"
   ]
  },
  {
   "cell_type": "code",
   "execution_count": 93,
   "id": "272c53f4",
   "metadata": {},
   "outputs": [],
   "source": [
    "# calculate unit return rate per order and customer\n",
    "ordered_returned_sums[\"average_return_rate\"] = ( \n",
    "                                             ordered_returned_sums[\"Refunded_Quantity\"] /\n",
    "                                             ordered_returned_sums[\"Quantity\"])"
   ]
  },
  {
   "cell_type": "code",
   "execution_count": 94,
   "id": "b06bc926",
   "metadata": {},
   "outputs": [
    {
     "data": {
      "text/html": [
       "<div>\n",
       "<style scoped>\n",
       "    .dataframe tbody tr th:only-of-type {\n",
       "        vertical-align: middle;\n",
       "    }\n",
       "\n",
       "    .dataframe tbody tr th {\n",
       "        vertical-align: top;\n",
       "    }\n",
       "\n",
       "    .dataframe thead th {\n",
       "        text-align: right;\n",
       "    }\n",
       "</style>\n",
       "<table border=\"1\" class=\"dataframe\">\n",
       "  <thead>\n",
       "    <tr style=\"text-align: right;\">\n",
       "      <th></th>\n",
       "      <th>Customer ID</th>\n",
       "      <th>Order ID</th>\n",
       "      <th>Quantity</th>\n",
       "      <th>Refunded_Quantity</th>\n",
       "      <th>average_return_rate</th>\n",
       "    </tr>\n",
       "  </thead>\n",
       "  <tbody>\n",
       "    <tr>\n",
       "      <th>0</th>\n",
       "      <td>02d256b0945f57b2c67f2cf6de70b7d49846e77cb09977...</td>\n",
       "      <td>318128</td>\n",
       "      <td>1</td>\n",
       "      <td>0</td>\n",
       "      <td>0.0</td>\n",
       "    </tr>\n",
       "    <tr>\n",
       "      <th>1</th>\n",
       "      <td>04dc33d3e53a30be927e33fedee9a25dcbd7ecaf3ad001...</td>\n",
       "      <td>267893</td>\n",
       "      <td>1</td>\n",
       "      <td>0</td>\n",
       "      <td>0.0</td>\n",
       "    </tr>\n",
       "    <tr>\n",
       "      <th>2</th>\n",
       "      <td>04dc33d3e53a30be927e33fedee9a25dcbd7ecaf3ad001...</td>\n",
       "      <td>270070</td>\n",
       "      <td>1</td>\n",
       "      <td>0</td>\n",
       "      <td>0.0</td>\n",
       "    </tr>\n",
       "    <tr>\n",
       "      <th>3</th>\n",
       "      <td>053e199141a85eeef526609bd0d9340828f1f5135adab4...</td>\n",
       "      <td>147569</td>\n",
       "      <td>1</td>\n",
       "      <td>0</td>\n",
       "      <td>0.0</td>\n",
       "    </tr>\n",
       "    <tr>\n",
       "      <th>4</th>\n",
       "      <td>05f39745a03d75243b0135a7b893ebb22303ac5c011305...</td>\n",
       "      <td>155539</td>\n",
       "      <td>1</td>\n",
       "      <td>0</td>\n",
       "      <td>0.0</td>\n",
       "    </tr>\n",
       "  </tbody>\n",
       "</table>\n",
       "</div>"
      ],
      "text/plain": [
       "                                         Customer ID  Order ID  Quantity  \\\n",
       "0  02d256b0945f57b2c67f2cf6de70b7d49846e77cb09977...    318128         1   \n",
       "1  04dc33d3e53a30be927e33fedee9a25dcbd7ecaf3ad001...    267893         1   \n",
       "2  04dc33d3e53a30be927e33fedee9a25dcbd7ecaf3ad001...    270070         1   \n",
       "3  053e199141a85eeef526609bd0d9340828f1f5135adab4...    147569         1   \n",
       "4  05f39745a03d75243b0135a7b893ebb22303ac5c011305...    155539         1   \n",
       "\n",
       "   Refunded_Quantity  average_return_rate  \n",
       "0                  0                  0.0  \n",
       "1                  0                  0.0  \n",
       "2                  0                  0.0  \n",
       "3                  0                  0.0  \n",
       "4                  0                  0.0  "
      ]
     },
     "execution_count": 94,
     "metadata": {},
     "output_type": "execute_result"
    }
   ],
   "source": [
    "ordered_returned_sums.head()"
   ]
  },
  {
   "cell_type": "code",
   "execution_count": 95,
   "id": "47220c0f",
   "metadata": {},
   "outputs": [],
   "source": [
    "# take average of the unit return rate for all orders of a customer\n",
    "customer_return_rate = (ordered_returned_sums\n",
    "                        .groupby(\"Customer ID\")\n",
    "                        .average_return_rate\n",
    "                        .mean()\n",
    "                        .reset_index())"
   ]
  },
  {
   "cell_type": "code",
   "execution_count": 96,
   "id": "0340a302",
   "metadata": {},
   "outputs": [
    {
     "data": {
      "text/html": [
       "<div>\n",
       "<style scoped>\n",
       "    .dataframe tbody tr th:only-of-type {\n",
       "        vertical-align: middle;\n",
       "    }\n",
       "\n",
       "    .dataframe tbody tr th {\n",
       "        vertical-align: top;\n",
       "    }\n",
       "\n",
       "    .dataframe thead th {\n",
       "        text-align: right;\n",
       "    }\n",
       "</style>\n",
       "<table border=\"1\" class=\"dataframe\">\n",
       "  <thead>\n",
       "    <tr style=\"text-align: right;\">\n",
       "      <th></th>\n",
       "      <th>average return rate</th>\n",
       "      <th>count of unit return rate</th>\n",
       "    </tr>\n",
       "  </thead>\n",
       "  <tbody>\n",
       "    <tr>\n",
       "      <th>0</th>\n",
       "      <td>0.0</td>\n",
       "      <td>223</td>\n",
       "    </tr>\n",
       "    <tr>\n",
       "      <th>2</th>\n",
       "      <td>0.5</td>\n",
       "      <td>5</td>\n",
       "    </tr>\n",
       "    <tr>\n",
       "      <th>1</th>\n",
       "      <td>1.0</td>\n",
       "      <td>8</td>\n",
       "    </tr>\n",
       "  </tbody>\n",
       "</table>\n",
       "</div>"
      ],
      "text/plain": [
       "   average return rate  count of unit return rate\n",
       "0                  0.0                        223\n",
       "2                  0.5                          5\n",
       "1                  1.0                          8"
      ]
     },
     "execution_count": 96,
     "metadata": {},
     "output_type": "execute_result"
    }
   ],
   "source": [
    "return_rates = pd.DataFrame(customer_return_rate[\"average_return_rate\"]\n",
    "                            .value_counts()\n",
    "                            .reset_index())\n",
    "\n",
    "return_rates.rename(columns=\n",
    "                    {\"index\": \"average return rate\",\n",
    "                     \"average_return_rate\": \"count of unit return rate\"},\n",
    "                    inplace=True)\n",
    "\n",
    "return_rates.sort_values(by=\"average return rate\")"
   ]
  },
  {
   "cell_type": "code",
   "execution_count": 97,
   "id": "375ae201",
   "metadata": {},
   "outputs": [],
   "source": [
    "# add average_return_rate to customers dataframe\n",
    "customers = pd.merge(customers,\n",
    "                     customer_return_rate,\n",
    "                     on=\"Customer ID\")"
   ]
  },
  {
   "cell_type": "code",
   "execution_count": 98,
   "id": "4db7570b",
   "metadata": {},
   "outputs": [
    {
     "data": {
      "text/html": [
       "<div>\n",
       "<style scoped>\n",
       "    .dataframe tbody tr th:only-of-type {\n",
       "        vertical-align: middle;\n",
       "    }\n",
       "\n",
       "    .dataframe tbody tr th {\n",
       "        vertical-align: top;\n",
       "    }\n",
       "\n",
       "    .dataframe thead th {\n",
       "        text-align: right;\n",
       "    }\n",
       "</style>\n",
       "<table border=\"1\" class=\"dataframe\">\n",
       "  <thead>\n",
       "    <tr style=\"text-align: right;\">\n",
       "      <th></th>\n",
       "      <th>Customer ID</th>\n",
       "      <th>products_ordered</th>\n",
       "      <th>average_return_rate</th>\n",
       "    </tr>\n",
       "  </thead>\n",
       "  <tbody>\n",
       "    <tr>\n",
       "      <th>0</th>\n",
       "      <td>02d256b0945f57b2c67f2cf6de70b7d49846e77cb09977...</td>\n",
       "      <td>1</td>\n",
       "      <td>0.0</td>\n",
       "    </tr>\n",
       "    <tr>\n",
       "      <th>1</th>\n",
       "      <td>04dc33d3e53a30be927e33fedee9a25dcbd7ecaf3ad001...</td>\n",
       "      <td>2</td>\n",
       "      <td>0.0</td>\n",
       "    </tr>\n",
       "    <tr>\n",
       "      <th>2</th>\n",
       "      <td>053e199141a85eeef526609bd0d9340828f1f5135adab4...</td>\n",
       "      <td>1</td>\n",
       "      <td>0.0</td>\n",
       "    </tr>\n",
       "    <tr>\n",
       "      <th>3</th>\n",
       "      <td>05f39745a03d75243b0135a7b893ebb22303ac5c011305...</td>\n",
       "      <td>1</td>\n",
       "      <td>0.0</td>\n",
       "    </tr>\n",
       "    <tr>\n",
       "      <th>4</th>\n",
       "      <td>0618510568bedd20b573f8bfeca0ceda5753c949015800...</td>\n",
       "      <td>1</td>\n",
       "      <td>0.0</td>\n",
       "    </tr>\n",
       "  </tbody>\n",
       "</table>\n",
       "</div>"
      ],
      "text/plain": [
       "                                         Customer ID  products_ordered  \\\n",
       "0  02d256b0945f57b2c67f2cf6de70b7d49846e77cb09977...                 1   \n",
       "1  04dc33d3e53a30be927e33fedee9a25dcbd7ecaf3ad001...                 2   \n",
       "2  053e199141a85eeef526609bd0d9340828f1f5135adab4...                 1   \n",
       "3  05f39745a03d75243b0135a7b893ebb22303ac5c011305...                 1   \n",
       "4  0618510568bedd20b573f8bfeca0ceda5753c949015800...                 1   \n",
       "\n",
       "   average_return_rate  \n",
       "0                  0.0  \n",
       "1                  0.0  \n",
       "2                  0.0  \n",
       "3                  0.0  \n",
       "4                  0.0  "
      ]
     },
     "execution_count": 98,
     "metadata": {},
     "output_type": "execute_result"
    }
   ],
   "source": [
    "customers.head()"
   ]
  },
  {
   "cell_type": "markdown",
   "id": "a3338c27",
   "metadata": {},
   "source": [
    "# 3. Total spending\n",
    "\n",
    "Total spending is the aggregated sum of total sales value which is the amount after returns."
   ]
  },
  {
   "cell_type": "code",
   "execution_count": 99,
   "id": "b71ba9b1",
   "metadata": {},
   "outputs": [],
   "source": [
    "def total_sales(row):\n",
    "    if row['Status'] == 'refunded':\n",
    "        return 0\n",
    "    if row['Status'] == 'billed':\n",
    "        return row['Item Total']\n",
    "\n",
    "customers_orders['total_sales'] = customers_orders.apply (lambda row: total_sales(row), axis=1)\n",
    "\n",
    "# aggreagate total sales per customer id\n",
    "customer_total_spending = (customers_orders\n",
    "                           .groupby(\"Customer ID\")\n",
    "                           .total_sales\n",
    "                           .sum()\n",
    "                           .reset_index())\n",
    "\n",
    "customer_total_spending.rename(columns = {\"total_sales\" : \"total_spending\"},\n",
    "                               inplace = True)"
   ]
  },
  {
   "cell_type": "markdown",
   "id": "a4e35d99",
   "metadata": {},
   "source": [
    "Create features data frame"
   ]
  },
  {
   "cell_type": "code",
   "execution_count": 100,
   "id": "2694d5c9",
   "metadata": {},
   "outputs": [],
   "source": [
    "# add total sales to customers dataframe\n",
    "customers = customers.merge(customer_total_spending, \n",
    "                            on=\"Customer ID\")"
   ]
  },
  {
   "cell_type": "code",
   "execution_count": 101,
   "id": "80ce8fb3",
   "metadata": {},
   "outputs": [
    {
     "name": "stdout",
     "output_type": "stream",
     "text": [
      "The number of customers from the existing customer base: 236\n"
     ]
    }
   ],
   "source": [
    "print(\"The number of customers from the existing customer base:\", customers.shape[0])"
   ]
  },
  {
   "cell_type": "code",
   "execution_count": 102,
   "id": "6ece84b4",
   "metadata": {},
   "outputs": [],
   "source": [
    "# drop id column since it is not a feature\n",
    "customers.drop(columns=\"Customer ID\",\n",
    "               inplace=True)"
   ]
  },
  {
   "cell_type": "code",
   "execution_count": 103,
   "id": "1ed0e732",
   "metadata": {},
   "outputs": [
    {
     "data": {
      "text/html": [
       "<div>\n",
       "<style scoped>\n",
       "    .dataframe tbody tr th:only-of-type {\n",
       "        vertical-align: middle;\n",
       "    }\n",
       "\n",
       "    .dataframe tbody tr th {\n",
       "        vertical-align: top;\n",
       "    }\n",
       "\n",
       "    .dataframe thead th {\n",
       "        text-align: right;\n",
       "    }\n",
       "</style>\n",
       "<table border=\"1\" class=\"dataframe\">\n",
       "  <thead>\n",
       "    <tr style=\"text-align: right;\">\n",
       "      <th></th>\n",
       "      <th>products_ordered</th>\n",
       "      <th>average_return_rate</th>\n",
       "      <th>total_spending</th>\n",
       "    </tr>\n",
       "  </thead>\n",
       "  <tbody>\n",
       "    <tr>\n",
       "      <th>0</th>\n",
       "      <td>1</td>\n",
       "      <td>0.0</td>\n",
       "      <td>259.99</td>\n",
       "    </tr>\n",
       "    <tr>\n",
       "      <th>1</th>\n",
       "      <td>2</td>\n",
       "      <td>0.0</td>\n",
       "      <td>519.98</td>\n",
       "    </tr>\n",
       "    <tr>\n",
       "      <th>2</th>\n",
       "      <td>1</td>\n",
       "      <td>0.0</td>\n",
       "      <td>174.99</td>\n",
       "    </tr>\n",
       "    <tr>\n",
       "      <th>3</th>\n",
       "      <td>1</td>\n",
       "      <td>0.0</td>\n",
       "      <td>124.99</td>\n",
       "    </tr>\n",
       "    <tr>\n",
       "      <th>4</th>\n",
       "      <td>1</td>\n",
       "      <td>0.0</td>\n",
       "      <td>259.99</td>\n",
       "    </tr>\n",
       "  </tbody>\n",
       "</table>\n",
       "</div>"
      ],
      "text/plain": [
       "   products_ordered  average_return_rate  total_spending\n",
       "0                 1                  0.0          259.99\n",
       "1                 2                  0.0          519.98\n",
       "2                 1                  0.0          174.99\n",
       "3                 1                  0.0          124.99\n",
       "4                 1                  0.0          259.99"
      ]
     },
     "execution_count": 103,
     "metadata": {},
     "output_type": "execute_result"
    }
   ],
   "source": [
    "customers.head()"
   ]
  },
  {
   "cell_type": "markdown",
   "id": "50a6a08c",
   "metadata": {},
   "source": [
    "Visualize features"
   ]
  },
  {
   "cell_type": "code",
   "execution_count": 104,
   "id": "2a1edafe",
   "metadata": {},
   "outputs": [
    {
     "data": {
      "application/vnd.plotly.v1+json": {
       "config": {
        "plotlyServerURL": "https://plot.ly"
       },
       "data": [
        {
         "type": "histogram",
         "x": [
          1,
          2,
          1,
          1,
          1,
          1,
          1,
          1,
          1,
          1,
          1,
          1,
          1,
          1,
          1,
          1,
          1,
          2,
          1,
          1,
          1,
          1,
          1,
          1,
          1,
          1,
          1,
          1,
          1,
          1,
          2,
          1,
          1,
          1,
          2,
          1,
          1,
          1,
          1,
          1,
          2,
          1,
          1,
          1,
          1,
          1,
          1,
          1,
          1,
          1,
          1,
          1,
          2,
          1,
          1,
          1,
          1,
          1,
          1,
          1,
          1,
          1,
          1,
          1,
          1,
          1,
          1,
          1,
          1,
          1,
          1,
          1,
          1,
          2,
          1,
          1,
          2,
          1,
          1,
          1,
          1,
          1,
          3,
          1,
          1,
          2,
          1,
          1,
          2,
          1,
          1,
          1,
          1,
          1,
          1,
          1,
          1,
          1,
          1,
          1,
          1,
          2,
          1,
          1,
          1,
          1,
          1,
          1,
          1,
          2,
          1,
          1,
          1,
          1,
          1,
          1,
          1,
          1,
          1,
          1,
          1,
          1,
          1,
          1,
          1,
          1,
          1,
          1,
          1,
          1,
          1,
          1,
          1,
          1,
          1,
          2,
          1,
          1,
          1,
          1,
          2,
          1,
          1,
          1,
          1,
          1,
          1,
          1,
          1,
          1,
          1,
          1,
          1,
          1,
          1,
          1,
          1,
          1,
          1,
          1,
          2,
          1,
          1,
          1,
          2,
          1,
          1,
          1,
          1,
          1,
          1,
          1,
          1,
          1,
          1,
          1,
          1,
          1,
          1,
          1,
          1,
          2,
          1,
          1,
          1,
          1,
          1,
          1,
          1,
          1,
          1,
          1,
          1,
          2,
          1,
          1,
          1,
          1,
          1,
          1,
          1,
          1,
          1,
          1,
          2,
          1,
          2,
          1,
          1,
          1,
          1,
          1,
          1,
          2,
          1,
          1,
          1,
          1,
          1,
          1,
          1,
          1,
          1,
          1,
          1,
          1,
          1,
          1,
          1,
          1,
          1,
          1,
          1,
          2,
          1,
          1
         ],
         "xaxis": "x",
         "yaxis": "y"
        },
        {
         "type": "histogram",
         "x": [
          0,
          0,
          0,
          0,
          0,
          0,
          0,
          0,
          0,
          0,
          0,
          0,
          0,
          0,
          0,
          1,
          1,
          0.5,
          0,
          0,
          0,
          0,
          0,
          0,
          0,
          0,
          0,
          0,
          0,
          0,
          0,
          0,
          0,
          0,
          0.5,
          0,
          0,
          0,
          0,
          0,
          0,
          0,
          0,
          0,
          0,
          0,
          0,
          0,
          0,
          0,
          0,
          0,
          0,
          0,
          0,
          0,
          0,
          0,
          0,
          0,
          0,
          0,
          0,
          0,
          0,
          0,
          0,
          0,
          0,
          0,
          0,
          1,
          0,
          0,
          0,
          0,
          0,
          0,
          0,
          0,
          0,
          0,
          0,
          0,
          0,
          0,
          0,
          0,
          0,
          0,
          0,
          0,
          1,
          0,
          0,
          0,
          0,
          0,
          0,
          0,
          0,
          0,
          0,
          0,
          0,
          0,
          0,
          0,
          0,
          0,
          0,
          1,
          0,
          0,
          0,
          0,
          0,
          0,
          0.5,
          0,
          0,
          0,
          0,
          0,
          1,
          0,
          0,
          0,
          0,
          0,
          0,
          0,
          0,
          0,
          0,
          0,
          0,
          0,
          0,
          0,
          0,
          0,
          0,
          0,
          0,
          0,
          0,
          0,
          0,
          0,
          0,
          0,
          0,
          0,
          0,
          0,
          0,
          0,
          0,
          0,
          0,
          0,
          0,
          0,
          0,
          0,
          0,
          0,
          0,
          0,
          0,
          0,
          0,
          0,
          0,
          0,
          0,
          0,
          0,
          0,
          0,
          0,
          0,
          0,
          0,
          0,
          0,
          1,
          0,
          0,
          0,
          0,
          0,
          0.5,
          0,
          0,
          0,
          1,
          0,
          0,
          0,
          0,
          0,
          0,
          0,
          0,
          0,
          0,
          0,
          0,
          0,
          0,
          0,
          0,
          0,
          0,
          0,
          0,
          0,
          0,
          0,
          0,
          0,
          0,
          0,
          0,
          0,
          0,
          0,
          0,
          0,
          0,
          0,
          0.5,
          0,
          0
         ],
         "xaxis": "x2",
         "yaxis": "y2"
        },
        {
         "type": "histogram",
         "x": [
          259.99,
          519.98,
          174.99,
          124.99,
          259.99,
          169.98,
          184.97,
          249.99,
          169.98,
          259.99,
          174.37,
          249.99,
          249.99,
          174.99,
          259.99,
          0,
          0,
          249.99,
          259.99,
          134.99,
          259.99,
          126.12,
          249.99,
          94.99,
          124.99,
          249.99,
          259.99,
          174.99,
          259.99,
          148.25,
          534.97,
          124.99,
          259.99,
          159.98,
          154.37,
          169.98,
          124.99,
          174.99,
          174.99,
          124.99,
          164.97,
          199.99,
          99,
          169.98,
          174.99,
          249.99,
          124.99,
          174.99,
          249.99,
          174.99,
          33.98,
          224.99,
          264.97,
          249.99,
          144.99,
          174.99,
          174.99,
          174.99,
          174.99,
          124.99,
          174.99,
          169.98,
          159.99,
          174.99,
          156.11,
          174.99,
          259.99,
          144.99,
          174.99,
          144.99,
          174.99,
          0,
          259.99,
          509.98,
          224.99,
          249.99,
          519.98,
          249.99,
          159.99,
          259.99,
          126.12,
          174.99,
          684.97,
          249.99,
          224.99,
          154.97,
          124.99,
          259.99,
          434.98,
          174.99,
          174.99,
          259.99,
          0,
          174.99,
          169.98,
          174.99,
          14.98,
          249.99,
          174.99,
          274.98,
          259.99,
          519.98,
          134.99,
          174.99,
          174.99,
          108.87,
          174.99,
          174.99,
          174.99,
          999.96,
          174.99,
          0,
          124.99,
          124.38,
          174.99,
          259.99,
          176.11,
          14.98,
          249.99,
          159.99,
          249.99,
          174.99,
          174.99,
          124.99,
          0,
          174.99,
          124.99,
          124.99,
          149.99,
          184.97,
          259.99,
          126.12,
          159.98,
          174.99,
          174.99,
          208.97,
          174.37,
          249.99,
          249.99,
          259.99,
          189.97,
          159.99,
          159.99,
          249.99,
          124.99,
          259.99,
          259.99,
          259.99,
          249.99,
          249.99,
          134.99,
          259.99,
          274.98,
          174.99,
          249.99,
          259.99,
          159.98,
          159.99,
          124.99,
          174.99,
          208.97,
          274.98,
          259.99,
          259.99,
          158.97,
          149.99,
          259.99,
          159.99,
          174.99,
          134.99,
          259.99,
          134.99,
          274.98,
          124.99,
          159.99,
          174.99,
          174.99,
          119.99,
          259.99,
          249.99,
          134.99,
          529.98,
          124.99,
          176.11,
          174.99,
          129.99,
          184.97,
          0,
          149.99,
          174.99,
          259.99,
          249.99,
          184.97,
          174.99,
          199.99,
          174.99,
          174.99,
          0,
          169.98,
          174.99,
          174.99,
          224.99,
          149.99,
          124.99,
          208.97,
          124.99,
          158.97,
          176.11,
          134.99,
          134.99,
          249.99,
          154.37,
          259.99,
          694.97,
          259.99,
          249.99,
          124.99,
          169.98,
          179.98,
          174.99,
          174.99,
          224.99,
          169.98,
          259.99,
          159.99,
          124.99,
          249.99,
          249.99,
          249.99,
          174.99,
          249.99,
          259.99,
          124.99,
          249.99,
          159.99,
          249.99
         ],
         "xaxis": "x3",
         "yaxis": "y3"
        }
       ],
       "layout": {
        "annotations": [
         {
          "font": {
           "size": 16
          },
          "showarrow": false,
          "text": "Products Ordered",
          "x": 0.5,
          "xanchor": "center",
          "xref": "paper",
          "y": 1,
          "yanchor": "bottom",
          "yref": "paper"
         },
         {
          "font": {
           "size": 16
          },
          "showarrow": false,
          "text": "Average Return Rate",
          "x": 0.5,
          "xanchor": "center",
          "xref": "paper",
          "y": 0.6111111111111112,
          "yanchor": "bottom",
          "yref": "paper"
         },
         {
          "font": {
           "size": 16
          },
          "showarrow": false,
          "text": "Total Spending",
          "x": 0.5,
          "xanchor": "center",
          "xref": "paper",
          "y": 0.22222222222222224,
          "yanchor": "bottom",
          "yref": "paper"
         }
        ],
        "height": 800,
        "template": {
         "data": {
          "bar": [
           {
            "error_x": {
             "color": "#2a3f5f"
            },
            "error_y": {
             "color": "#2a3f5f"
            },
            "marker": {
             "line": {
              "color": "#E5ECF6",
              "width": 0.5
             },
             "pattern": {
              "fillmode": "overlay",
              "size": 10,
              "solidity": 0.2
             }
            },
            "type": "bar"
           }
          ],
          "barpolar": [
           {
            "marker": {
             "line": {
              "color": "#E5ECF6",
              "width": 0.5
             },
             "pattern": {
              "fillmode": "overlay",
              "size": 10,
              "solidity": 0.2
             }
            },
            "type": "barpolar"
           }
          ],
          "carpet": [
           {
            "aaxis": {
             "endlinecolor": "#2a3f5f",
             "gridcolor": "white",
             "linecolor": "white",
             "minorgridcolor": "white",
             "startlinecolor": "#2a3f5f"
            },
            "baxis": {
             "endlinecolor": "#2a3f5f",
             "gridcolor": "white",
             "linecolor": "white",
             "minorgridcolor": "white",
             "startlinecolor": "#2a3f5f"
            },
            "type": "carpet"
           }
          ],
          "choropleth": [
           {
            "colorbar": {
             "outlinewidth": 0,
             "ticks": ""
            },
            "type": "choropleth"
           }
          ],
          "contour": [
           {
            "colorbar": {
             "outlinewidth": 0,
             "ticks": ""
            },
            "colorscale": [
             [
              0,
              "#0d0887"
             ],
             [
              0.1111111111111111,
              "#46039f"
             ],
             [
              0.2222222222222222,
              "#7201a8"
             ],
             [
              0.3333333333333333,
              "#9c179e"
             ],
             [
              0.4444444444444444,
              "#bd3786"
             ],
             [
              0.5555555555555556,
              "#d8576b"
             ],
             [
              0.6666666666666666,
              "#ed7953"
             ],
             [
              0.7777777777777778,
              "#fb9f3a"
             ],
             [
              0.8888888888888888,
              "#fdca26"
             ],
             [
              1,
              "#f0f921"
             ]
            ],
            "type": "contour"
           }
          ],
          "contourcarpet": [
           {
            "colorbar": {
             "outlinewidth": 0,
             "ticks": ""
            },
            "type": "contourcarpet"
           }
          ],
          "heatmap": [
           {
            "colorbar": {
             "outlinewidth": 0,
             "ticks": ""
            },
            "colorscale": [
             [
              0,
              "#0d0887"
             ],
             [
              0.1111111111111111,
              "#46039f"
             ],
             [
              0.2222222222222222,
              "#7201a8"
             ],
             [
              0.3333333333333333,
              "#9c179e"
             ],
             [
              0.4444444444444444,
              "#bd3786"
             ],
             [
              0.5555555555555556,
              "#d8576b"
             ],
             [
              0.6666666666666666,
              "#ed7953"
             ],
             [
              0.7777777777777778,
              "#fb9f3a"
             ],
             [
              0.8888888888888888,
              "#fdca26"
             ],
             [
              1,
              "#f0f921"
             ]
            ],
            "type": "heatmap"
           }
          ],
          "heatmapgl": [
           {
            "colorbar": {
             "outlinewidth": 0,
             "ticks": ""
            },
            "colorscale": [
             [
              0,
              "#0d0887"
             ],
             [
              0.1111111111111111,
              "#46039f"
             ],
             [
              0.2222222222222222,
              "#7201a8"
             ],
             [
              0.3333333333333333,
              "#9c179e"
             ],
             [
              0.4444444444444444,
              "#bd3786"
             ],
             [
              0.5555555555555556,
              "#d8576b"
             ],
             [
              0.6666666666666666,
              "#ed7953"
             ],
             [
              0.7777777777777778,
              "#fb9f3a"
             ],
             [
              0.8888888888888888,
              "#fdca26"
             ],
             [
              1,
              "#f0f921"
             ]
            ],
            "type": "heatmapgl"
           }
          ],
          "histogram": [
           {
            "marker": {
             "pattern": {
              "fillmode": "overlay",
              "size": 10,
              "solidity": 0.2
             }
            },
            "type": "histogram"
           }
          ],
          "histogram2d": [
           {
            "colorbar": {
             "outlinewidth": 0,
             "ticks": ""
            },
            "colorscale": [
             [
              0,
              "#0d0887"
             ],
             [
              0.1111111111111111,
              "#46039f"
             ],
             [
              0.2222222222222222,
              "#7201a8"
             ],
             [
              0.3333333333333333,
              "#9c179e"
             ],
             [
              0.4444444444444444,
              "#bd3786"
             ],
             [
              0.5555555555555556,
              "#d8576b"
             ],
             [
              0.6666666666666666,
              "#ed7953"
             ],
             [
              0.7777777777777778,
              "#fb9f3a"
             ],
             [
              0.8888888888888888,
              "#fdca26"
             ],
             [
              1,
              "#f0f921"
             ]
            ],
            "type": "histogram2d"
           }
          ],
          "histogram2dcontour": [
           {
            "colorbar": {
             "outlinewidth": 0,
             "ticks": ""
            },
            "colorscale": [
             [
              0,
              "#0d0887"
             ],
             [
              0.1111111111111111,
              "#46039f"
             ],
             [
              0.2222222222222222,
              "#7201a8"
             ],
             [
              0.3333333333333333,
              "#9c179e"
             ],
             [
              0.4444444444444444,
              "#bd3786"
             ],
             [
              0.5555555555555556,
              "#d8576b"
             ],
             [
              0.6666666666666666,
              "#ed7953"
             ],
             [
              0.7777777777777778,
              "#fb9f3a"
             ],
             [
              0.8888888888888888,
              "#fdca26"
             ],
             [
              1,
              "#f0f921"
             ]
            ],
            "type": "histogram2dcontour"
           }
          ],
          "mesh3d": [
           {
            "colorbar": {
             "outlinewidth": 0,
             "ticks": ""
            },
            "type": "mesh3d"
           }
          ],
          "parcoords": [
           {
            "line": {
             "colorbar": {
              "outlinewidth": 0,
              "ticks": ""
             }
            },
            "type": "parcoords"
           }
          ],
          "pie": [
           {
            "automargin": true,
            "type": "pie"
           }
          ],
          "scatter": [
           {
            "marker": {
             "colorbar": {
              "outlinewidth": 0,
              "ticks": ""
             }
            },
            "type": "scatter"
           }
          ],
          "scatter3d": [
           {
            "line": {
             "colorbar": {
              "outlinewidth": 0,
              "ticks": ""
             }
            },
            "marker": {
             "colorbar": {
              "outlinewidth": 0,
              "ticks": ""
             }
            },
            "type": "scatter3d"
           }
          ],
          "scattercarpet": [
           {
            "marker": {
             "colorbar": {
              "outlinewidth": 0,
              "ticks": ""
             }
            },
            "type": "scattercarpet"
           }
          ],
          "scattergeo": [
           {
            "marker": {
             "colorbar": {
              "outlinewidth": 0,
              "ticks": ""
             }
            },
            "type": "scattergeo"
           }
          ],
          "scattergl": [
           {
            "marker": {
             "colorbar": {
              "outlinewidth": 0,
              "ticks": ""
             }
            },
            "type": "scattergl"
           }
          ],
          "scattermapbox": [
           {
            "marker": {
             "colorbar": {
              "outlinewidth": 0,
              "ticks": ""
             }
            },
            "type": "scattermapbox"
           }
          ],
          "scatterpolar": [
           {
            "marker": {
             "colorbar": {
              "outlinewidth": 0,
              "ticks": ""
             }
            },
            "type": "scatterpolar"
           }
          ],
          "scatterpolargl": [
           {
            "marker": {
             "colorbar": {
              "outlinewidth": 0,
              "ticks": ""
             }
            },
            "type": "scatterpolargl"
           }
          ],
          "scatterternary": [
           {
            "marker": {
             "colorbar": {
              "outlinewidth": 0,
              "ticks": ""
             }
            },
            "type": "scatterternary"
           }
          ],
          "surface": [
           {
            "colorbar": {
             "outlinewidth": 0,
             "ticks": ""
            },
            "colorscale": [
             [
              0,
              "#0d0887"
             ],
             [
              0.1111111111111111,
              "#46039f"
             ],
             [
              0.2222222222222222,
              "#7201a8"
             ],
             [
              0.3333333333333333,
              "#9c179e"
             ],
             [
              0.4444444444444444,
              "#bd3786"
             ],
             [
              0.5555555555555556,
              "#d8576b"
             ],
             [
              0.6666666666666666,
              "#ed7953"
             ],
             [
              0.7777777777777778,
              "#fb9f3a"
             ],
             [
              0.8888888888888888,
              "#fdca26"
             ],
             [
              1,
              "#f0f921"
             ]
            ],
            "type": "surface"
           }
          ],
          "table": [
           {
            "cells": {
             "fill": {
              "color": "#EBF0F8"
             },
             "line": {
              "color": "white"
             }
            },
            "header": {
             "fill": {
              "color": "#C8D4E3"
             },
             "line": {
              "color": "white"
             }
            },
            "type": "table"
           }
          ]
         },
         "layout": {
          "annotationdefaults": {
           "arrowcolor": "#2a3f5f",
           "arrowhead": 0,
           "arrowwidth": 1
          },
          "autotypenumbers": "strict",
          "coloraxis": {
           "colorbar": {
            "outlinewidth": 0,
            "ticks": ""
           }
          },
          "colorscale": {
           "diverging": [
            [
             0,
             "#8e0152"
            ],
            [
             0.1,
             "#c51b7d"
            ],
            [
             0.2,
             "#de77ae"
            ],
            [
             0.3,
             "#f1b6da"
            ],
            [
             0.4,
             "#fde0ef"
            ],
            [
             0.5,
             "#f7f7f7"
            ],
            [
             0.6,
             "#e6f5d0"
            ],
            [
             0.7,
             "#b8e186"
            ],
            [
             0.8,
             "#7fbc41"
            ],
            [
             0.9,
             "#4d9221"
            ],
            [
             1,
             "#276419"
            ]
           ],
           "sequential": [
            [
             0,
             "#0d0887"
            ],
            [
             0.1111111111111111,
             "#46039f"
            ],
            [
             0.2222222222222222,
             "#7201a8"
            ],
            [
             0.3333333333333333,
             "#9c179e"
            ],
            [
             0.4444444444444444,
             "#bd3786"
            ],
            [
             0.5555555555555556,
             "#d8576b"
            ],
            [
             0.6666666666666666,
             "#ed7953"
            ],
            [
             0.7777777777777778,
             "#fb9f3a"
            ],
            [
             0.8888888888888888,
             "#fdca26"
            ],
            [
             1,
             "#f0f921"
            ]
           ],
           "sequentialminus": [
            [
             0,
             "#0d0887"
            ],
            [
             0.1111111111111111,
             "#46039f"
            ],
            [
             0.2222222222222222,
             "#7201a8"
            ],
            [
             0.3333333333333333,
             "#9c179e"
            ],
            [
             0.4444444444444444,
             "#bd3786"
            ],
            [
             0.5555555555555556,
             "#d8576b"
            ],
            [
             0.6666666666666666,
             "#ed7953"
            ],
            [
             0.7777777777777778,
             "#fb9f3a"
            ],
            [
             0.8888888888888888,
             "#fdca26"
            ],
            [
             1,
             "#f0f921"
            ]
           ]
          },
          "colorway": [
           "#636efa",
           "#EF553B",
           "#00cc96",
           "#ab63fa",
           "#FFA15A",
           "#19d3f3",
           "#FF6692",
           "#B6E880",
           "#FF97FF",
           "#FECB52"
          ],
          "font": {
           "color": "#2a3f5f"
          },
          "geo": {
           "bgcolor": "white",
           "lakecolor": "white",
           "landcolor": "#E5ECF6",
           "showlakes": true,
           "showland": true,
           "subunitcolor": "white"
          },
          "hoverlabel": {
           "align": "left"
          },
          "hovermode": "closest",
          "mapbox": {
           "style": "light"
          },
          "paper_bgcolor": "white",
          "plot_bgcolor": "#E5ECF6",
          "polar": {
           "angularaxis": {
            "gridcolor": "white",
            "linecolor": "white",
            "ticks": ""
           },
           "bgcolor": "#E5ECF6",
           "radialaxis": {
            "gridcolor": "white",
            "linecolor": "white",
            "ticks": ""
           }
          },
          "scene": {
           "xaxis": {
            "backgroundcolor": "#E5ECF6",
            "gridcolor": "white",
            "gridwidth": 2,
            "linecolor": "white",
            "showbackground": true,
            "ticks": "",
            "zerolinecolor": "white"
           },
           "yaxis": {
            "backgroundcolor": "#E5ECF6",
            "gridcolor": "white",
            "gridwidth": 2,
            "linecolor": "white",
            "showbackground": true,
            "ticks": "",
            "zerolinecolor": "white"
           },
           "zaxis": {
            "backgroundcolor": "#E5ECF6",
            "gridcolor": "white",
            "gridwidth": 2,
            "linecolor": "white",
            "showbackground": true,
            "ticks": "",
            "zerolinecolor": "white"
           }
          },
          "shapedefaults": {
           "line": {
            "color": "#2a3f5f"
           }
          },
          "ternary": {
           "aaxis": {
            "gridcolor": "white",
            "linecolor": "white",
            "ticks": ""
           },
           "baxis": {
            "gridcolor": "white",
            "linecolor": "white",
            "ticks": ""
           },
           "bgcolor": "#E5ECF6",
           "caxis": {
            "gridcolor": "white",
            "linecolor": "white",
            "ticks": ""
           }
          },
          "title": {
           "x": 0.05
          },
          "xaxis": {
           "automargin": true,
           "gridcolor": "white",
           "linecolor": "white",
           "ticks": "",
           "title": {
            "standoff": 15
           },
           "zerolinecolor": "white",
           "zerolinewidth": 2
          },
          "yaxis": {
           "automargin": true,
           "gridcolor": "white",
           "linecolor": "white",
           "ticks": "",
           "title": {
            "standoff": 15
           },
           "zerolinecolor": "white",
           "zerolinewidth": 2
          }
         }
        },
        "title": {
         "text": "Distribution of the Features"
        },
        "width": 800,
        "xaxis": {
         "anchor": "y",
         "domain": [
          0,
          1
         ]
        },
        "xaxis2": {
         "anchor": "y2",
         "domain": [
          0,
          1
         ]
        },
        "xaxis3": {
         "anchor": "y3",
         "domain": [
          0,
          1
         ]
        },
        "yaxis": {
         "anchor": "x",
         "domain": [
          0.7777777777777778,
          1
         ]
        },
        "yaxis2": {
         "anchor": "x2",
         "domain": [
          0.3888888888888889,
          0.6111111111111112
         ]
        },
        "yaxis3": {
         "anchor": "x3",
         "domain": [
          0,
          0.22222222222222224
         ]
        }
       }
      },
      "text/html": [
       "<div>                            <div id=\"ad023577-f8f8-48dd-b813-6d4074fc4f4b\" class=\"plotly-graph-div\" style=\"height:800px; width:800px;\"></div>            <script type=\"text/javascript\">                require([\"plotly\"], function(Plotly) {                    window.PLOTLYENV=window.PLOTLYENV || {};                                    if (document.getElementById(\"ad023577-f8f8-48dd-b813-6d4074fc4f4b\")) {                    Plotly.newPlot(                        \"ad023577-f8f8-48dd-b813-6d4074fc4f4b\",                        [{\"x\":[1,2,1,1,1,1,1,1,1,1,1,1,1,1,1,1,1,2,1,1,1,1,1,1,1,1,1,1,1,1,2,1,1,1,2,1,1,1,1,1,2,1,1,1,1,1,1,1,1,1,1,1,2,1,1,1,1,1,1,1,1,1,1,1,1,1,1,1,1,1,1,1,1,2,1,1,2,1,1,1,1,1,3,1,1,2,1,1,2,1,1,1,1,1,1,1,1,1,1,1,1,2,1,1,1,1,1,1,1,2,1,1,1,1,1,1,1,1,1,1,1,1,1,1,1,1,1,1,1,1,1,1,1,1,1,2,1,1,1,1,2,1,1,1,1,1,1,1,1,1,1,1,1,1,1,1,1,1,1,1,2,1,1,1,2,1,1,1,1,1,1,1,1,1,1,1,1,1,1,1,1,2,1,1,1,1,1,1,1,1,1,1,1,2,1,1,1,1,1,1,1,1,1,1,2,1,2,1,1,1,1,1,1,2,1,1,1,1,1,1,1,1,1,1,1,1,1,1,1,1,1,1,1,2,1,1],\"type\":\"histogram\",\"xaxis\":\"x\",\"yaxis\":\"y\"},{\"x\":[0.0,0.0,0.0,0.0,0.0,0.0,0.0,0.0,0.0,0.0,0.0,0.0,0.0,0.0,0.0,1.0,1.0,0.5,0.0,0.0,0.0,0.0,0.0,0.0,0.0,0.0,0.0,0.0,0.0,0.0,0.0,0.0,0.0,0.0,0.5,0.0,0.0,0.0,0.0,0.0,0.0,0.0,0.0,0.0,0.0,0.0,0.0,0.0,0.0,0.0,0.0,0.0,0.0,0.0,0.0,0.0,0.0,0.0,0.0,0.0,0.0,0.0,0.0,0.0,0.0,0.0,0.0,0.0,0.0,0.0,0.0,1.0,0.0,0.0,0.0,0.0,0.0,0.0,0.0,0.0,0.0,0.0,0.0,0.0,0.0,0.0,0.0,0.0,0.0,0.0,0.0,0.0,1.0,0.0,0.0,0.0,0.0,0.0,0.0,0.0,0.0,0.0,0.0,0.0,0.0,0.0,0.0,0.0,0.0,0.0,0.0,1.0,0.0,0.0,0.0,0.0,0.0,0.0,0.5,0.0,0.0,0.0,0.0,0.0,1.0,0.0,0.0,0.0,0.0,0.0,0.0,0.0,0.0,0.0,0.0,0.0,0.0,0.0,0.0,0.0,0.0,0.0,0.0,0.0,0.0,0.0,0.0,0.0,0.0,0.0,0.0,0.0,0.0,0.0,0.0,0.0,0.0,0.0,0.0,0.0,0.0,0.0,0.0,0.0,0.0,0.0,0.0,0.0,0.0,0.0,0.0,0.0,0.0,0.0,0.0,0.0,0.0,0.0,0.0,0.0,0.0,0.0,0.0,0.0,0.0,0.0,0.0,1.0,0.0,0.0,0.0,0.0,0.0,0.5,0.0,0.0,0.0,1.0,0.0,0.0,0.0,0.0,0.0,0.0,0.0,0.0,0.0,0.0,0.0,0.0,0.0,0.0,0.0,0.0,0.0,0.0,0.0,0.0,0.0,0.0,0.0,0.0,0.0,0.0,0.0,0.0,0.0,0.0,0.0,0.0,0.0,0.0,0.0,0.5,0.0,0.0],\"type\":\"histogram\",\"xaxis\":\"x2\",\"yaxis\":\"y2\"},{\"x\":[259.99,519.98,174.99,124.99,259.99,169.98,184.97,249.99,169.98,259.99,174.37,249.99,249.99,174.99,259.99,0.0,0.0,249.99,259.99,134.99,259.99,126.12,249.99,94.99,124.99,249.99,259.99,174.99,259.99,148.25,534.97,124.99,259.99,159.98,154.37,169.98,124.99,174.99,174.99,124.99,164.97,199.99,99.0,169.98,174.99,249.99,124.99,174.99,249.99,174.99,33.98,224.99,264.97,249.99,144.99,174.99,174.99,174.99,174.99,124.99,174.99,169.98,159.99,174.99,156.11,174.99,259.99,144.99,174.99,144.99,174.99,0.0,259.99,509.98,224.99,249.99,519.98,249.99,159.99,259.99,126.12,174.99,684.97,249.99,224.99,154.97,124.99,259.99,434.98,174.99,174.99,259.99,0.0,174.99,169.98,174.99,14.98,249.99,174.99,274.98,259.99,519.98,134.99,174.99,174.99,108.87,174.99,174.99,174.99,999.96,174.99,0.0,124.99,124.38,174.99,259.99,176.11,14.98,249.99,159.99,249.99,174.99,174.99,124.99,0.0,174.99,124.99,124.99,149.99,184.97,259.99,126.12,159.98,174.99,174.99,208.97,174.37,249.99,249.99,259.99,189.97,159.99,159.99,249.99,124.99,259.99,259.99,259.99,249.99,249.99,134.99,259.99,274.98,174.99,249.99,259.99,159.98,159.99,124.99,174.99,208.97,274.98,259.99,259.99,158.97,149.99,259.99,159.99,174.99,134.99,259.99,134.99,274.98,124.99,159.99,174.99,174.99,119.99,259.99,249.99,134.99,529.98,124.99,176.11,174.99,129.99,184.97,0.0,149.99,174.99,259.99,249.99,184.97,174.99,199.99,174.99,174.99,0.0,169.98,174.99,174.99,224.99,149.99,124.99,208.97,124.99,158.97,176.11,134.99,134.99,249.99,154.37,259.99,694.97,259.99,249.99,124.99,169.98,179.98,174.99,174.99,224.99,169.98,259.99,159.99,124.99,249.99,249.99,249.99,174.99,249.99,259.99,124.99,249.99,159.99,249.99],\"type\":\"histogram\",\"xaxis\":\"x3\",\"yaxis\":\"y3\"}],                        {\"template\":{\"data\":{\"bar\":[{\"error_x\":{\"color\":\"#2a3f5f\"},\"error_y\":{\"color\":\"#2a3f5f\"},\"marker\":{\"line\":{\"color\":\"#E5ECF6\",\"width\":0.5},\"pattern\":{\"fillmode\":\"overlay\",\"size\":10,\"solidity\":0.2}},\"type\":\"bar\"}],\"barpolar\":[{\"marker\":{\"line\":{\"color\":\"#E5ECF6\",\"width\":0.5},\"pattern\":{\"fillmode\":\"overlay\",\"size\":10,\"solidity\":0.2}},\"type\":\"barpolar\"}],\"carpet\":[{\"aaxis\":{\"endlinecolor\":\"#2a3f5f\",\"gridcolor\":\"white\",\"linecolor\":\"white\",\"minorgridcolor\":\"white\",\"startlinecolor\":\"#2a3f5f\"},\"baxis\":{\"endlinecolor\":\"#2a3f5f\",\"gridcolor\":\"white\",\"linecolor\":\"white\",\"minorgridcolor\":\"white\",\"startlinecolor\":\"#2a3f5f\"},\"type\":\"carpet\"}],\"choropleth\":[{\"colorbar\":{\"outlinewidth\":0,\"ticks\":\"\"},\"type\":\"choropleth\"}],\"contour\":[{\"colorbar\":{\"outlinewidth\":0,\"ticks\":\"\"},\"colorscale\":[[0.0,\"#0d0887\"],[0.1111111111111111,\"#46039f\"],[0.2222222222222222,\"#7201a8\"],[0.3333333333333333,\"#9c179e\"],[0.4444444444444444,\"#bd3786\"],[0.5555555555555556,\"#d8576b\"],[0.6666666666666666,\"#ed7953\"],[0.7777777777777778,\"#fb9f3a\"],[0.8888888888888888,\"#fdca26\"],[1.0,\"#f0f921\"]],\"type\":\"contour\"}],\"contourcarpet\":[{\"colorbar\":{\"outlinewidth\":0,\"ticks\":\"\"},\"type\":\"contourcarpet\"}],\"heatmap\":[{\"colorbar\":{\"outlinewidth\":0,\"ticks\":\"\"},\"colorscale\":[[0.0,\"#0d0887\"],[0.1111111111111111,\"#46039f\"],[0.2222222222222222,\"#7201a8\"],[0.3333333333333333,\"#9c179e\"],[0.4444444444444444,\"#bd3786\"],[0.5555555555555556,\"#d8576b\"],[0.6666666666666666,\"#ed7953\"],[0.7777777777777778,\"#fb9f3a\"],[0.8888888888888888,\"#fdca26\"],[1.0,\"#f0f921\"]],\"type\":\"heatmap\"}],\"heatmapgl\":[{\"colorbar\":{\"outlinewidth\":0,\"ticks\":\"\"},\"colorscale\":[[0.0,\"#0d0887\"],[0.1111111111111111,\"#46039f\"],[0.2222222222222222,\"#7201a8\"],[0.3333333333333333,\"#9c179e\"],[0.4444444444444444,\"#bd3786\"],[0.5555555555555556,\"#d8576b\"],[0.6666666666666666,\"#ed7953\"],[0.7777777777777778,\"#fb9f3a\"],[0.8888888888888888,\"#fdca26\"],[1.0,\"#f0f921\"]],\"type\":\"heatmapgl\"}],\"histogram\":[{\"marker\":{\"pattern\":{\"fillmode\":\"overlay\",\"size\":10,\"solidity\":0.2}},\"type\":\"histogram\"}],\"histogram2d\":[{\"colorbar\":{\"outlinewidth\":0,\"ticks\":\"\"},\"colorscale\":[[0.0,\"#0d0887\"],[0.1111111111111111,\"#46039f\"],[0.2222222222222222,\"#7201a8\"],[0.3333333333333333,\"#9c179e\"],[0.4444444444444444,\"#bd3786\"],[0.5555555555555556,\"#d8576b\"],[0.6666666666666666,\"#ed7953\"],[0.7777777777777778,\"#fb9f3a\"],[0.8888888888888888,\"#fdca26\"],[1.0,\"#f0f921\"]],\"type\":\"histogram2d\"}],\"histogram2dcontour\":[{\"colorbar\":{\"outlinewidth\":0,\"ticks\":\"\"},\"colorscale\":[[0.0,\"#0d0887\"],[0.1111111111111111,\"#46039f\"],[0.2222222222222222,\"#7201a8\"],[0.3333333333333333,\"#9c179e\"],[0.4444444444444444,\"#bd3786\"],[0.5555555555555556,\"#d8576b\"],[0.6666666666666666,\"#ed7953\"],[0.7777777777777778,\"#fb9f3a\"],[0.8888888888888888,\"#fdca26\"],[1.0,\"#f0f921\"]],\"type\":\"histogram2dcontour\"}],\"mesh3d\":[{\"colorbar\":{\"outlinewidth\":0,\"ticks\":\"\"},\"type\":\"mesh3d\"}],\"parcoords\":[{\"line\":{\"colorbar\":{\"outlinewidth\":0,\"ticks\":\"\"}},\"type\":\"parcoords\"}],\"pie\":[{\"automargin\":true,\"type\":\"pie\"}],\"scatter\":[{\"marker\":{\"colorbar\":{\"outlinewidth\":0,\"ticks\":\"\"}},\"type\":\"scatter\"}],\"scatter3d\":[{\"line\":{\"colorbar\":{\"outlinewidth\":0,\"ticks\":\"\"}},\"marker\":{\"colorbar\":{\"outlinewidth\":0,\"ticks\":\"\"}},\"type\":\"scatter3d\"}],\"scattercarpet\":[{\"marker\":{\"colorbar\":{\"outlinewidth\":0,\"ticks\":\"\"}},\"type\":\"scattercarpet\"}],\"scattergeo\":[{\"marker\":{\"colorbar\":{\"outlinewidth\":0,\"ticks\":\"\"}},\"type\":\"scattergeo\"}],\"scattergl\":[{\"marker\":{\"colorbar\":{\"outlinewidth\":0,\"ticks\":\"\"}},\"type\":\"scattergl\"}],\"scattermapbox\":[{\"marker\":{\"colorbar\":{\"outlinewidth\":0,\"ticks\":\"\"}},\"type\":\"scattermapbox\"}],\"scatterpolar\":[{\"marker\":{\"colorbar\":{\"outlinewidth\":0,\"ticks\":\"\"}},\"type\":\"scatterpolar\"}],\"scatterpolargl\":[{\"marker\":{\"colorbar\":{\"outlinewidth\":0,\"ticks\":\"\"}},\"type\":\"scatterpolargl\"}],\"scatterternary\":[{\"marker\":{\"colorbar\":{\"outlinewidth\":0,\"ticks\":\"\"}},\"type\":\"scatterternary\"}],\"surface\":[{\"colorbar\":{\"outlinewidth\":0,\"ticks\":\"\"},\"colorscale\":[[0.0,\"#0d0887\"],[0.1111111111111111,\"#46039f\"],[0.2222222222222222,\"#7201a8\"],[0.3333333333333333,\"#9c179e\"],[0.4444444444444444,\"#bd3786\"],[0.5555555555555556,\"#d8576b\"],[0.6666666666666666,\"#ed7953\"],[0.7777777777777778,\"#fb9f3a\"],[0.8888888888888888,\"#fdca26\"],[1.0,\"#f0f921\"]],\"type\":\"surface\"}],\"table\":[{\"cells\":{\"fill\":{\"color\":\"#EBF0F8\"},\"line\":{\"color\":\"white\"}},\"header\":{\"fill\":{\"color\":\"#C8D4E3\"},\"line\":{\"color\":\"white\"}},\"type\":\"table\"}]},\"layout\":{\"annotationdefaults\":{\"arrowcolor\":\"#2a3f5f\",\"arrowhead\":0,\"arrowwidth\":1},\"autotypenumbers\":\"strict\",\"coloraxis\":{\"colorbar\":{\"outlinewidth\":0,\"ticks\":\"\"}},\"colorscale\":{\"diverging\":[[0,\"#8e0152\"],[0.1,\"#c51b7d\"],[0.2,\"#de77ae\"],[0.3,\"#f1b6da\"],[0.4,\"#fde0ef\"],[0.5,\"#f7f7f7\"],[0.6,\"#e6f5d0\"],[0.7,\"#b8e186\"],[0.8,\"#7fbc41\"],[0.9,\"#4d9221\"],[1,\"#276419\"]],\"sequential\":[[0.0,\"#0d0887\"],[0.1111111111111111,\"#46039f\"],[0.2222222222222222,\"#7201a8\"],[0.3333333333333333,\"#9c179e\"],[0.4444444444444444,\"#bd3786\"],[0.5555555555555556,\"#d8576b\"],[0.6666666666666666,\"#ed7953\"],[0.7777777777777778,\"#fb9f3a\"],[0.8888888888888888,\"#fdca26\"],[1.0,\"#f0f921\"]],\"sequentialminus\":[[0.0,\"#0d0887\"],[0.1111111111111111,\"#46039f\"],[0.2222222222222222,\"#7201a8\"],[0.3333333333333333,\"#9c179e\"],[0.4444444444444444,\"#bd3786\"],[0.5555555555555556,\"#d8576b\"],[0.6666666666666666,\"#ed7953\"],[0.7777777777777778,\"#fb9f3a\"],[0.8888888888888888,\"#fdca26\"],[1.0,\"#f0f921\"]]},\"colorway\":[\"#636efa\",\"#EF553B\",\"#00cc96\",\"#ab63fa\",\"#FFA15A\",\"#19d3f3\",\"#FF6692\",\"#B6E880\",\"#FF97FF\",\"#FECB52\"],\"font\":{\"color\":\"#2a3f5f\"},\"geo\":{\"bgcolor\":\"white\",\"lakecolor\":\"white\",\"landcolor\":\"#E5ECF6\",\"showlakes\":true,\"showland\":true,\"subunitcolor\":\"white\"},\"hoverlabel\":{\"align\":\"left\"},\"hovermode\":\"closest\",\"mapbox\":{\"style\":\"light\"},\"paper_bgcolor\":\"white\",\"plot_bgcolor\":\"#E5ECF6\",\"polar\":{\"angularaxis\":{\"gridcolor\":\"white\",\"linecolor\":\"white\",\"ticks\":\"\"},\"bgcolor\":\"#E5ECF6\",\"radialaxis\":{\"gridcolor\":\"white\",\"linecolor\":\"white\",\"ticks\":\"\"}},\"scene\":{\"xaxis\":{\"backgroundcolor\":\"#E5ECF6\",\"gridcolor\":\"white\",\"gridwidth\":2,\"linecolor\":\"white\",\"showbackground\":true,\"ticks\":\"\",\"zerolinecolor\":\"white\"},\"yaxis\":{\"backgroundcolor\":\"#E5ECF6\",\"gridcolor\":\"white\",\"gridwidth\":2,\"linecolor\":\"white\",\"showbackground\":true,\"ticks\":\"\",\"zerolinecolor\":\"white\"},\"zaxis\":{\"backgroundcolor\":\"#E5ECF6\",\"gridcolor\":\"white\",\"gridwidth\":2,\"linecolor\":\"white\",\"showbackground\":true,\"ticks\":\"\",\"zerolinecolor\":\"white\"}},\"shapedefaults\":{\"line\":{\"color\":\"#2a3f5f\"}},\"ternary\":{\"aaxis\":{\"gridcolor\":\"white\",\"linecolor\":\"white\",\"ticks\":\"\"},\"baxis\":{\"gridcolor\":\"white\",\"linecolor\":\"white\",\"ticks\":\"\"},\"bgcolor\":\"#E5ECF6\",\"caxis\":{\"gridcolor\":\"white\",\"linecolor\":\"white\",\"ticks\":\"\"}},\"title\":{\"x\":0.05},\"xaxis\":{\"automargin\":true,\"gridcolor\":\"white\",\"linecolor\":\"white\",\"ticks\":\"\",\"title\":{\"standoff\":15},\"zerolinecolor\":\"white\",\"zerolinewidth\":2},\"yaxis\":{\"automargin\":true,\"gridcolor\":\"white\",\"linecolor\":\"white\",\"ticks\":\"\",\"title\":{\"standoff\":15},\"zerolinecolor\":\"white\",\"zerolinewidth\":2}}},\"xaxis\":{\"anchor\":\"y\",\"domain\":[0.0,1.0]},\"yaxis\":{\"anchor\":\"x\",\"domain\":[0.7777777777777778,1.0]},\"xaxis2\":{\"anchor\":\"y2\",\"domain\":[0.0,1.0]},\"yaxis2\":{\"anchor\":\"x2\",\"domain\":[0.3888888888888889,0.6111111111111112]},\"xaxis3\":{\"anchor\":\"y3\",\"domain\":[0.0,1.0]},\"yaxis3\":{\"anchor\":\"x3\",\"domain\":[0.0,0.22222222222222224]},\"annotations\":[{\"font\":{\"size\":16},\"showarrow\":false,\"text\":\"Products Ordered\",\"x\":0.5,\"xanchor\":\"center\",\"xref\":\"paper\",\"y\":1.0,\"yanchor\":\"bottom\",\"yref\":\"paper\"},{\"font\":{\"size\":16},\"showarrow\":false,\"text\":\"Average Return Rate\",\"x\":0.5,\"xanchor\":\"center\",\"xref\":\"paper\",\"y\":0.6111111111111112,\"yanchor\":\"bottom\",\"yref\":\"paper\"},{\"font\":{\"size\":16},\"showarrow\":false,\"text\":\"Total Spending\",\"x\":0.5,\"xanchor\":\"center\",\"xref\":\"paper\",\"y\":0.22222222222222224,\"yanchor\":\"bottom\",\"yref\":\"paper\"}],\"title\":{\"text\":\"Distribution of the Features\"},\"height\":800,\"width\":800},                        {\"responsive\": true}                    ).then(function(){\n",
       "                            \n",
       "var gd = document.getElementById('ad023577-f8f8-48dd-b813-6d4074fc4f4b');\n",
       "var x = new MutationObserver(function (mutations, observer) {{\n",
       "        var display = window.getComputedStyle(gd).display;\n",
       "        if (!display || display === 'none') {{\n",
       "            console.log([gd, 'removed!']);\n",
       "            Plotly.purge(gd);\n",
       "            observer.disconnect();\n",
       "        }}\n",
       "}});\n",
       "\n",
       "// Listen for the removal of the full notebook cells\n",
       "var notebookContainer = gd.closest('#notebook-container');\n",
       "if (notebookContainer) {{\n",
       "    x.observe(notebookContainer, {childList: true});\n",
       "}}\n",
       "\n",
       "// Listen for the clearing of the current output cell\n",
       "var outputEl = gd.closest('.output');\n",
       "if (outputEl) {{\n",
       "    x.observe(outputEl, {childList: true});\n",
       "}}\n",
       "\n",
       "                        })                };                });            </script>        </div>"
      ]
     },
     "metadata": {},
     "output_type": "display_data"
    }
   ],
   "source": [
    "fig = make_subplots(rows=3, cols=1,\n",
    "                   subplot_titles=(\"Products Ordered\", \n",
    "                                   \"Average Return Rate\", \n",
    "                                   \"Total Spending\"))\n",
    "\n",
    "fig.append_trace(go.Histogram(x=customers.products_ordered),\n",
    "                 row=1, col=1)\n",
    "\n",
    "fig.append_trace(go.Histogram(x=customers.average_return_rate),\n",
    "                 row=2, col=1)\n",
    "\n",
    "fig.append_trace(go.Histogram(x=customers.total_spending),\n",
    "                 row=3, col=1)\n",
    "\n",
    "fig.update_layout(height=800, width=800,\n",
    "                  title_text=\"Distribution of the Features\")\n",
    "\n",
    "fig.show()"
   ]
  },
  {
   "cell_type": "markdown",
   "id": "75dbf665",
   "metadata": {},
   "source": [
    "Scale Features: Log Transformation"
   ]
  },
  {
   "cell_type": "code",
   "execution_count": 105,
   "id": "35399801",
   "metadata": {},
   "outputs": [],
   "source": [
    "def apply_log1p_transformation(dataframe, column):\n",
    "    '''This function takes a dataframe and a column in the string format\n",
    "    then applies numpy log1p transformation to the column\n",
    "    as a result returns log1p applied pandas series'''\n",
    "    \n",
    "    dataframe[\"log_\" + column] = np.log1p(dataframe[column])\n",
    "    return dataframe[\"log_\" + column]"
   ]
  },
  {
   "cell_type": "markdown",
   "id": "51a932fd",
   "metadata": {},
   "source": [
    "1. Products ordered"
   ]
  },
  {
   "cell_type": "code",
   "execution_count": 106,
   "id": "a15858f8",
   "metadata": {},
   "outputs": [
    {
     "data": {
      "text/plain": [
       "0      0.693147\n",
       "1      1.098612\n",
       "2      0.693147\n",
       "3      0.693147\n",
       "4      0.693147\n",
       "         ...   \n",
       "231    0.693147\n",
       "232    0.693147\n",
       "233    1.098612\n",
       "234    0.693147\n",
       "235    0.693147\n",
       "Name: log_products_ordered, Length: 236, dtype: float64"
      ]
     },
     "execution_count": 106,
     "metadata": {},
     "output_type": "execute_result"
    }
   ],
   "source": [
    "apply_log1p_transformation(customers, \"products_ordered\")"
   ]
  },
  {
   "cell_type": "markdown",
   "id": "cbe4d131",
   "metadata": {},
   "source": [
    "2. Average return rate"
   ]
  },
  {
   "cell_type": "code",
   "execution_count": 107,
   "id": "60415618",
   "metadata": {},
   "outputs": [
    {
     "data": {
      "text/plain": [
       "0      0.000000\n",
       "1      0.000000\n",
       "2      0.000000\n",
       "3      0.000000\n",
       "4      0.000000\n",
       "         ...   \n",
       "231    0.000000\n",
       "232    0.000000\n",
       "233    0.405465\n",
       "234    0.000000\n",
       "235    0.000000\n",
       "Name: log_average_return_rate, Length: 236, dtype: float64"
      ]
     },
     "execution_count": 107,
     "metadata": {},
     "output_type": "execute_result"
    }
   ],
   "source": [
    "apply_log1p_transformation(customers, \"average_return_rate\")"
   ]
  },
  {
   "cell_type": "markdown",
   "id": "503993e6",
   "metadata": {},
   "source": [
    "3. Total spending"
   ]
  },
  {
   "cell_type": "code",
   "execution_count": 108,
   "id": "c765a246",
   "metadata": {},
   "outputs": [
    {
     "data": {
      "text/plain": [
       "0      5.564482\n",
       "1      6.255712\n",
       "2      5.170427\n",
       "3      4.836203\n",
       "4      5.564482\n",
       "         ...   \n",
       "231    5.564482\n",
       "232    4.836203\n",
       "233    5.525413\n",
       "234    5.081342\n",
       "235    5.525413\n",
       "Name: log_total_spending, Length: 236, dtype: float64"
      ]
     },
     "execution_count": 108,
     "metadata": {},
     "output_type": "execute_result"
    }
   ],
   "source": [
    "apply_log1p_transformation(customers, \"total_spending\")"
   ]
  },
  {
   "cell_type": "markdown",
   "id": "39f4f072",
   "metadata": {},
   "source": [
    "Visualize log transformation applied features"
   ]
  },
  {
   "cell_type": "code",
   "execution_count": 109,
   "id": "954724b1",
   "metadata": {},
   "outputs": [
    {
     "data": {
      "application/vnd.plotly.v1+json": {
       "config": {
        "plotlyServerURL": "https://plot.ly"
       },
       "data": [
        {
         "type": "histogram",
         "x": [
          0.6931471805599453,
          1.0986122886681098,
          0.6931471805599453,
          0.6931471805599453,
          0.6931471805599453,
          0.6931471805599453,
          0.6931471805599453,
          0.6931471805599453,
          0.6931471805599453,
          0.6931471805599453,
          0.6931471805599453,
          0.6931471805599453,
          0.6931471805599453,
          0.6931471805599453,
          0.6931471805599453,
          0.6931471805599453,
          0.6931471805599453,
          1.0986122886681098,
          0.6931471805599453,
          0.6931471805599453,
          0.6931471805599453,
          0.6931471805599453,
          0.6931471805599453,
          0.6931471805599453,
          0.6931471805599453,
          0.6931471805599453,
          0.6931471805599453,
          0.6931471805599453,
          0.6931471805599453,
          0.6931471805599453,
          1.0986122886681098,
          0.6931471805599453,
          0.6931471805599453,
          0.6931471805599453,
          1.0986122886681098,
          0.6931471805599453,
          0.6931471805599453,
          0.6931471805599453,
          0.6931471805599453,
          0.6931471805599453,
          1.0986122886681098,
          0.6931471805599453,
          0.6931471805599453,
          0.6931471805599453,
          0.6931471805599453,
          0.6931471805599453,
          0.6931471805599453,
          0.6931471805599453,
          0.6931471805599453,
          0.6931471805599453,
          0.6931471805599453,
          0.6931471805599453,
          1.0986122886681098,
          0.6931471805599453,
          0.6931471805599453,
          0.6931471805599453,
          0.6931471805599453,
          0.6931471805599453,
          0.6931471805599453,
          0.6931471805599453,
          0.6931471805599453,
          0.6931471805599453,
          0.6931471805599453,
          0.6931471805599453,
          0.6931471805599453,
          0.6931471805599453,
          0.6931471805599453,
          0.6931471805599453,
          0.6931471805599453,
          0.6931471805599453,
          0.6931471805599453,
          0.6931471805599453,
          0.6931471805599453,
          1.0986122886681098,
          0.6931471805599453,
          0.6931471805599453,
          1.0986122886681098,
          0.6931471805599453,
          0.6931471805599453,
          0.6931471805599453,
          0.6931471805599453,
          0.6931471805599453,
          1.3862943611198906,
          0.6931471805599453,
          0.6931471805599453,
          1.0986122886681098,
          0.6931471805599453,
          0.6931471805599453,
          1.0986122886681098,
          0.6931471805599453,
          0.6931471805599453,
          0.6931471805599453,
          0.6931471805599453,
          0.6931471805599453,
          0.6931471805599453,
          0.6931471805599453,
          0.6931471805599453,
          0.6931471805599453,
          0.6931471805599453,
          0.6931471805599453,
          0.6931471805599453,
          1.0986122886681098,
          0.6931471805599453,
          0.6931471805599453,
          0.6931471805599453,
          0.6931471805599453,
          0.6931471805599453,
          0.6931471805599453,
          0.6931471805599453,
          1.0986122886681098,
          0.6931471805599453,
          0.6931471805599453,
          0.6931471805599453,
          0.6931471805599453,
          0.6931471805599453,
          0.6931471805599453,
          0.6931471805599453,
          0.6931471805599453,
          0.6931471805599453,
          0.6931471805599453,
          0.6931471805599453,
          0.6931471805599453,
          0.6931471805599453,
          0.6931471805599453,
          0.6931471805599453,
          0.6931471805599453,
          0.6931471805599453,
          0.6931471805599453,
          0.6931471805599453,
          0.6931471805599453,
          0.6931471805599453,
          0.6931471805599453,
          0.6931471805599453,
          0.6931471805599453,
          0.6931471805599453,
          1.0986122886681098,
          0.6931471805599453,
          0.6931471805599453,
          0.6931471805599453,
          0.6931471805599453,
          1.0986122886681098,
          0.6931471805599453,
          0.6931471805599453,
          0.6931471805599453,
          0.6931471805599453,
          0.6931471805599453,
          0.6931471805599453,
          0.6931471805599453,
          0.6931471805599453,
          0.6931471805599453,
          0.6931471805599453,
          0.6931471805599453,
          0.6931471805599453,
          0.6931471805599453,
          0.6931471805599453,
          0.6931471805599453,
          0.6931471805599453,
          0.6931471805599453,
          0.6931471805599453,
          0.6931471805599453,
          1.0986122886681098,
          0.6931471805599453,
          0.6931471805599453,
          0.6931471805599453,
          1.0986122886681098,
          0.6931471805599453,
          0.6931471805599453,
          0.6931471805599453,
          0.6931471805599453,
          0.6931471805599453,
          0.6931471805599453,
          0.6931471805599453,
          0.6931471805599453,
          0.6931471805599453,
          0.6931471805599453,
          0.6931471805599453,
          0.6931471805599453,
          0.6931471805599453,
          0.6931471805599453,
          0.6931471805599453,
          0.6931471805599453,
          1.0986122886681098,
          0.6931471805599453,
          0.6931471805599453,
          0.6931471805599453,
          0.6931471805599453,
          0.6931471805599453,
          0.6931471805599453,
          0.6931471805599453,
          0.6931471805599453,
          0.6931471805599453,
          0.6931471805599453,
          0.6931471805599453,
          1.0986122886681098,
          0.6931471805599453,
          0.6931471805599453,
          0.6931471805599453,
          0.6931471805599453,
          0.6931471805599453,
          0.6931471805599453,
          0.6931471805599453,
          0.6931471805599453,
          0.6931471805599453,
          0.6931471805599453,
          1.0986122886681098,
          0.6931471805599453,
          1.0986122886681098,
          0.6931471805599453,
          0.6931471805599453,
          0.6931471805599453,
          0.6931471805599453,
          0.6931471805599453,
          0.6931471805599453,
          1.0986122886681098,
          0.6931471805599453,
          0.6931471805599453,
          0.6931471805599453,
          0.6931471805599453,
          0.6931471805599453,
          0.6931471805599453,
          0.6931471805599453,
          0.6931471805599453,
          0.6931471805599453,
          0.6931471805599453,
          0.6931471805599453,
          0.6931471805599453,
          0.6931471805599453,
          0.6931471805599453,
          0.6931471805599453,
          0.6931471805599453,
          0.6931471805599453,
          0.6931471805599453,
          0.6931471805599453,
          1.0986122886681098,
          0.6931471805599453,
          0.6931471805599453
         ],
         "xaxis": "x",
         "yaxis": "y"
        },
        {
         "type": "histogram",
         "x": [
          0,
          0,
          0,
          0,
          0,
          0,
          0,
          0,
          0,
          0,
          0,
          0,
          0,
          0,
          0,
          0.6931471805599453,
          0.6931471805599453,
          0.4054651081081644,
          0,
          0,
          0,
          0,
          0,
          0,
          0,
          0,
          0,
          0,
          0,
          0,
          0,
          0,
          0,
          0,
          0.4054651081081644,
          0,
          0,
          0,
          0,
          0,
          0,
          0,
          0,
          0,
          0,
          0,
          0,
          0,
          0,
          0,
          0,
          0,
          0,
          0,
          0,
          0,
          0,
          0,
          0,
          0,
          0,
          0,
          0,
          0,
          0,
          0,
          0,
          0,
          0,
          0,
          0,
          0.6931471805599453,
          0,
          0,
          0,
          0,
          0,
          0,
          0,
          0,
          0,
          0,
          0,
          0,
          0,
          0,
          0,
          0,
          0,
          0,
          0,
          0,
          0.6931471805599453,
          0,
          0,
          0,
          0,
          0,
          0,
          0,
          0,
          0,
          0,
          0,
          0,
          0,
          0,
          0,
          0,
          0,
          0,
          0.6931471805599453,
          0,
          0,
          0,
          0,
          0,
          0,
          0.4054651081081644,
          0,
          0,
          0,
          0,
          0,
          0.6931471805599453,
          0,
          0,
          0,
          0,
          0,
          0,
          0,
          0,
          0,
          0,
          0,
          0,
          0,
          0,
          0,
          0,
          0,
          0,
          0,
          0,
          0,
          0,
          0,
          0,
          0,
          0,
          0,
          0,
          0,
          0,
          0,
          0,
          0,
          0,
          0,
          0,
          0,
          0,
          0,
          0,
          0,
          0,
          0,
          0,
          0,
          0,
          0,
          0,
          0,
          0,
          0,
          0,
          0,
          0,
          0,
          0,
          0,
          0,
          0,
          0,
          0,
          0,
          0.6931471805599453,
          0,
          0,
          0,
          0,
          0,
          0.4054651081081644,
          0,
          0,
          0,
          0.6931471805599453,
          0,
          0,
          0,
          0,
          0,
          0,
          0,
          0,
          0,
          0,
          0,
          0,
          0,
          0,
          0,
          0,
          0,
          0,
          0,
          0,
          0,
          0,
          0,
          0,
          0,
          0,
          0,
          0,
          0,
          0,
          0,
          0,
          0,
          0,
          0,
          0.4054651081081644,
          0,
          0
         ],
         "xaxis": "x2",
         "yaxis": "y2"
        },
        {
         "type": "histogram",
         "x": [
          5.564482092412441,
          6.255711653300609,
          5.17042717524212,
          4.836202538722539,
          5.564482092412441,
          5.141546590598088,
          5.225585370381938,
          5.525413097700675,
          5.141546590598088,
          5.564482092412441,
          5.166898027681201,
          5.525413097700675,
          5.525413097700675,
          5.17042717524212,
          5.564482092412441,
          0,
          0,
          5.525413097700675,
          5.564482092412441,
          4.912581353620868,
          5.564482092412441,
          4.845131522228461,
          5.525413097700675,
          4.564244019375446,
          4.836202538722539,
          5.525413097700675,
          5.564482092412441,
          5.17042717524212,
          5.564482092412441,
          5.0056227522727115,
          6.284078189355161,
          4.836202538722539,
          5.564482092412441,
          5.0812801336655875,
          5.045809369103909,
          5.141546590598088,
          4.836202538722539,
          5.17042717524212,
          5.17042717524212,
          4.836202538722539,
          5.1118070491326275,
          5.30325515557766,
          4.605170185988092,
          5.141546590598088,
          5.17042717524212,
          5.525413097700675,
          4.836202538722539,
          5.17042717524212,
          5.525413097700675,
          5.17042717524212,
          3.554776469590456,
          5.420490750505713,
          5.583383520466449,
          5.525413097700675,
          4.983538126211888,
          5.17042717524212,
          5.17042717524212,
          5.17042717524212,
          5.17042717524212,
          4.836202538722539,
          5.17042717524212,
          5.141546590598088,
          5.081342251254203,
          5.17042717524212,
          5.056946196959506,
          5.17042717524212,
          5.564482092412441,
          4.983538126211888,
          5.17042717524212,
          4.983538126211888,
          5.17042717524212,
          0,
          5.564482092412441,
          6.236330450494507,
          5.420490750505713,
          5.525413097700675,
          6.255711653300609,
          5.525413097700675,
          5.081342251254203,
          5.564482092412441,
          4.845131522228461,
          5.17042717524212,
          6.530833894991198,
          5.525413097700675,
          5.420490750505713,
          5.049663681063734,
          4.836202538722539,
          5.564482092412441,
          6.077596370737269,
          5.17042717524212,
          5.17042717524212,
          5.564482092412441,
          0,
          5.17042717524212,
          5.141546590598088,
          5.17042717524212,
          2.7713379403381286,
          5.525413097700675,
          5.17042717524212,
          5.620328399323409,
          5.564482092412441,
          6.255711653300609,
          4.912581353620868,
          5.17042717524212,
          5.17042717524212,
          4.699297848712789,
          5.17042717524212,
          5.17042717524212,
          5.17042717524212,
          6.908714818476837,
          5.17042717524212,
          0,
          4.836202538722539,
          4.831349125845822,
          5.17042717524212,
          5.564482092412441,
          5.176771008468541,
          2.7713379403381286,
          5.525413097700675,
          5.081342251254203,
          5.525413097700675,
          5.17042717524212,
          5.17042717524212,
          4.836202538722539,
          0,
          5.17042717524212,
          4.836202538722539,
          4.836202538722539,
          5.017213609456379,
          5.225585370381938,
          5.564482092412441,
          4.845131522228461,
          5.0812801336655875,
          5.17042717524212,
          5.17042717524212,
          5.346964663369558,
          5.166898027681201,
          5.525413097700675,
          5.525413097700675,
          5.564482092412441,
          5.2521163476473225,
          5.081342251254203,
          5.081342251254203,
          5.525413097700675,
          4.836202538722539,
          5.564482092412441,
          5.564482092412441,
          5.564482092412441,
          5.525413097700675,
          5.525413097700675,
          4.912581353620868,
          5.564482092412441,
          5.620328399323409,
          5.17042717524212,
          5.525413097700675,
          5.564482092412441,
          5.0812801336655875,
          5.081342251254203,
          4.836202538722539,
          5.17042717524212,
          5.346964663369558,
          5.620328399323409,
          5.564482092412441,
          5.564482092412441,
          5.0749862976535045,
          5.017213609456379,
          5.564482092412441,
          5.081342251254203,
          5.17042717524212,
          4.912581353620868,
          5.564482092412441,
          4.912581353620868,
          5.620328399323409,
          4.836202538722539,
          5.081342251254203,
          5.17042717524212,
          5.17042717524212,
          4.7957078975533864,
          5.564482092412441,
          5.525413097700675,
          4.912581353620868,
          6.274724355749176,
          4.836202538722539,
          5.176771008468541,
          5.17042717524212,
          4.875120984409557,
          5.225585370381938,
          0,
          5.017213609456379,
          5.17042717524212,
          5.564482092412441,
          5.525413097700675,
          5.225585370381938,
          5.17042717524212,
          5.30325515557766,
          5.17042717524212,
          5.17042717524212,
          0,
          5.141546590598088,
          5.17042717524212,
          5.17042717524212,
          5.420490750505713,
          5.017213609456379,
          4.836202538722539,
          5.346964663369558,
          4.836202538722539,
          5.0749862976535045,
          5.176771008468541,
          4.912581353620868,
          4.912581353620868,
          5.525413097700675,
          5.045809369103909,
          5.564482092412441,
          6.545306555957164,
          5.564482092412441,
          5.525413097700675,
          4.836202538722539,
          5.141546590598088,
          5.198386527922987,
          5.17042717524212,
          5.17042717524212,
          5.420490750505713,
          5.141546590598088,
          5.564482092412441,
          5.081342251254203,
          4.836202538722539,
          5.525413097700675,
          5.525413097700675,
          5.525413097700675,
          5.17042717524212,
          5.525413097700675,
          5.564482092412441,
          4.836202538722539,
          5.525413097700675,
          5.081342251254203,
          5.525413097700675
         ],
         "xaxis": "x3",
         "yaxis": "y3"
        }
       ],
       "layout": {
        "annotations": [
         {
          "font": {
           "size": 16
          },
          "showarrow": false,
          "text": "Products Ordered",
          "x": 0.5,
          "xanchor": "center",
          "xref": "paper",
          "y": 1,
          "yanchor": "bottom",
          "yref": "paper"
         },
         {
          "font": {
           "size": 16
          },
          "showarrow": false,
          "text": "Average Return Rate",
          "x": 0.5,
          "xanchor": "center",
          "xref": "paper",
          "y": 0.6111111111111112,
          "yanchor": "bottom",
          "yref": "paper"
         },
         {
          "font": {
           "size": 16
          },
          "showarrow": false,
          "text": "Total Spending",
          "x": 0.5,
          "xanchor": "center",
          "xref": "paper",
          "y": 0.22222222222222224,
          "yanchor": "bottom",
          "yref": "paper"
         }
        ],
        "height": 800,
        "template": {
         "data": {
          "bar": [
           {
            "error_x": {
             "color": "#2a3f5f"
            },
            "error_y": {
             "color": "#2a3f5f"
            },
            "marker": {
             "line": {
              "color": "#E5ECF6",
              "width": 0.5
             },
             "pattern": {
              "fillmode": "overlay",
              "size": 10,
              "solidity": 0.2
             }
            },
            "type": "bar"
           }
          ],
          "barpolar": [
           {
            "marker": {
             "line": {
              "color": "#E5ECF6",
              "width": 0.5
             },
             "pattern": {
              "fillmode": "overlay",
              "size": 10,
              "solidity": 0.2
             }
            },
            "type": "barpolar"
           }
          ],
          "carpet": [
           {
            "aaxis": {
             "endlinecolor": "#2a3f5f",
             "gridcolor": "white",
             "linecolor": "white",
             "minorgridcolor": "white",
             "startlinecolor": "#2a3f5f"
            },
            "baxis": {
             "endlinecolor": "#2a3f5f",
             "gridcolor": "white",
             "linecolor": "white",
             "minorgridcolor": "white",
             "startlinecolor": "#2a3f5f"
            },
            "type": "carpet"
           }
          ],
          "choropleth": [
           {
            "colorbar": {
             "outlinewidth": 0,
             "ticks": ""
            },
            "type": "choropleth"
           }
          ],
          "contour": [
           {
            "colorbar": {
             "outlinewidth": 0,
             "ticks": ""
            },
            "colorscale": [
             [
              0,
              "#0d0887"
             ],
             [
              0.1111111111111111,
              "#46039f"
             ],
             [
              0.2222222222222222,
              "#7201a8"
             ],
             [
              0.3333333333333333,
              "#9c179e"
             ],
             [
              0.4444444444444444,
              "#bd3786"
             ],
             [
              0.5555555555555556,
              "#d8576b"
             ],
             [
              0.6666666666666666,
              "#ed7953"
             ],
             [
              0.7777777777777778,
              "#fb9f3a"
             ],
             [
              0.8888888888888888,
              "#fdca26"
             ],
             [
              1,
              "#f0f921"
             ]
            ],
            "type": "contour"
           }
          ],
          "contourcarpet": [
           {
            "colorbar": {
             "outlinewidth": 0,
             "ticks": ""
            },
            "type": "contourcarpet"
           }
          ],
          "heatmap": [
           {
            "colorbar": {
             "outlinewidth": 0,
             "ticks": ""
            },
            "colorscale": [
             [
              0,
              "#0d0887"
             ],
             [
              0.1111111111111111,
              "#46039f"
             ],
             [
              0.2222222222222222,
              "#7201a8"
             ],
             [
              0.3333333333333333,
              "#9c179e"
             ],
             [
              0.4444444444444444,
              "#bd3786"
             ],
             [
              0.5555555555555556,
              "#d8576b"
             ],
             [
              0.6666666666666666,
              "#ed7953"
             ],
             [
              0.7777777777777778,
              "#fb9f3a"
             ],
             [
              0.8888888888888888,
              "#fdca26"
             ],
             [
              1,
              "#f0f921"
             ]
            ],
            "type": "heatmap"
           }
          ],
          "heatmapgl": [
           {
            "colorbar": {
             "outlinewidth": 0,
             "ticks": ""
            },
            "colorscale": [
             [
              0,
              "#0d0887"
             ],
             [
              0.1111111111111111,
              "#46039f"
             ],
             [
              0.2222222222222222,
              "#7201a8"
             ],
             [
              0.3333333333333333,
              "#9c179e"
             ],
             [
              0.4444444444444444,
              "#bd3786"
             ],
             [
              0.5555555555555556,
              "#d8576b"
             ],
             [
              0.6666666666666666,
              "#ed7953"
             ],
             [
              0.7777777777777778,
              "#fb9f3a"
             ],
             [
              0.8888888888888888,
              "#fdca26"
             ],
             [
              1,
              "#f0f921"
             ]
            ],
            "type": "heatmapgl"
           }
          ],
          "histogram": [
           {
            "marker": {
             "pattern": {
              "fillmode": "overlay",
              "size": 10,
              "solidity": 0.2
             }
            },
            "type": "histogram"
           }
          ],
          "histogram2d": [
           {
            "colorbar": {
             "outlinewidth": 0,
             "ticks": ""
            },
            "colorscale": [
             [
              0,
              "#0d0887"
             ],
             [
              0.1111111111111111,
              "#46039f"
             ],
             [
              0.2222222222222222,
              "#7201a8"
             ],
             [
              0.3333333333333333,
              "#9c179e"
             ],
             [
              0.4444444444444444,
              "#bd3786"
             ],
             [
              0.5555555555555556,
              "#d8576b"
             ],
             [
              0.6666666666666666,
              "#ed7953"
             ],
             [
              0.7777777777777778,
              "#fb9f3a"
             ],
             [
              0.8888888888888888,
              "#fdca26"
             ],
             [
              1,
              "#f0f921"
             ]
            ],
            "type": "histogram2d"
           }
          ],
          "histogram2dcontour": [
           {
            "colorbar": {
             "outlinewidth": 0,
             "ticks": ""
            },
            "colorscale": [
             [
              0,
              "#0d0887"
             ],
             [
              0.1111111111111111,
              "#46039f"
             ],
             [
              0.2222222222222222,
              "#7201a8"
             ],
             [
              0.3333333333333333,
              "#9c179e"
             ],
             [
              0.4444444444444444,
              "#bd3786"
             ],
             [
              0.5555555555555556,
              "#d8576b"
             ],
             [
              0.6666666666666666,
              "#ed7953"
             ],
             [
              0.7777777777777778,
              "#fb9f3a"
             ],
             [
              0.8888888888888888,
              "#fdca26"
             ],
             [
              1,
              "#f0f921"
             ]
            ],
            "type": "histogram2dcontour"
           }
          ],
          "mesh3d": [
           {
            "colorbar": {
             "outlinewidth": 0,
             "ticks": ""
            },
            "type": "mesh3d"
           }
          ],
          "parcoords": [
           {
            "line": {
             "colorbar": {
              "outlinewidth": 0,
              "ticks": ""
             }
            },
            "type": "parcoords"
           }
          ],
          "pie": [
           {
            "automargin": true,
            "type": "pie"
           }
          ],
          "scatter": [
           {
            "marker": {
             "colorbar": {
              "outlinewidth": 0,
              "ticks": ""
             }
            },
            "type": "scatter"
           }
          ],
          "scatter3d": [
           {
            "line": {
             "colorbar": {
              "outlinewidth": 0,
              "ticks": ""
             }
            },
            "marker": {
             "colorbar": {
              "outlinewidth": 0,
              "ticks": ""
             }
            },
            "type": "scatter3d"
           }
          ],
          "scattercarpet": [
           {
            "marker": {
             "colorbar": {
              "outlinewidth": 0,
              "ticks": ""
             }
            },
            "type": "scattercarpet"
           }
          ],
          "scattergeo": [
           {
            "marker": {
             "colorbar": {
              "outlinewidth": 0,
              "ticks": ""
             }
            },
            "type": "scattergeo"
           }
          ],
          "scattergl": [
           {
            "marker": {
             "colorbar": {
              "outlinewidth": 0,
              "ticks": ""
             }
            },
            "type": "scattergl"
           }
          ],
          "scattermapbox": [
           {
            "marker": {
             "colorbar": {
              "outlinewidth": 0,
              "ticks": ""
             }
            },
            "type": "scattermapbox"
           }
          ],
          "scatterpolar": [
           {
            "marker": {
             "colorbar": {
              "outlinewidth": 0,
              "ticks": ""
             }
            },
            "type": "scatterpolar"
           }
          ],
          "scatterpolargl": [
           {
            "marker": {
             "colorbar": {
              "outlinewidth": 0,
              "ticks": ""
             }
            },
            "type": "scatterpolargl"
           }
          ],
          "scatterternary": [
           {
            "marker": {
             "colorbar": {
              "outlinewidth": 0,
              "ticks": ""
             }
            },
            "type": "scatterternary"
           }
          ],
          "surface": [
           {
            "colorbar": {
             "outlinewidth": 0,
             "ticks": ""
            },
            "colorscale": [
             [
              0,
              "#0d0887"
             ],
             [
              0.1111111111111111,
              "#46039f"
             ],
             [
              0.2222222222222222,
              "#7201a8"
             ],
             [
              0.3333333333333333,
              "#9c179e"
             ],
             [
              0.4444444444444444,
              "#bd3786"
             ],
             [
              0.5555555555555556,
              "#d8576b"
             ],
             [
              0.6666666666666666,
              "#ed7953"
             ],
             [
              0.7777777777777778,
              "#fb9f3a"
             ],
             [
              0.8888888888888888,
              "#fdca26"
             ],
             [
              1,
              "#f0f921"
             ]
            ],
            "type": "surface"
           }
          ],
          "table": [
           {
            "cells": {
             "fill": {
              "color": "#EBF0F8"
             },
             "line": {
              "color": "white"
             }
            },
            "header": {
             "fill": {
              "color": "#C8D4E3"
             },
             "line": {
              "color": "white"
             }
            },
            "type": "table"
           }
          ]
         },
         "layout": {
          "annotationdefaults": {
           "arrowcolor": "#2a3f5f",
           "arrowhead": 0,
           "arrowwidth": 1
          },
          "autotypenumbers": "strict",
          "coloraxis": {
           "colorbar": {
            "outlinewidth": 0,
            "ticks": ""
           }
          },
          "colorscale": {
           "diverging": [
            [
             0,
             "#8e0152"
            ],
            [
             0.1,
             "#c51b7d"
            ],
            [
             0.2,
             "#de77ae"
            ],
            [
             0.3,
             "#f1b6da"
            ],
            [
             0.4,
             "#fde0ef"
            ],
            [
             0.5,
             "#f7f7f7"
            ],
            [
             0.6,
             "#e6f5d0"
            ],
            [
             0.7,
             "#b8e186"
            ],
            [
             0.8,
             "#7fbc41"
            ],
            [
             0.9,
             "#4d9221"
            ],
            [
             1,
             "#276419"
            ]
           ],
           "sequential": [
            [
             0,
             "#0d0887"
            ],
            [
             0.1111111111111111,
             "#46039f"
            ],
            [
             0.2222222222222222,
             "#7201a8"
            ],
            [
             0.3333333333333333,
             "#9c179e"
            ],
            [
             0.4444444444444444,
             "#bd3786"
            ],
            [
             0.5555555555555556,
             "#d8576b"
            ],
            [
             0.6666666666666666,
             "#ed7953"
            ],
            [
             0.7777777777777778,
             "#fb9f3a"
            ],
            [
             0.8888888888888888,
             "#fdca26"
            ],
            [
             1,
             "#f0f921"
            ]
           ],
           "sequentialminus": [
            [
             0,
             "#0d0887"
            ],
            [
             0.1111111111111111,
             "#46039f"
            ],
            [
             0.2222222222222222,
             "#7201a8"
            ],
            [
             0.3333333333333333,
             "#9c179e"
            ],
            [
             0.4444444444444444,
             "#bd3786"
            ],
            [
             0.5555555555555556,
             "#d8576b"
            ],
            [
             0.6666666666666666,
             "#ed7953"
            ],
            [
             0.7777777777777778,
             "#fb9f3a"
            ],
            [
             0.8888888888888888,
             "#fdca26"
            ],
            [
             1,
             "#f0f921"
            ]
           ]
          },
          "colorway": [
           "#636efa",
           "#EF553B",
           "#00cc96",
           "#ab63fa",
           "#FFA15A",
           "#19d3f3",
           "#FF6692",
           "#B6E880",
           "#FF97FF",
           "#FECB52"
          ],
          "font": {
           "color": "#2a3f5f"
          },
          "geo": {
           "bgcolor": "white",
           "lakecolor": "white",
           "landcolor": "#E5ECF6",
           "showlakes": true,
           "showland": true,
           "subunitcolor": "white"
          },
          "hoverlabel": {
           "align": "left"
          },
          "hovermode": "closest",
          "mapbox": {
           "style": "light"
          },
          "paper_bgcolor": "white",
          "plot_bgcolor": "#E5ECF6",
          "polar": {
           "angularaxis": {
            "gridcolor": "white",
            "linecolor": "white",
            "ticks": ""
           },
           "bgcolor": "#E5ECF6",
           "radialaxis": {
            "gridcolor": "white",
            "linecolor": "white",
            "ticks": ""
           }
          },
          "scene": {
           "xaxis": {
            "backgroundcolor": "#E5ECF6",
            "gridcolor": "white",
            "gridwidth": 2,
            "linecolor": "white",
            "showbackground": true,
            "ticks": "",
            "zerolinecolor": "white"
           },
           "yaxis": {
            "backgroundcolor": "#E5ECF6",
            "gridcolor": "white",
            "gridwidth": 2,
            "linecolor": "white",
            "showbackground": true,
            "ticks": "",
            "zerolinecolor": "white"
           },
           "zaxis": {
            "backgroundcolor": "#E5ECF6",
            "gridcolor": "white",
            "gridwidth": 2,
            "linecolor": "white",
            "showbackground": true,
            "ticks": "",
            "zerolinecolor": "white"
           }
          },
          "shapedefaults": {
           "line": {
            "color": "#2a3f5f"
           }
          },
          "ternary": {
           "aaxis": {
            "gridcolor": "white",
            "linecolor": "white",
            "ticks": ""
           },
           "baxis": {
            "gridcolor": "white",
            "linecolor": "white",
            "ticks": ""
           },
           "bgcolor": "#E5ECF6",
           "caxis": {
            "gridcolor": "white",
            "linecolor": "white",
            "ticks": ""
           }
          },
          "title": {
           "x": 0.05
          },
          "xaxis": {
           "automargin": true,
           "gridcolor": "white",
           "linecolor": "white",
           "ticks": "",
           "title": {
            "standoff": 15
           },
           "zerolinecolor": "white",
           "zerolinewidth": 2
          },
          "yaxis": {
           "automargin": true,
           "gridcolor": "white",
           "linecolor": "white",
           "ticks": "",
           "title": {
            "standoff": 15
           },
           "zerolinecolor": "white",
           "zerolinewidth": 2
          }
         }
        },
        "title": {
         "text": "Distribution of the Features after Logarithm Transformation"
        },
        "width": 800,
        "xaxis": {
         "anchor": "y",
         "domain": [
          0,
          1
         ]
        },
        "xaxis2": {
         "anchor": "y2",
         "domain": [
          0,
          1
         ]
        },
        "xaxis3": {
         "anchor": "y3",
         "domain": [
          0,
          1
         ]
        },
        "yaxis": {
         "anchor": "x",
         "domain": [
          0.7777777777777778,
          1
         ]
        },
        "yaxis2": {
         "anchor": "x2",
         "domain": [
          0.3888888888888889,
          0.6111111111111112
         ]
        },
        "yaxis3": {
         "anchor": "x3",
         "domain": [
          0,
          0.22222222222222224
         ]
        }
       }
      },
      "text/html": [
       "<div>                            <div id=\"c7ae1fd1-81f6-480f-ae15-2b17b09065ce\" class=\"plotly-graph-div\" style=\"height:800px; width:800px;\"></div>            <script type=\"text/javascript\">                require([\"plotly\"], function(Plotly) {                    window.PLOTLYENV=window.PLOTLYENV || {};                                    if (document.getElementById(\"c7ae1fd1-81f6-480f-ae15-2b17b09065ce\")) {                    Plotly.newPlot(                        \"c7ae1fd1-81f6-480f-ae15-2b17b09065ce\",                        [{\"x\":[0.6931471805599453,1.0986122886681098,0.6931471805599453,0.6931471805599453,0.6931471805599453,0.6931471805599453,0.6931471805599453,0.6931471805599453,0.6931471805599453,0.6931471805599453,0.6931471805599453,0.6931471805599453,0.6931471805599453,0.6931471805599453,0.6931471805599453,0.6931471805599453,0.6931471805599453,1.0986122886681098,0.6931471805599453,0.6931471805599453,0.6931471805599453,0.6931471805599453,0.6931471805599453,0.6931471805599453,0.6931471805599453,0.6931471805599453,0.6931471805599453,0.6931471805599453,0.6931471805599453,0.6931471805599453,1.0986122886681098,0.6931471805599453,0.6931471805599453,0.6931471805599453,1.0986122886681098,0.6931471805599453,0.6931471805599453,0.6931471805599453,0.6931471805599453,0.6931471805599453,1.0986122886681098,0.6931471805599453,0.6931471805599453,0.6931471805599453,0.6931471805599453,0.6931471805599453,0.6931471805599453,0.6931471805599453,0.6931471805599453,0.6931471805599453,0.6931471805599453,0.6931471805599453,1.0986122886681098,0.6931471805599453,0.6931471805599453,0.6931471805599453,0.6931471805599453,0.6931471805599453,0.6931471805599453,0.6931471805599453,0.6931471805599453,0.6931471805599453,0.6931471805599453,0.6931471805599453,0.6931471805599453,0.6931471805599453,0.6931471805599453,0.6931471805599453,0.6931471805599453,0.6931471805599453,0.6931471805599453,0.6931471805599453,0.6931471805599453,1.0986122886681098,0.6931471805599453,0.6931471805599453,1.0986122886681098,0.6931471805599453,0.6931471805599453,0.6931471805599453,0.6931471805599453,0.6931471805599453,1.3862943611198906,0.6931471805599453,0.6931471805599453,1.0986122886681098,0.6931471805599453,0.6931471805599453,1.0986122886681098,0.6931471805599453,0.6931471805599453,0.6931471805599453,0.6931471805599453,0.6931471805599453,0.6931471805599453,0.6931471805599453,0.6931471805599453,0.6931471805599453,0.6931471805599453,0.6931471805599453,0.6931471805599453,1.0986122886681098,0.6931471805599453,0.6931471805599453,0.6931471805599453,0.6931471805599453,0.6931471805599453,0.6931471805599453,0.6931471805599453,1.0986122886681098,0.6931471805599453,0.6931471805599453,0.6931471805599453,0.6931471805599453,0.6931471805599453,0.6931471805599453,0.6931471805599453,0.6931471805599453,0.6931471805599453,0.6931471805599453,0.6931471805599453,0.6931471805599453,0.6931471805599453,0.6931471805599453,0.6931471805599453,0.6931471805599453,0.6931471805599453,0.6931471805599453,0.6931471805599453,0.6931471805599453,0.6931471805599453,0.6931471805599453,0.6931471805599453,0.6931471805599453,0.6931471805599453,1.0986122886681098,0.6931471805599453,0.6931471805599453,0.6931471805599453,0.6931471805599453,1.0986122886681098,0.6931471805599453,0.6931471805599453,0.6931471805599453,0.6931471805599453,0.6931471805599453,0.6931471805599453,0.6931471805599453,0.6931471805599453,0.6931471805599453,0.6931471805599453,0.6931471805599453,0.6931471805599453,0.6931471805599453,0.6931471805599453,0.6931471805599453,0.6931471805599453,0.6931471805599453,0.6931471805599453,0.6931471805599453,1.0986122886681098,0.6931471805599453,0.6931471805599453,0.6931471805599453,1.0986122886681098,0.6931471805599453,0.6931471805599453,0.6931471805599453,0.6931471805599453,0.6931471805599453,0.6931471805599453,0.6931471805599453,0.6931471805599453,0.6931471805599453,0.6931471805599453,0.6931471805599453,0.6931471805599453,0.6931471805599453,0.6931471805599453,0.6931471805599453,0.6931471805599453,1.0986122886681098,0.6931471805599453,0.6931471805599453,0.6931471805599453,0.6931471805599453,0.6931471805599453,0.6931471805599453,0.6931471805599453,0.6931471805599453,0.6931471805599453,0.6931471805599453,0.6931471805599453,1.0986122886681098,0.6931471805599453,0.6931471805599453,0.6931471805599453,0.6931471805599453,0.6931471805599453,0.6931471805599453,0.6931471805599453,0.6931471805599453,0.6931471805599453,0.6931471805599453,1.0986122886681098,0.6931471805599453,1.0986122886681098,0.6931471805599453,0.6931471805599453,0.6931471805599453,0.6931471805599453,0.6931471805599453,0.6931471805599453,1.0986122886681098,0.6931471805599453,0.6931471805599453,0.6931471805599453,0.6931471805599453,0.6931471805599453,0.6931471805599453,0.6931471805599453,0.6931471805599453,0.6931471805599453,0.6931471805599453,0.6931471805599453,0.6931471805599453,0.6931471805599453,0.6931471805599453,0.6931471805599453,0.6931471805599453,0.6931471805599453,0.6931471805599453,0.6931471805599453,1.0986122886681098,0.6931471805599453,0.6931471805599453],\"type\":\"histogram\",\"xaxis\":\"x\",\"yaxis\":\"y\"},{\"x\":[0.0,0.0,0.0,0.0,0.0,0.0,0.0,0.0,0.0,0.0,0.0,0.0,0.0,0.0,0.0,0.6931471805599453,0.6931471805599453,0.4054651081081644,0.0,0.0,0.0,0.0,0.0,0.0,0.0,0.0,0.0,0.0,0.0,0.0,0.0,0.0,0.0,0.0,0.4054651081081644,0.0,0.0,0.0,0.0,0.0,0.0,0.0,0.0,0.0,0.0,0.0,0.0,0.0,0.0,0.0,0.0,0.0,0.0,0.0,0.0,0.0,0.0,0.0,0.0,0.0,0.0,0.0,0.0,0.0,0.0,0.0,0.0,0.0,0.0,0.0,0.0,0.6931471805599453,0.0,0.0,0.0,0.0,0.0,0.0,0.0,0.0,0.0,0.0,0.0,0.0,0.0,0.0,0.0,0.0,0.0,0.0,0.0,0.0,0.6931471805599453,0.0,0.0,0.0,0.0,0.0,0.0,0.0,0.0,0.0,0.0,0.0,0.0,0.0,0.0,0.0,0.0,0.0,0.0,0.6931471805599453,0.0,0.0,0.0,0.0,0.0,0.0,0.4054651081081644,0.0,0.0,0.0,0.0,0.0,0.6931471805599453,0.0,0.0,0.0,0.0,0.0,0.0,0.0,0.0,0.0,0.0,0.0,0.0,0.0,0.0,0.0,0.0,0.0,0.0,0.0,0.0,0.0,0.0,0.0,0.0,0.0,0.0,0.0,0.0,0.0,0.0,0.0,0.0,0.0,0.0,0.0,0.0,0.0,0.0,0.0,0.0,0.0,0.0,0.0,0.0,0.0,0.0,0.0,0.0,0.0,0.0,0.0,0.0,0.0,0.0,0.0,0.0,0.0,0.0,0.0,0.0,0.0,0.0,0.6931471805599453,0.0,0.0,0.0,0.0,0.0,0.4054651081081644,0.0,0.0,0.0,0.6931471805599453,0.0,0.0,0.0,0.0,0.0,0.0,0.0,0.0,0.0,0.0,0.0,0.0,0.0,0.0,0.0,0.0,0.0,0.0,0.0,0.0,0.0,0.0,0.0,0.0,0.0,0.0,0.0,0.0,0.0,0.0,0.0,0.0,0.0,0.0,0.0,0.4054651081081644,0.0,0.0],\"type\":\"histogram\",\"xaxis\":\"x2\",\"yaxis\":\"y2\"},{\"x\":[5.564482092412441,6.255711653300609,5.17042717524212,4.836202538722539,5.564482092412441,5.141546590598088,5.225585370381938,5.525413097700675,5.141546590598088,5.564482092412441,5.166898027681201,5.525413097700675,5.525413097700675,5.17042717524212,5.564482092412441,0.0,0.0,5.525413097700675,5.564482092412441,4.912581353620868,5.564482092412441,4.845131522228461,5.525413097700675,4.564244019375446,4.836202538722539,5.525413097700675,5.564482092412441,5.17042717524212,5.564482092412441,5.0056227522727115,6.284078189355161,4.836202538722539,5.564482092412441,5.0812801336655875,5.045809369103909,5.141546590598088,4.836202538722539,5.17042717524212,5.17042717524212,4.836202538722539,5.1118070491326275,5.30325515557766,4.605170185988092,5.141546590598088,5.17042717524212,5.525413097700675,4.836202538722539,5.17042717524212,5.525413097700675,5.17042717524212,3.554776469590456,5.420490750505713,5.583383520466449,5.525413097700675,4.983538126211888,5.17042717524212,5.17042717524212,5.17042717524212,5.17042717524212,4.836202538722539,5.17042717524212,5.141546590598088,5.081342251254203,5.17042717524212,5.056946196959506,5.17042717524212,5.564482092412441,4.983538126211888,5.17042717524212,4.983538126211888,5.17042717524212,0.0,5.564482092412441,6.236330450494507,5.420490750505713,5.525413097700675,6.255711653300609,5.525413097700675,5.081342251254203,5.564482092412441,4.845131522228461,5.17042717524212,6.530833894991198,5.525413097700675,5.420490750505713,5.049663681063734,4.836202538722539,5.564482092412441,6.077596370737269,5.17042717524212,5.17042717524212,5.564482092412441,0.0,5.17042717524212,5.141546590598088,5.17042717524212,2.7713379403381286,5.525413097700675,5.17042717524212,5.620328399323409,5.564482092412441,6.255711653300609,4.912581353620868,5.17042717524212,5.17042717524212,4.699297848712789,5.17042717524212,5.17042717524212,5.17042717524212,6.908714818476837,5.17042717524212,0.0,4.836202538722539,4.831349125845822,5.17042717524212,5.564482092412441,5.176771008468541,2.7713379403381286,5.525413097700675,5.081342251254203,5.525413097700675,5.17042717524212,5.17042717524212,4.836202538722539,0.0,5.17042717524212,4.836202538722539,4.836202538722539,5.017213609456379,5.225585370381938,5.564482092412441,4.845131522228461,5.0812801336655875,5.17042717524212,5.17042717524212,5.346964663369558,5.166898027681201,5.525413097700675,5.525413097700675,5.564482092412441,5.2521163476473225,5.081342251254203,5.081342251254203,5.525413097700675,4.836202538722539,5.564482092412441,5.564482092412441,5.564482092412441,5.525413097700675,5.525413097700675,4.912581353620868,5.564482092412441,5.620328399323409,5.17042717524212,5.525413097700675,5.564482092412441,5.0812801336655875,5.081342251254203,4.836202538722539,5.17042717524212,5.346964663369558,5.620328399323409,5.564482092412441,5.564482092412441,5.0749862976535045,5.017213609456379,5.564482092412441,5.081342251254203,5.17042717524212,4.912581353620868,5.564482092412441,4.912581353620868,5.620328399323409,4.836202538722539,5.081342251254203,5.17042717524212,5.17042717524212,4.7957078975533864,5.564482092412441,5.525413097700675,4.912581353620868,6.274724355749176,4.836202538722539,5.176771008468541,5.17042717524212,4.875120984409557,5.225585370381938,0.0,5.017213609456379,5.17042717524212,5.564482092412441,5.525413097700675,5.225585370381938,5.17042717524212,5.30325515557766,5.17042717524212,5.17042717524212,0.0,5.141546590598088,5.17042717524212,5.17042717524212,5.420490750505713,5.017213609456379,4.836202538722539,5.346964663369558,4.836202538722539,5.0749862976535045,5.176771008468541,4.912581353620868,4.912581353620868,5.525413097700675,5.045809369103909,5.564482092412441,6.545306555957164,5.564482092412441,5.525413097700675,4.836202538722539,5.141546590598088,5.198386527922987,5.17042717524212,5.17042717524212,5.420490750505713,5.141546590598088,5.564482092412441,5.081342251254203,4.836202538722539,5.525413097700675,5.525413097700675,5.525413097700675,5.17042717524212,5.525413097700675,5.564482092412441,4.836202538722539,5.525413097700675,5.081342251254203,5.525413097700675],\"type\":\"histogram\",\"xaxis\":\"x3\",\"yaxis\":\"y3\"}],                        {\"template\":{\"data\":{\"bar\":[{\"error_x\":{\"color\":\"#2a3f5f\"},\"error_y\":{\"color\":\"#2a3f5f\"},\"marker\":{\"line\":{\"color\":\"#E5ECF6\",\"width\":0.5},\"pattern\":{\"fillmode\":\"overlay\",\"size\":10,\"solidity\":0.2}},\"type\":\"bar\"}],\"barpolar\":[{\"marker\":{\"line\":{\"color\":\"#E5ECF6\",\"width\":0.5},\"pattern\":{\"fillmode\":\"overlay\",\"size\":10,\"solidity\":0.2}},\"type\":\"barpolar\"}],\"carpet\":[{\"aaxis\":{\"endlinecolor\":\"#2a3f5f\",\"gridcolor\":\"white\",\"linecolor\":\"white\",\"minorgridcolor\":\"white\",\"startlinecolor\":\"#2a3f5f\"},\"baxis\":{\"endlinecolor\":\"#2a3f5f\",\"gridcolor\":\"white\",\"linecolor\":\"white\",\"minorgridcolor\":\"white\",\"startlinecolor\":\"#2a3f5f\"},\"type\":\"carpet\"}],\"choropleth\":[{\"colorbar\":{\"outlinewidth\":0,\"ticks\":\"\"},\"type\":\"choropleth\"}],\"contour\":[{\"colorbar\":{\"outlinewidth\":0,\"ticks\":\"\"},\"colorscale\":[[0.0,\"#0d0887\"],[0.1111111111111111,\"#46039f\"],[0.2222222222222222,\"#7201a8\"],[0.3333333333333333,\"#9c179e\"],[0.4444444444444444,\"#bd3786\"],[0.5555555555555556,\"#d8576b\"],[0.6666666666666666,\"#ed7953\"],[0.7777777777777778,\"#fb9f3a\"],[0.8888888888888888,\"#fdca26\"],[1.0,\"#f0f921\"]],\"type\":\"contour\"}],\"contourcarpet\":[{\"colorbar\":{\"outlinewidth\":0,\"ticks\":\"\"},\"type\":\"contourcarpet\"}],\"heatmap\":[{\"colorbar\":{\"outlinewidth\":0,\"ticks\":\"\"},\"colorscale\":[[0.0,\"#0d0887\"],[0.1111111111111111,\"#46039f\"],[0.2222222222222222,\"#7201a8\"],[0.3333333333333333,\"#9c179e\"],[0.4444444444444444,\"#bd3786\"],[0.5555555555555556,\"#d8576b\"],[0.6666666666666666,\"#ed7953\"],[0.7777777777777778,\"#fb9f3a\"],[0.8888888888888888,\"#fdca26\"],[1.0,\"#f0f921\"]],\"type\":\"heatmap\"}],\"heatmapgl\":[{\"colorbar\":{\"outlinewidth\":0,\"ticks\":\"\"},\"colorscale\":[[0.0,\"#0d0887\"],[0.1111111111111111,\"#46039f\"],[0.2222222222222222,\"#7201a8\"],[0.3333333333333333,\"#9c179e\"],[0.4444444444444444,\"#bd3786\"],[0.5555555555555556,\"#d8576b\"],[0.6666666666666666,\"#ed7953\"],[0.7777777777777778,\"#fb9f3a\"],[0.8888888888888888,\"#fdca26\"],[1.0,\"#f0f921\"]],\"type\":\"heatmapgl\"}],\"histogram\":[{\"marker\":{\"pattern\":{\"fillmode\":\"overlay\",\"size\":10,\"solidity\":0.2}},\"type\":\"histogram\"}],\"histogram2d\":[{\"colorbar\":{\"outlinewidth\":0,\"ticks\":\"\"},\"colorscale\":[[0.0,\"#0d0887\"],[0.1111111111111111,\"#46039f\"],[0.2222222222222222,\"#7201a8\"],[0.3333333333333333,\"#9c179e\"],[0.4444444444444444,\"#bd3786\"],[0.5555555555555556,\"#d8576b\"],[0.6666666666666666,\"#ed7953\"],[0.7777777777777778,\"#fb9f3a\"],[0.8888888888888888,\"#fdca26\"],[1.0,\"#f0f921\"]],\"type\":\"histogram2d\"}],\"histogram2dcontour\":[{\"colorbar\":{\"outlinewidth\":0,\"ticks\":\"\"},\"colorscale\":[[0.0,\"#0d0887\"],[0.1111111111111111,\"#46039f\"],[0.2222222222222222,\"#7201a8\"],[0.3333333333333333,\"#9c179e\"],[0.4444444444444444,\"#bd3786\"],[0.5555555555555556,\"#d8576b\"],[0.6666666666666666,\"#ed7953\"],[0.7777777777777778,\"#fb9f3a\"],[0.8888888888888888,\"#fdca26\"],[1.0,\"#f0f921\"]],\"type\":\"histogram2dcontour\"}],\"mesh3d\":[{\"colorbar\":{\"outlinewidth\":0,\"ticks\":\"\"},\"type\":\"mesh3d\"}],\"parcoords\":[{\"line\":{\"colorbar\":{\"outlinewidth\":0,\"ticks\":\"\"}},\"type\":\"parcoords\"}],\"pie\":[{\"automargin\":true,\"type\":\"pie\"}],\"scatter\":[{\"marker\":{\"colorbar\":{\"outlinewidth\":0,\"ticks\":\"\"}},\"type\":\"scatter\"}],\"scatter3d\":[{\"line\":{\"colorbar\":{\"outlinewidth\":0,\"ticks\":\"\"}},\"marker\":{\"colorbar\":{\"outlinewidth\":0,\"ticks\":\"\"}},\"type\":\"scatter3d\"}],\"scattercarpet\":[{\"marker\":{\"colorbar\":{\"outlinewidth\":0,\"ticks\":\"\"}},\"type\":\"scattercarpet\"}],\"scattergeo\":[{\"marker\":{\"colorbar\":{\"outlinewidth\":0,\"ticks\":\"\"}},\"type\":\"scattergeo\"}],\"scattergl\":[{\"marker\":{\"colorbar\":{\"outlinewidth\":0,\"ticks\":\"\"}},\"type\":\"scattergl\"}],\"scattermapbox\":[{\"marker\":{\"colorbar\":{\"outlinewidth\":0,\"ticks\":\"\"}},\"type\":\"scattermapbox\"}],\"scatterpolar\":[{\"marker\":{\"colorbar\":{\"outlinewidth\":0,\"ticks\":\"\"}},\"type\":\"scatterpolar\"}],\"scatterpolargl\":[{\"marker\":{\"colorbar\":{\"outlinewidth\":0,\"ticks\":\"\"}},\"type\":\"scatterpolargl\"}],\"scatterternary\":[{\"marker\":{\"colorbar\":{\"outlinewidth\":0,\"ticks\":\"\"}},\"type\":\"scatterternary\"}],\"surface\":[{\"colorbar\":{\"outlinewidth\":0,\"ticks\":\"\"},\"colorscale\":[[0.0,\"#0d0887\"],[0.1111111111111111,\"#46039f\"],[0.2222222222222222,\"#7201a8\"],[0.3333333333333333,\"#9c179e\"],[0.4444444444444444,\"#bd3786\"],[0.5555555555555556,\"#d8576b\"],[0.6666666666666666,\"#ed7953\"],[0.7777777777777778,\"#fb9f3a\"],[0.8888888888888888,\"#fdca26\"],[1.0,\"#f0f921\"]],\"type\":\"surface\"}],\"table\":[{\"cells\":{\"fill\":{\"color\":\"#EBF0F8\"},\"line\":{\"color\":\"white\"}},\"header\":{\"fill\":{\"color\":\"#C8D4E3\"},\"line\":{\"color\":\"white\"}},\"type\":\"table\"}]},\"layout\":{\"annotationdefaults\":{\"arrowcolor\":\"#2a3f5f\",\"arrowhead\":0,\"arrowwidth\":1},\"autotypenumbers\":\"strict\",\"coloraxis\":{\"colorbar\":{\"outlinewidth\":0,\"ticks\":\"\"}},\"colorscale\":{\"diverging\":[[0,\"#8e0152\"],[0.1,\"#c51b7d\"],[0.2,\"#de77ae\"],[0.3,\"#f1b6da\"],[0.4,\"#fde0ef\"],[0.5,\"#f7f7f7\"],[0.6,\"#e6f5d0\"],[0.7,\"#b8e186\"],[0.8,\"#7fbc41\"],[0.9,\"#4d9221\"],[1,\"#276419\"]],\"sequential\":[[0.0,\"#0d0887\"],[0.1111111111111111,\"#46039f\"],[0.2222222222222222,\"#7201a8\"],[0.3333333333333333,\"#9c179e\"],[0.4444444444444444,\"#bd3786\"],[0.5555555555555556,\"#d8576b\"],[0.6666666666666666,\"#ed7953\"],[0.7777777777777778,\"#fb9f3a\"],[0.8888888888888888,\"#fdca26\"],[1.0,\"#f0f921\"]],\"sequentialminus\":[[0.0,\"#0d0887\"],[0.1111111111111111,\"#46039f\"],[0.2222222222222222,\"#7201a8\"],[0.3333333333333333,\"#9c179e\"],[0.4444444444444444,\"#bd3786\"],[0.5555555555555556,\"#d8576b\"],[0.6666666666666666,\"#ed7953\"],[0.7777777777777778,\"#fb9f3a\"],[0.8888888888888888,\"#fdca26\"],[1.0,\"#f0f921\"]]},\"colorway\":[\"#636efa\",\"#EF553B\",\"#00cc96\",\"#ab63fa\",\"#FFA15A\",\"#19d3f3\",\"#FF6692\",\"#B6E880\",\"#FF97FF\",\"#FECB52\"],\"font\":{\"color\":\"#2a3f5f\"},\"geo\":{\"bgcolor\":\"white\",\"lakecolor\":\"white\",\"landcolor\":\"#E5ECF6\",\"showlakes\":true,\"showland\":true,\"subunitcolor\":\"white\"},\"hoverlabel\":{\"align\":\"left\"},\"hovermode\":\"closest\",\"mapbox\":{\"style\":\"light\"},\"paper_bgcolor\":\"white\",\"plot_bgcolor\":\"#E5ECF6\",\"polar\":{\"angularaxis\":{\"gridcolor\":\"white\",\"linecolor\":\"white\",\"ticks\":\"\"},\"bgcolor\":\"#E5ECF6\",\"radialaxis\":{\"gridcolor\":\"white\",\"linecolor\":\"white\",\"ticks\":\"\"}},\"scene\":{\"xaxis\":{\"backgroundcolor\":\"#E5ECF6\",\"gridcolor\":\"white\",\"gridwidth\":2,\"linecolor\":\"white\",\"showbackground\":true,\"ticks\":\"\",\"zerolinecolor\":\"white\"},\"yaxis\":{\"backgroundcolor\":\"#E5ECF6\",\"gridcolor\":\"white\",\"gridwidth\":2,\"linecolor\":\"white\",\"showbackground\":true,\"ticks\":\"\",\"zerolinecolor\":\"white\"},\"zaxis\":{\"backgroundcolor\":\"#E5ECF6\",\"gridcolor\":\"white\",\"gridwidth\":2,\"linecolor\":\"white\",\"showbackground\":true,\"ticks\":\"\",\"zerolinecolor\":\"white\"}},\"shapedefaults\":{\"line\":{\"color\":\"#2a3f5f\"}},\"ternary\":{\"aaxis\":{\"gridcolor\":\"white\",\"linecolor\":\"white\",\"ticks\":\"\"},\"baxis\":{\"gridcolor\":\"white\",\"linecolor\":\"white\",\"ticks\":\"\"},\"bgcolor\":\"#E5ECF6\",\"caxis\":{\"gridcolor\":\"white\",\"linecolor\":\"white\",\"ticks\":\"\"}},\"title\":{\"x\":0.05},\"xaxis\":{\"automargin\":true,\"gridcolor\":\"white\",\"linecolor\":\"white\",\"ticks\":\"\",\"title\":{\"standoff\":15},\"zerolinecolor\":\"white\",\"zerolinewidth\":2},\"yaxis\":{\"automargin\":true,\"gridcolor\":\"white\",\"linecolor\":\"white\",\"ticks\":\"\",\"title\":{\"standoff\":15},\"zerolinecolor\":\"white\",\"zerolinewidth\":2}}},\"xaxis\":{\"anchor\":\"y\",\"domain\":[0.0,1.0]},\"yaxis\":{\"anchor\":\"x\",\"domain\":[0.7777777777777778,1.0]},\"xaxis2\":{\"anchor\":\"y2\",\"domain\":[0.0,1.0]},\"yaxis2\":{\"anchor\":\"x2\",\"domain\":[0.3888888888888889,0.6111111111111112]},\"xaxis3\":{\"anchor\":\"y3\",\"domain\":[0.0,1.0]},\"yaxis3\":{\"anchor\":\"x3\",\"domain\":[0.0,0.22222222222222224]},\"annotations\":[{\"font\":{\"size\":16},\"showarrow\":false,\"text\":\"Products Ordered\",\"x\":0.5,\"xanchor\":\"center\",\"xref\":\"paper\",\"y\":1.0,\"yanchor\":\"bottom\",\"yref\":\"paper\"},{\"font\":{\"size\":16},\"showarrow\":false,\"text\":\"Average Return Rate\",\"x\":0.5,\"xanchor\":\"center\",\"xref\":\"paper\",\"y\":0.6111111111111112,\"yanchor\":\"bottom\",\"yref\":\"paper\"},{\"font\":{\"size\":16},\"showarrow\":false,\"text\":\"Total Spending\",\"x\":0.5,\"xanchor\":\"center\",\"xref\":\"paper\",\"y\":0.22222222222222224,\"yanchor\":\"bottom\",\"yref\":\"paper\"}],\"title\":{\"text\":\"Distribution of the Features after Logarithm Transformation\"},\"height\":800,\"width\":800},                        {\"responsive\": true}                    ).then(function(){\n",
       "                            \n",
       "var gd = document.getElementById('c7ae1fd1-81f6-480f-ae15-2b17b09065ce');\n",
       "var x = new MutationObserver(function (mutations, observer) {{\n",
       "        var display = window.getComputedStyle(gd).display;\n",
       "        if (!display || display === 'none') {{\n",
       "            console.log([gd, 'removed!']);\n",
       "            Plotly.purge(gd);\n",
       "            observer.disconnect();\n",
       "        }}\n",
       "}});\n",
       "\n",
       "// Listen for the removal of the full notebook cells\n",
       "var notebookContainer = gd.closest('#notebook-container');\n",
       "if (notebookContainer) {{\n",
       "    x.observe(notebookContainer, {childList: true});\n",
       "}}\n",
       "\n",
       "// Listen for the clearing of the current output cell\n",
       "var outputEl = gd.closest('.output');\n",
       "if (outputEl) {{\n",
       "    x.observe(outputEl, {childList: true});\n",
       "}}\n",
       "\n",
       "                        })                };                });            </script>        </div>"
      ]
     },
     "metadata": {},
     "output_type": "display_data"
    }
   ],
   "source": [
    "fig = make_subplots(rows=3, cols=1,\n",
    "                   subplot_titles=(\"Products Ordered\", \n",
    "                                   \"Average Return Rate\", \n",
    "                                   \"Total Spending\"))\n",
    "\n",
    "fig.append_trace(go.Histogram(x=customers.log_products_ordered),\n",
    "                 row=1, col=1)\n",
    "\n",
    "fig.append_trace(go.Histogram(x=customers.log_average_return_rate),\n",
    "                 row=2, col=1)\n",
    "\n",
    "fig.append_trace(go.Histogram(x=customers.log_total_spending),\n",
    "                 row=3, col=1)\n",
    "\n",
    "fig.update_layout(height=800, width=800,\n",
    "                  title_text=\"Distribution of the Features after Logarithm Transformation\")\n",
    "\n",
    "fig.show()"
   ]
  },
  {
   "cell_type": "code",
   "execution_count": 110,
   "id": "4e0d50cc",
   "metadata": {},
   "outputs": [
    {
     "data": {
      "text/html": [
       "<div>\n",
       "<style scoped>\n",
       "    .dataframe tbody tr th:only-of-type {\n",
       "        vertical-align: middle;\n",
       "    }\n",
       "\n",
       "    .dataframe tbody tr th {\n",
       "        vertical-align: top;\n",
       "    }\n",
       "\n",
       "    .dataframe thead th {\n",
       "        text-align: right;\n",
       "    }\n",
       "</style>\n",
       "<table border=\"1\" class=\"dataframe\">\n",
       "  <thead>\n",
       "    <tr style=\"text-align: right;\">\n",
       "      <th></th>\n",
       "      <th>products_ordered</th>\n",
       "      <th>average_return_rate</th>\n",
       "      <th>total_spending</th>\n",
       "      <th>log_products_ordered</th>\n",
       "      <th>log_average_return_rate</th>\n",
       "      <th>log_total_spending</th>\n",
       "    </tr>\n",
       "  </thead>\n",
       "  <tbody>\n",
       "    <tr>\n",
       "      <th>0</th>\n",
       "      <td>1</td>\n",
       "      <td>0.0</td>\n",
       "      <td>259.99</td>\n",
       "      <td>0.693147</td>\n",
       "      <td>0.0</td>\n",
       "      <td>5.564482</td>\n",
       "    </tr>\n",
       "    <tr>\n",
       "      <th>1</th>\n",
       "      <td>2</td>\n",
       "      <td>0.0</td>\n",
       "      <td>519.98</td>\n",
       "      <td>1.098612</td>\n",
       "      <td>0.0</td>\n",
       "      <td>6.255712</td>\n",
       "    </tr>\n",
       "    <tr>\n",
       "      <th>2</th>\n",
       "      <td>1</td>\n",
       "      <td>0.0</td>\n",
       "      <td>174.99</td>\n",
       "      <td>0.693147</td>\n",
       "      <td>0.0</td>\n",
       "      <td>5.170427</td>\n",
       "    </tr>\n",
       "    <tr>\n",
       "      <th>3</th>\n",
       "      <td>1</td>\n",
       "      <td>0.0</td>\n",
       "      <td>124.99</td>\n",
       "      <td>0.693147</td>\n",
       "      <td>0.0</td>\n",
       "      <td>4.836203</td>\n",
       "    </tr>\n",
       "    <tr>\n",
       "      <th>4</th>\n",
       "      <td>1</td>\n",
       "      <td>0.0</td>\n",
       "      <td>259.99</td>\n",
       "      <td>0.693147</td>\n",
       "      <td>0.0</td>\n",
       "      <td>5.564482</td>\n",
       "    </tr>\n",
       "  </tbody>\n",
       "</table>\n",
       "</div>"
      ],
      "text/plain": [
       "   products_ordered  average_return_rate  total_spending  \\\n",
       "0                 1                  0.0          259.99   \n",
       "1                 2                  0.0          519.98   \n",
       "2                 1                  0.0          174.99   \n",
       "3                 1                  0.0          124.99   \n",
       "4                 1                  0.0          259.99   \n",
       "\n",
       "   log_products_ordered  log_average_return_rate  log_total_spending  \n",
       "0              0.693147                      0.0            5.564482  \n",
       "1              1.098612                      0.0            6.255712  \n",
       "2              0.693147                      0.0            5.170427  \n",
       "3              0.693147                      0.0            4.836203  \n",
       "4              0.693147                      0.0            5.564482  "
      ]
     },
     "execution_count": 110,
     "metadata": {},
     "output_type": "execute_result"
    }
   ],
   "source": [
    "customers.head()"
   ]
  },
  {
   "cell_type": "code",
   "execution_count": 111,
   "id": "479ae613",
   "metadata": {},
   "outputs": [
    {
     "data": {
      "text/html": [
       "<div>\n",
       "<style scoped>\n",
       "    .dataframe tbody tr th:only-of-type {\n",
       "        vertical-align: middle;\n",
       "    }\n",
       "\n",
       "    .dataframe tbody tr th {\n",
       "        vertical-align: top;\n",
       "    }\n",
       "\n",
       "    .dataframe thead th {\n",
       "        text-align: right;\n",
       "    }\n",
       "</style>\n",
       "<table border=\"1\" class=\"dataframe\">\n",
       "  <thead>\n",
       "    <tr style=\"text-align: right;\">\n",
       "      <th></th>\n",
       "      <th>log_products_ordered</th>\n",
       "      <th>log_average_return_rate</th>\n",
       "      <th>log_total_spending</th>\n",
       "    </tr>\n",
       "  </thead>\n",
       "  <tbody>\n",
       "    <tr>\n",
       "      <th>0</th>\n",
       "      <td>0.693147</td>\n",
       "      <td>0.000000</td>\n",
       "      <td>5.564482</td>\n",
       "    </tr>\n",
       "    <tr>\n",
       "      <th>1</th>\n",
       "      <td>1.098612</td>\n",
       "      <td>0.000000</td>\n",
       "      <td>6.255712</td>\n",
       "    </tr>\n",
       "    <tr>\n",
       "      <th>2</th>\n",
       "      <td>0.693147</td>\n",
       "      <td>0.000000</td>\n",
       "      <td>5.170427</td>\n",
       "    </tr>\n",
       "    <tr>\n",
       "      <th>3</th>\n",
       "      <td>0.693147</td>\n",
       "      <td>0.000000</td>\n",
       "      <td>4.836203</td>\n",
       "    </tr>\n",
       "    <tr>\n",
       "      <th>4</th>\n",
       "      <td>0.693147</td>\n",
       "      <td>0.000000</td>\n",
       "      <td>5.564482</td>\n",
       "    </tr>\n",
       "    <tr>\n",
       "      <th>...</th>\n",
       "      <td>...</td>\n",
       "      <td>...</td>\n",
       "      <td>...</td>\n",
       "    </tr>\n",
       "    <tr>\n",
       "      <th>231</th>\n",
       "      <td>0.693147</td>\n",
       "      <td>0.000000</td>\n",
       "      <td>5.564482</td>\n",
       "    </tr>\n",
       "    <tr>\n",
       "      <th>232</th>\n",
       "      <td>0.693147</td>\n",
       "      <td>0.000000</td>\n",
       "      <td>4.836203</td>\n",
       "    </tr>\n",
       "    <tr>\n",
       "      <th>233</th>\n",
       "      <td>1.098612</td>\n",
       "      <td>0.405465</td>\n",
       "      <td>5.525413</td>\n",
       "    </tr>\n",
       "    <tr>\n",
       "      <th>234</th>\n",
       "      <td>0.693147</td>\n",
       "      <td>0.000000</td>\n",
       "      <td>5.081342</td>\n",
       "    </tr>\n",
       "    <tr>\n",
       "      <th>235</th>\n",
       "      <td>0.693147</td>\n",
       "      <td>0.000000</td>\n",
       "      <td>5.525413</td>\n",
       "    </tr>\n",
       "  </tbody>\n",
       "</table>\n",
       "<p>236 rows × 3 columns</p>\n",
       "</div>"
      ],
      "text/plain": [
       "     log_products_ordered  log_average_return_rate  log_total_spending\n",
       "0                0.693147                 0.000000            5.564482\n",
       "1                1.098612                 0.000000            6.255712\n",
       "2                0.693147                 0.000000            5.170427\n",
       "3                0.693147                 0.000000            4.836203\n",
       "4                0.693147                 0.000000            5.564482\n",
       "..                    ...                      ...                 ...\n",
       "231              0.693147                 0.000000            5.564482\n",
       "232              0.693147                 0.000000            4.836203\n",
       "233              1.098612                 0.405465            5.525413\n",
       "234              0.693147                 0.000000            5.081342\n",
       "235              0.693147                 0.000000            5.525413\n",
       "\n",
       "[236 rows x 3 columns]"
      ]
     },
     "execution_count": 111,
     "metadata": {},
     "output_type": "execute_result"
    }
   ],
   "source": [
    "# features we are going to use as an input to the model\n",
    "customers.iloc[:,3:]"
   ]
  },
  {
   "cell_type": "markdown",
   "id": "454f6ffc",
   "metadata": {},
   "source": [
    "Create K-means model"
   ]
  },
  {
   "cell_type": "code",
   "execution_count": 112,
   "id": "bc65fdd3",
   "metadata": {},
   "outputs": [],
   "source": [
    "# create initial K-means model\n",
    "kmeans_model = KMeans(init='k-means++', \n",
    "                      max_iter=500, \n",
    "                      random_state=42)"
   ]
  },
  {
   "cell_type": "code",
   "execution_count": 113,
   "id": "a9239abd",
   "metadata": {},
   "outputs": [
    {
     "name": "stdout",
     "output_type": "stream",
     "text": [
      "within-cluster sum-of-squares (inertia) of the model is: 2.2441645181869063\n"
     ]
    }
   ],
   "source": [
    "kmeans_model.fit(customers.iloc[:,3:])\n",
    "\n",
    "# print the sum of distances from all examples to the center of the cluster\n",
    "print(\"within-cluster sum-of-squares (inertia) of the model is:\", kmeans_model.inertia_)"
   ]
  },
  {
   "cell_type": "markdown",
   "id": "0fd4bc71",
   "metadata": {},
   "source": [
    "Hyperparameter tuning: Find optimal number of clusters"
   ]
  },
  {
   "cell_type": "code",
   "execution_count": 114,
   "id": "0396514a",
   "metadata": {},
   "outputs": [],
   "source": [
    "def make_list_of_K(K, dataframe):\n",
    "    '''inputs: K as integer and dataframe\n",
    "    apply k-means clustering to dataframe\n",
    "    and make a list of inertia values against 1 to K (inclusive)\n",
    "    return the inertia values list\n",
    "    '''\n",
    "    \n",
    "    cluster_values = list(range(1, K+1))\n",
    "    inertia_values=[]\n",
    "    \n",
    "    for c in cluster_values:\n",
    "        model = KMeans(\n",
    "            n_clusters = c, \n",
    "            init='k-means++', \n",
    "            max_iter=500, \n",
    "            random_state=42)\n",
    "        model.fit(dataframe)\n",
    "        inertia_values.append(model.inertia_)\n",
    "    \n",
    "    return inertia_values"
   ]
  },
  {
   "cell_type": "markdown",
   "id": "ba345b5b",
   "metadata": {},
   "source": [
    "Visualize different K and models"
   ]
  },
  {
   "cell_type": "code",
   "execution_count": 115,
   "id": "8e946c0f",
   "metadata": {},
   "outputs": [
    {
     "name": "stderr",
     "output_type": "stream",
     "text": [
      "C:\\Users\\bramb\\anaconda3\\lib\\site-packages\\sklearn\\cluster\\_kmeans.py:1036: UserWarning:\n",
      "\n",
      "KMeans is known to have a memory leak on Windows with MKL, when there are less chunks than available threads. You can avoid it by setting the environment variable OMP_NUM_THREADS=1.\n",
      "\n"
     ]
    }
   ],
   "source": [
    "# save inertia values in a dataframe for k values between 1 to 15 \n",
    "results = make_list_of_K(15, customers.iloc[:, 3:])\n",
    "\n",
    "k_values_distances = pd.DataFrame({\"clusters\": list(range(1, 16)),\n",
    "                                   \"within cluster sum of squared distances\": results})"
   ]
  },
  {
   "cell_type": "code",
   "execution_count": 116,
   "id": "7718e962",
   "metadata": {},
   "outputs": [
    {
     "data": {
      "application/vnd.plotly.v1+json": {
       "config": {
        "plotlyServerURL": "https://plot.ly"
       },
       "data": [
        {
         "mode": "lines+markers",
         "type": "scatter",
         "x": [
          1,
          2,
          3,
          4,
          5,
          6,
          7,
          8,
          9,
          10,
          11,
          12,
          13,
          14,
          15
         ],
         "y": [
          263.83750982137815,
          47.26002608641403,
          26.732378974737525,
          14.691291630024248,
          7.163357534336213,
          4.547587015958066,
          2.710463268072039,
          2.2441645181869063,
          1.8309819188597771,
          1.428148424724496,
          1.2315763554052868,
          0.9940902102250077,
          0.7632001776267066,
          0.6680718957719516,
          0.5057219849574169
         ]
        }
       ],
       "layout": {
        "template": {
         "data": {
          "bar": [
           {
            "error_x": {
             "color": "#2a3f5f"
            },
            "error_y": {
             "color": "#2a3f5f"
            },
            "marker": {
             "line": {
              "color": "#E5ECF6",
              "width": 0.5
             },
             "pattern": {
              "fillmode": "overlay",
              "size": 10,
              "solidity": 0.2
             }
            },
            "type": "bar"
           }
          ],
          "barpolar": [
           {
            "marker": {
             "line": {
              "color": "#E5ECF6",
              "width": 0.5
             },
             "pattern": {
              "fillmode": "overlay",
              "size": 10,
              "solidity": 0.2
             }
            },
            "type": "barpolar"
           }
          ],
          "carpet": [
           {
            "aaxis": {
             "endlinecolor": "#2a3f5f",
             "gridcolor": "white",
             "linecolor": "white",
             "minorgridcolor": "white",
             "startlinecolor": "#2a3f5f"
            },
            "baxis": {
             "endlinecolor": "#2a3f5f",
             "gridcolor": "white",
             "linecolor": "white",
             "minorgridcolor": "white",
             "startlinecolor": "#2a3f5f"
            },
            "type": "carpet"
           }
          ],
          "choropleth": [
           {
            "colorbar": {
             "outlinewidth": 0,
             "ticks": ""
            },
            "type": "choropleth"
           }
          ],
          "contour": [
           {
            "colorbar": {
             "outlinewidth": 0,
             "ticks": ""
            },
            "colorscale": [
             [
              0,
              "#0d0887"
             ],
             [
              0.1111111111111111,
              "#46039f"
             ],
             [
              0.2222222222222222,
              "#7201a8"
             ],
             [
              0.3333333333333333,
              "#9c179e"
             ],
             [
              0.4444444444444444,
              "#bd3786"
             ],
             [
              0.5555555555555556,
              "#d8576b"
             ],
             [
              0.6666666666666666,
              "#ed7953"
             ],
             [
              0.7777777777777778,
              "#fb9f3a"
             ],
             [
              0.8888888888888888,
              "#fdca26"
             ],
             [
              1,
              "#f0f921"
             ]
            ],
            "type": "contour"
           }
          ],
          "contourcarpet": [
           {
            "colorbar": {
             "outlinewidth": 0,
             "ticks": ""
            },
            "type": "contourcarpet"
           }
          ],
          "heatmap": [
           {
            "colorbar": {
             "outlinewidth": 0,
             "ticks": ""
            },
            "colorscale": [
             [
              0,
              "#0d0887"
             ],
             [
              0.1111111111111111,
              "#46039f"
             ],
             [
              0.2222222222222222,
              "#7201a8"
             ],
             [
              0.3333333333333333,
              "#9c179e"
             ],
             [
              0.4444444444444444,
              "#bd3786"
             ],
             [
              0.5555555555555556,
              "#d8576b"
             ],
             [
              0.6666666666666666,
              "#ed7953"
             ],
             [
              0.7777777777777778,
              "#fb9f3a"
             ],
             [
              0.8888888888888888,
              "#fdca26"
             ],
             [
              1,
              "#f0f921"
             ]
            ],
            "type": "heatmap"
           }
          ],
          "heatmapgl": [
           {
            "colorbar": {
             "outlinewidth": 0,
             "ticks": ""
            },
            "colorscale": [
             [
              0,
              "#0d0887"
             ],
             [
              0.1111111111111111,
              "#46039f"
             ],
             [
              0.2222222222222222,
              "#7201a8"
             ],
             [
              0.3333333333333333,
              "#9c179e"
             ],
             [
              0.4444444444444444,
              "#bd3786"
             ],
             [
              0.5555555555555556,
              "#d8576b"
             ],
             [
              0.6666666666666666,
              "#ed7953"
             ],
             [
              0.7777777777777778,
              "#fb9f3a"
             ],
             [
              0.8888888888888888,
              "#fdca26"
             ],
             [
              1,
              "#f0f921"
             ]
            ],
            "type": "heatmapgl"
           }
          ],
          "histogram": [
           {
            "marker": {
             "pattern": {
              "fillmode": "overlay",
              "size": 10,
              "solidity": 0.2
             }
            },
            "type": "histogram"
           }
          ],
          "histogram2d": [
           {
            "colorbar": {
             "outlinewidth": 0,
             "ticks": ""
            },
            "colorscale": [
             [
              0,
              "#0d0887"
             ],
             [
              0.1111111111111111,
              "#46039f"
             ],
             [
              0.2222222222222222,
              "#7201a8"
             ],
             [
              0.3333333333333333,
              "#9c179e"
             ],
             [
              0.4444444444444444,
              "#bd3786"
             ],
             [
              0.5555555555555556,
              "#d8576b"
             ],
             [
              0.6666666666666666,
              "#ed7953"
             ],
             [
              0.7777777777777778,
              "#fb9f3a"
             ],
             [
              0.8888888888888888,
              "#fdca26"
             ],
             [
              1,
              "#f0f921"
             ]
            ],
            "type": "histogram2d"
           }
          ],
          "histogram2dcontour": [
           {
            "colorbar": {
             "outlinewidth": 0,
             "ticks": ""
            },
            "colorscale": [
             [
              0,
              "#0d0887"
             ],
             [
              0.1111111111111111,
              "#46039f"
             ],
             [
              0.2222222222222222,
              "#7201a8"
             ],
             [
              0.3333333333333333,
              "#9c179e"
             ],
             [
              0.4444444444444444,
              "#bd3786"
             ],
             [
              0.5555555555555556,
              "#d8576b"
             ],
             [
              0.6666666666666666,
              "#ed7953"
             ],
             [
              0.7777777777777778,
              "#fb9f3a"
             ],
             [
              0.8888888888888888,
              "#fdca26"
             ],
             [
              1,
              "#f0f921"
             ]
            ],
            "type": "histogram2dcontour"
           }
          ],
          "mesh3d": [
           {
            "colorbar": {
             "outlinewidth": 0,
             "ticks": ""
            },
            "type": "mesh3d"
           }
          ],
          "parcoords": [
           {
            "line": {
             "colorbar": {
              "outlinewidth": 0,
              "ticks": ""
             }
            },
            "type": "parcoords"
           }
          ],
          "pie": [
           {
            "automargin": true,
            "type": "pie"
           }
          ],
          "scatter": [
           {
            "marker": {
             "colorbar": {
              "outlinewidth": 0,
              "ticks": ""
             }
            },
            "type": "scatter"
           }
          ],
          "scatter3d": [
           {
            "line": {
             "colorbar": {
              "outlinewidth": 0,
              "ticks": ""
             }
            },
            "marker": {
             "colorbar": {
              "outlinewidth": 0,
              "ticks": ""
             }
            },
            "type": "scatter3d"
           }
          ],
          "scattercarpet": [
           {
            "marker": {
             "colorbar": {
              "outlinewidth": 0,
              "ticks": ""
             }
            },
            "type": "scattercarpet"
           }
          ],
          "scattergeo": [
           {
            "marker": {
             "colorbar": {
              "outlinewidth": 0,
              "ticks": ""
             }
            },
            "type": "scattergeo"
           }
          ],
          "scattergl": [
           {
            "marker": {
             "colorbar": {
              "outlinewidth": 0,
              "ticks": ""
             }
            },
            "type": "scattergl"
           }
          ],
          "scattermapbox": [
           {
            "marker": {
             "colorbar": {
              "outlinewidth": 0,
              "ticks": ""
             }
            },
            "type": "scattermapbox"
           }
          ],
          "scatterpolar": [
           {
            "marker": {
             "colorbar": {
              "outlinewidth": 0,
              "ticks": ""
             }
            },
            "type": "scatterpolar"
           }
          ],
          "scatterpolargl": [
           {
            "marker": {
             "colorbar": {
              "outlinewidth": 0,
              "ticks": ""
             }
            },
            "type": "scatterpolargl"
           }
          ],
          "scatterternary": [
           {
            "marker": {
             "colorbar": {
              "outlinewidth": 0,
              "ticks": ""
             }
            },
            "type": "scatterternary"
           }
          ],
          "surface": [
           {
            "colorbar": {
             "outlinewidth": 0,
             "ticks": ""
            },
            "colorscale": [
             [
              0,
              "#0d0887"
             ],
             [
              0.1111111111111111,
              "#46039f"
             ],
             [
              0.2222222222222222,
              "#7201a8"
             ],
             [
              0.3333333333333333,
              "#9c179e"
             ],
             [
              0.4444444444444444,
              "#bd3786"
             ],
             [
              0.5555555555555556,
              "#d8576b"
             ],
             [
              0.6666666666666666,
              "#ed7953"
             ],
             [
              0.7777777777777778,
              "#fb9f3a"
             ],
             [
              0.8888888888888888,
              "#fdca26"
             ],
             [
              1,
              "#f0f921"
             ]
            ],
            "type": "surface"
           }
          ],
          "table": [
           {
            "cells": {
             "fill": {
              "color": "#EBF0F8"
             },
             "line": {
              "color": "white"
             }
            },
            "header": {
             "fill": {
              "color": "#C8D4E3"
             },
             "line": {
              "color": "white"
             }
            },
            "type": "table"
           }
          ]
         },
         "layout": {
          "annotationdefaults": {
           "arrowcolor": "#2a3f5f",
           "arrowhead": 0,
           "arrowwidth": 1
          },
          "autotypenumbers": "strict",
          "coloraxis": {
           "colorbar": {
            "outlinewidth": 0,
            "ticks": ""
           }
          },
          "colorscale": {
           "diverging": [
            [
             0,
             "#8e0152"
            ],
            [
             0.1,
             "#c51b7d"
            ],
            [
             0.2,
             "#de77ae"
            ],
            [
             0.3,
             "#f1b6da"
            ],
            [
             0.4,
             "#fde0ef"
            ],
            [
             0.5,
             "#f7f7f7"
            ],
            [
             0.6,
             "#e6f5d0"
            ],
            [
             0.7,
             "#b8e186"
            ],
            [
             0.8,
             "#7fbc41"
            ],
            [
             0.9,
             "#4d9221"
            ],
            [
             1,
             "#276419"
            ]
           ],
           "sequential": [
            [
             0,
             "#0d0887"
            ],
            [
             0.1111111111111111,
             "#46039f"
            ],
            [
             0.2222222222222222,
             "#7201a8"
            ],
            [
             0.3333333333333333,
             "#9c179e"
            ],
            [
             0.4444444444444444,
             "#bd3786"
            ],
            [
             0.5555555555555556,
             "#d8576b"
            ],
            [
             0.6666666666666666,
             "#ed7953"
            ],
            [
             0.7777777777777778,
             "#fb9f3a"
            ],
            [
             0.8888888888888888,
             "#fdca26"
            ],
            [
             1,
             "#f0f921"
            ]
           ],
           "sequentialminus": [
            [
             0,
             "#0d0887"
            ],
            [
             0.1111111111111111,
             "#46039f"
            ],
            [
             0.2222222222222222,
             "#7201a8"
            ],
            [
             0.3333333333333333,
             "#9c179e"
            ],
            [
             0.4444444444444444,
             "#bd3786"
            ],
            [
             0.5555555555555556,
             "#d8576b"
            ],
            [
             0.6666666666666666,
             "#ed7953"
            ],
            [
             0.7777777777777778,
             "#fb9f3a"
            ],
            [
             0.8888888888888888,
             "#fdca26"
            ],
            [
             1,
             "#f0f921"
            ]
           ]
          },
          "colorway": [
           "#636efa",
           "#EF553B",
           "#00cc96",
           "#ab63fa",
           "#FFA15A",
           "#19d3f3",
           "#FF6692",
           "#B6E880",
           "#FF97FF",
           "#FECB52"
          ],
          "font": {
           "color": "#2a3f5f"
          },
          "geo": {
           "bgcolor": "white",
           "lakecolor": "white",
           "landcolor": "#E5ECF6",
           "showlakes": true,
           "showland": true,
           "subunitcolor": "white"
          },
          "hoverlabel": {
           "align": "left"
          },
          "hovermode": "closest",
          "mapbox": {
           "style": "light"
          },
          "paper_bgcolor": "white",
          "plot_bgcolor": "#E5ECF6",
          "polar": {
           "angularaxis": {
            "gridcolor": "white",
            "linecolor": "white",
            "ticks": ""
           },
           "bgcolor": "#E5ECF6",
           "radialaxis": {
            "gridcolor": "white",
            "linecolor": "white",
            "ticks": ""
           }
          },
          "scene": {
           "xaxis": {
            "backgroundcolor": "#E5ECF6",
            "gridcolor": "white",
            "gridwidth": 2,
            "linecolor": "white",
            "showbackground": true,
            "ticks": "",
            "zerolinecolor": "white"
           },
           "yaxis": {
            "backgroundcolor": "#E5ECF6",
            "gridcolor": "white",
            "gridwidth": 2,
            "linecolor": "white",
            "showbackground": true,
            "ticks": "",
            "zerolinecolor": "white"
           },
           "zaxis": {
            "backgroundcolor": "#E5ECF6",
            "gridcolor": "white",
            "gridwidth": 2,
            "linecolor": "white",
            "showbackground": true,
            "ticks": "",
            "zerolinecolor": "white"
           }
          },
          "shapedefaults": {
           "line": {
            "color": "#2a3f5f"
           }
          },
          "ternary": {
           "aaxis": {
            "gridcolor": "white",
            "linecolor": "white",
            "ticks": ""
           },
           "baxis": {
            "gridcolor": "white",
            "linecolor": "white",
            "ticks": ""
           },
           "bgcolor": "#E5ECF6",
           "caxis": {
            "gridcolor": "white",
            "linecolor": "white",
            "ticks": ""
           }
          },
          "title": {
           "x": 0.05
          },
          "xaxis": {
           "automargin": true,
           "gridcolor": "white",
           "linecolor": "white",
           "ticks": "",
           "title": {
            "standoff": 15
           },
           "zerolinecolor": "white",
           "zerolinewidth": 2
          },
          "yaxis": {
           "automargin": true,
           "gridcolor": "white",
           "linecolor": "white",
           "ticks": "",
           "title": {
            "standoff": 15
           },
           "zerolinecolor": "white",
           "zerolinewidth": 2
          }
         }
        },
        "title": {
         "text": "Within Cluster Sum of Squared Distances VS K Values"
        },
        "xaxis": {
         "dtick": 1,
         "tick0": 1,
         "tickmode": "linear",
         "title": {
          "text": "K values"
         }
        },
        "yaxis": {
         "title": {
          "text": "Cluster sum of squared distances"
         }
        }
       }
      },
      "text/html": [
       "<div>                            <div id=\"f3b037c6-803f-4b52-9197-4a32effc1a58\" class=\"plotly-graph-div\" style=\"height:525px; width:100%;\"></div>            <script type=\"text/javascript\">                require([\"plotly\"], function(Plotly) {                    window.PLOTLYENV=window.PLOTLYENV || {};                                    if (document.getElementById(\"f3b037c6-803f-4b52-9197-4a32effc1a58\")) {                    Plotly.newPlot(                        \"f3b037c6-803f-4b52-9197-4a32effc1a58\",                        [{\"mode\":\"lines+markers\",\"x\":[1,2,3,4,5,6,7,8,9,10,11,12,13,14,15],\"y\":[263.83750982137815,47.26002608641403,26.732378974737525,14.691291630024248,7.163357534336213,4.547587015958066,2.710463268072039,2.2441645181869063,1.8309819188597771,1.428148424724496,1.2315763554052868,0.9940902102250077,0.7632001776267066,0.6680718957719516,0.5057219849574169],\"type\":\"scatter\"}],                        {\"template\":{\"data\":{\"bar\":[{\"error_x\":{\"color\":\"#2a3f5f\"},\"error_y\":{\"color\":\"#2a3f5f\"},\"marker\":{\"line\":{\"color\":\"#E5ECF6\",\"width\":0.5},\"pattern\":{\"fillmode\":\"overlay\",\"size\":10,\"solidity\":0.2}},\"type\":\"bar\"}],\"barpolar\":[{\"marker\":{\"line\":{\"color\":\"#E5ECF6\",\"width\":0.5},\"pattern\":{\"fillmode\":\"overlay\",\"size\":10,\"solidity\":0.2}},\"type\":\"barpolar\"}],\"carpet\":[{\"aaxis\":{\"endlinecolor\":\"#2a3f5f\",\"gridcolor\":\"white\",\"linecolor\":\"white\",\"minorgridcolor\":\"white\",\"startlinecolor\":\"#2a3f5f\"},\"baxis\":{\"endlinecolor\":\"#2a3f5f\",\"gridcolor\":\"white\",\"linecolor\":\"white\",\"minorgridcolor\":\"white\",\"startlinecolor\":\"#2a3f5f\"},\"type\":\"carpet\"}],\"choropleth\":[{\"colorbar\":{\"outlinewidth\":0,\"ticks\":\"\"},\"type\":\"choropleth\"}],\"contour\":[{\"colorbar\":{\"outlinewidth\":0,\"ticks\":\"\"},\"colorscale\":[[0.0,\"#0d0887\"],[0.1111111111111111,\"#46039f\"],[0.2222222222222222,\"#7201a8\"],[0.3333333333333333,\"#9c179e\"],[0.4444444444444444,\"#bd3786\"],[0.5555555555555556,\"#d8576b\"],[0.6666666666666666,\"#ed7953\"],[0.7777777777777778,\"#fb9f3a\"],[0.8888888888888888,\"#fdca26\"],[1.0,\"#f0f921\"]],\"type\":\"contour\"}],\"contourcarpet\":[{\"colorbar\":{\"outlinewidth\":0,\"ticks\":\"\"},\"type\":\"contourcarpet\"}],\"heatmap\":[{\"colorbar\":{\"outlinewidth\":0,\"ticks\":\"\"},\"colorscale\":[[0.0,\"#0d0887\"],[0.1111111111111111,\"#46039f\"],[0.2222222222222222,\"#7201a8\"],[0.3333333333333333,\"#9c179e\"],[0.4444444444444444,\"#bd3786\"],[0.5555555555555556,\"#d8576b\"],[0.6666666666666666,\"#ed7953\"],[0.7777777777777778,\"#fb9f3a\"],[0.8888888888888888,\"#fdca26\"],[1.0,\"#f0f921\"]],\"type\":\"heatmap\"}],\"heatmapgl\":[{\"colorbar\":{\"outlinewidth\":0,\"ticks\":\"\"},\"colorscale\":[[0.0,\"#0d0887\"],[0.1111111111111111,\"#46039f\"],[0.2222222222222222,\"#7201a8\"],[0.3333333333333333,\"#9c179e\"],[0.4444444444444444,\"#bd3786\"],[0.5555555555555556,\"#d8576b\"],[0.6666666666666666,\"#ed7953\"],[0.7777777777777778,\"#fb9f3a\"],[0.8888888888888888,\"#fdca26\"],[1.0,\"#f0f921\"]],\"type\":\"heatmapgl\"}],\"histogram\":[{\"marker\":{\"pattern\":{\"fillmode\":\"overlay\",\"size\":10,\"solidity\":0.2}},\"type\":\"histogram\"}],\"histogram2d\":[{\"colorbar\":{\"outlinewidth\":0,\"ticks\":\"\"},\"colorscale\":[[0.0,\"#0d0887\"],[0.1111111111111111,\"#46039f\"],[0.2222222222222222,\"#7201a8\"],[0.3333333333333333,\"#9c179e\"],[0.4444444444444444,\"#bd3786\"],[0.5555555555555556,\"#d8576b\"],[0.6666666666666666,\"#ed7953\"],[0.7777777777777778,\"#fb9f3a\"],[0.8888888888888888,\"#fdca26\"],[1.0,\"#f0f921\"]],\"type\":\"histogram2d\"}],\"histogram2dcontour\":[{\"colorbar\":{\"outlinewidth\":0,\"ticks\":\"\"},\"colorscale\":[[0.0,\"#0d0887\"],[0.1111111111111111,\"#46039f\"],[0.2222222222222222,\"#7201a8\"],[0.3333333333333333,\"#9c179e\"],[0.4444444444444444,\"#bd3786\"],[0.5555555555555556,\"#d8576b\"],[0.6666666666666666,\"#ed7953\"],[0.7777777777777778,\"#fb9f3a\"],[0.8888888888888888,\"#fdca26\"],[1.0,\"#f0f921\"]],\"type\":\"histogram2dcontour\"}],\"mesh3d\":[{\"colorbar\":{\"outlinewidth\":0,\"ticks\":\"\"},\"type\":\"mesh3d\"}],\"parcoords\":[{\"line\":{\"colorbar\":{\"outlinewidth\":0,\"ticks\":\"\"}},\"type\":\"parcoords\"}],\"pie\":[{\"automargin\":true,\"type\":\"pie\"}],\"scatter\":[{\"marker\":{\"colorbar\":{\"outlinewidth\":0,\"ticks\":\"\"}},\"type\":\"scatter\"}],\"scatter3d\":[{\"line\":{\"colorbar\":{\"outlinewidth\":0,\"ticks\":\"\"}},\"marker\":{\"colorbar\":{\"outlinewidth\":0,\"ticks\":\"\"}},\"type\":\"scatter3d\"}],\"scattercarpet\":[{\"marker\":{\"colorbar\":{\"outlinewidth\":0,\"ticks\":\"\"}},\"type\":\"scattercarpet\"}],\"scattergeo\":[{\"marker\":{\"colorbar\":{\"outlinewidth\":0,\"ticks\":\"\"}},\"type\":\"scattergeo\"}],\"scattergl\":[{\"marker\":{\"colorbar\":{\"outlinewidth\":0,\"ticks\":\"\"}},\"type\":\"scattergl\"}],\"scattermapbox\":[{\"marker\":{\"colorbar\":{\"outlinewidth\":0,\"ticks\":\"\"}},\"type\":\"scattermapbox\"}],\"scatterpolar\":[{\"marker\":{\"colorbar\":{\"outlinewidth\":0,\"ticks\":\"\"}},\"type\":\"scatterpolar\"}],\"scatterpolargl\":[{\"marker\":{\"colorbar\":{\"outlinewidth\":0,\"ticks\":\"\"}},\"type\":\"scatterpolargl\"}],\"scatterternary\":[{\"marker\":{\"colorbar\":{\"outlinewidth\":0,\"ticks\":\"\"}},\"type\":\"scatterternary\"}],\"surface\":[{\"colorbar\":{\"outlinewidth\":0,\"ticks\":\"\"},\"colorscale\":[[0.0,\"#0d0887\"],[0.1111111111111111,\"#46039f\"],[0.2222222222222222,\"#7201a8\"],[0.3333333333333333,\"#9c179e\"],[0.4444444444444444,\"#bd3786\"],[0.5555555555555556,\"#d8576b\"],[0.6666666666666666,\"#ed7953\"],[0.7777777777777778,\"#fb9f3a\"],[0.8888888888888888,\"#fdca26\"],[1.0,\"#f0f921\"]],\"type\":\"surface\"}],\"table\":[{\"cells\":{\"fill\":{\"color\":\"#EBF0F8\"},\"line\":{\"color\":\"white\"}},\"header\":{\"fill\":{\"color\":\"#C8D4E3\"},\"line\":{\"color\":\"white\"}},\"type\":\"table\"}]},\"layout\":{\"annotationdefaults\":{\"arrowcolor\":\"#2a3f5f\",\"arrowhead\":0,\"arrowwidth\":1},\"autotypenumbers\":\"strict\",\"coloraxis\":{\"colorbar\":{\"outlinewidth\":0,\"ticks\":\"\"}},\"colorscale\":{\"diverging\":[[0,\"#8e0152\"],[0.1,\"#c51b7d\"],[0.2,\"#de77ae\"],[0.3,\"#f1b6da\"],[0.4,\"#fde0ef\"],[0.5,\"#f7f7f7\"],[0.6,\"#e6f5d0\"],[0.7,\"#b8e186\"],[0.8,\"#7fbc41\"],[0.9,\"#4d9221\"],[1,\"#276419\"]],\"sequential\":[[0.0,\"#0d0887\"],[0.1111111111111111,\"#46039f\"],[0.2222222222222222,\"#7201a8\"],[0.3333333333333333,\"#9c179e\"],[0.4444444444444444,\"#bd3786\"],[0.5555555555555556,\"#d8576b\"],[0.6666666666666666,\"#ed7953\"],[0.7777777777777778,\"#fb9f3a\"],[0.8888888888888888,\"#fdca26\"],[1.0,\"#f0f921\"]],\"sequentialminus\":[[0.0,\"#0d0887\"],[0.1111111111111111,\"#46039f\"],[0.2222222222222222,\"#7201a8\"],[0.3333333333333333,\"#9c179e\"],[0.4444444444444444,\"#bd3786\"],[0.5555555555555556,\"#d8576b\"],[0.6666666666666666,\"#ed7953\"],[0.7777777777777778,\"#fb9f3a\"],[0.8888888888888888,\"#fdca26\"],[1.0,\"#f0f921\"]]},\"colorway\":[\"#636efa\",\"#EF553B\",\"#00cc96\",\"#ab63fa\",\"#FFA15A\",\"#19d3f3\",\"#FF6692\",\"#B6E880\",\"#FF97FF\",\"#FECB52\"],\"font\":{\"color\":\"#2a3f5f\"},\"geo\":{\"bgcolor\":\"white\",\"lakecolor\":\"white\",\"landcolor\":\"#E5ECF6\",\"showlakes\":true,\"showland\":true,\"subunitcolor\":\"white\"},\"hoverlabel\":{\"align\":\"left\"},\"hovermode\":\"closest\",\"mapbox\":{\"style\":\"light\"},\"paper_bgcolor\":\"white\",\"plot_bgcolor\":\"#E5ECF6\",\"polar\":{\"angularaxis\":{\"gridcolor\":\"white\",\"linecolor\":\"white\",\"ticks\":\"\"},\"bgcolor\":\"#E5ECF6\",\"radialaxis\":{\"gridcolor\":\"white\",\"linecolor\":\"white\",\"ticks\":\"\"}},\"scene\":{\"xaxis\":{\"backgroundcolor\":\"#E5ECF6\",\"gridcolor\":\"white\",\"gridwidth\":2,\"linecolor\":\"white\",\"showbackground\":true,\"ticks\":\"\",\"zerolinecolor\":\"white\"},\"yaxis\":{\"backgroundcolor\":\"#E5ECF6\",\"gridcolor\":\"white\",\"gridwidth\":2,\"linecolor\":\"white\",\"showbackground\":true,\"ticks\":\"\",\"zerolinecolor\":\"white\"},\"zaxis\":{\"backgroundcolor\":\"#E5ECF6\",\"gridcolor\":\"white\",\"gridwidth\":2,\"linecolor\":\"white\",\"showbackground\":true,\"ticks\":\"\",\"zerolinecolor\":\"white\"}},\"shapedefaults\":{\"line\":{\"color\":\"#2a3f5f\"}},\"ternary\":{\"aaxis\":{\"gridcolor\":\"white\",\"linecolor\":\"white\",\"ticks\":\"\"},\"baxis\":{\"gridcolor\":\"white\",\"linecolor\":\"white\",\"ticks\":\"\"},\"bgcolor\":\"#E5ECF6\",\"caxis\":{\"gridcolor\":\"white\",\"linecolor\":\"white\",\"ticks\":\"\"}},\"title\":{\"x\":0.05},\"xaxis\":{\"automargin\":true,\"gridcolor\":\"white\",\"linecolor\":\"white\",\"ticks\":\"\",\"title\":{\"standoff\":15},\"zerolinecolor\":\"white\",\"zerolinewidth\":2},\"yaxis\":{\"automargin\":true,\"gridcolor\":\"white\",\"linecolor\":\"white\",\"ticks\":\"\",\"title\":{\"standoff\":15},\"zerolinecolor\":\"white\",\"zerolinewidth\":2}}},\"xaxis\":{\"tickmode\":\"linear\",\"tick0\":1,\"dtick\":1,\"title\":{\"text\":\"K values\"}},\"title\":{\"text\":\"Within Cluster Sum of Squared Distances VS K Values\"},\"yaxis\":{\"title\":{\"text\":\"Cluster sum of squared distances\"}}},                        {\"responsive\": true}                    ).then(function(){\n",
       "                            \n",
       "var gd = document.getElementById('f3b037c6-803f-4b52-9197-4a32effc1a58');\n",
       "var x = new MutationObserver(function (mutations, observer) {{\n",
       "        var display = window.getComputedStyle(gd).display;\n",
       "        if (!display || display === 'none') {{\n",
       "            console.log([gd, 'removed!']);\n",
       "            Plotly.purge(gd);\n",
       "            observer.disconnect();\n",
       "        }}\n",
       "}});\n",
       "\n",
       "// Listen for the removal of the full notebook cells\n",
       "var notebookContainer = gd.closest('#notebook-container');\n",
       "if (notebookContainer) {{\n",
       "    x.observe(notebookContainer, {childList: true});\n",
       "}}\n",
       "\n",
       "// Listen for the clearing of the current output cell\n",
       "var outputEl = gd.closest('.output');\n",
       "if (outputEl) {{\n",
       "    x.observe(outputEl, {childList: true});\n",
       "}}\n",
       "\n",
       "                        })                };                });            </script>        </div>"
      ]
     },
     "metadata": {},
     "output_type": "display_data"
    }
   ],
   "source": [
    "# visualization for the selection of number of segments\n",
    "fig = go.Figure()\n",
    "\n",
    "fig.add_trace(go.Scatter(x=k_values_distances[\"clusters\"], \n",
    "                         y=k_values_distances[\"within cluster sum of squared distances\"],\n",
    "                         mode='lines+markers'))\n",
    "\n",
    "fig.update_layout(xaxis = dict(\n",
    "        tickmode = 'linear',\n",
    "        tick0 = 1,\n",
    "        dtick = 1),\n",
    "                  title_text=\"Within Cluster Sum of Squared Distances VS K Values\",\n",
    "                  xaxis_title=\"K values\",\n",
    "                  yaxis_title=\"Cluster sum of squared distances\")\n",
    "\n",
    "fig.show()"
   ]
  },
  {
   "cell_type": "markdown",
   "id": "e2d3d21a",
   "metadata": {},
   "source": [
    "Update K-Means Clustering"
   ]
  },
  {
   "cell_type": "code",
   "execution_count": 117,
   "id": "775932b1",
   "metadata": {},
   "outputs": [
    {
     "data": {
      "text/plain": [
       "array([2, 2, 0, 0, 2, 0, 0, 2, 0, 2, 0, 2, 2, 0, 2, 1, 1, 2, 2, 0, 2, 0,\n",
       "       2, 0, 0, 2, 2, 0, 2, 0, 2, 0, 2, 0, 0, 0, 0, 0, 0, 0, 0, 0, 0, 0,\n",
       "       0, 2, 0, 0, 2, 0, 3, 2, 2, 2, 0, 0, 0, 0, 0, 0, 0, 0, 0, 0, 0, 0,\n",
       "       2, 0, 0, 0, 0, 1, 2, 2, 2, 2, 2, 2, 0, 2, 0, 0, 2, 2, 2, 0, 0, 2,\n",
       "       2, 0, 0, 2, 1, 0, 0, 0, 3, 2, 0, 2, 2, 2, 0, 0, 0, 0, 0, 0, 0, 2,\n",
       "       0, 1, 0, 0, 0, 2, 0, 3, 2, 0, 2, 0, 0, 0, 1, 0, 0, 0, 0, 0, 2, 0,\n",
       "       0, 0, 0, 2, 0, 2, 2, 2, 0, 0, 0, 2, 0, 2, 2, 2, 2, 2, 0, 2, 2, 0,\n",
       "       2, 2, 0, 0, 0, 0, 2, 2, 2, 2, 0, 0, 2, 0, 0, 0, 2, 0, 2, 0, 0, 0,\n",
       "       0, 0, 2, 2, 0, 2, 0, 0, 0, 0, 0, 1, 0, 0, 2, 2, 0, 0, 0, 0, 0, 1,\n",
       "       0, 0, 0, 2, 0, 0, 2, 0, 0, 0, 0, 0, 2, 0, 2, 2, 2, 2, 0, 0, 0, 0,\n",
       "       0, 2, 0, 2, 0, 0, 2, 2, 2, 0, 2, 2, 0, 2, 0, 2])"
      ]
     },
     "execution_count": 117,
     "metadata": {},
     "output_type": "execute_result"
    }
   ],
   "source": [
    "# create clustering model with optimal k=4\n",
    "updated_kmeans_model = KMeans(n_clusters = 4, \n",
    "                              init='k-means++', \n",
    "                              max_iter=500, \n",
    "                              random_state=42)\n",
    "\n",
    "updated_kmeans_model.fit_predict(customers.iloc[:,3:])"
   ]
  },
  {
   "cell_type": "markdown",
   "id": "0a3e5a90",
   "metadata": {},
   "source": [
    "Add cluster centers to the visualization"
   ]
  },
  {
   "cell_type": "code",
   "execution_count": 118,
   "id": "c6bbc606",
   "metadata": {},
   "outputs": [
    {
     "data": {
      "text/plain": [
       "array([[1.04156006e+00, 5.89360527e-03, 1.56189393e+02, 7.13714251e-01,\n",
       "        5.87630591e-03, 5.05745140e+00],\n",
       "       [1.00000000e+00, 1.00000000e+00, 0.00000000e+00, 6.93147181e-01,\n",
       "        6.93147181e-01, 0.00000000e+00],\n",
       "       [1.16197502e+00, 1.40797545e-02, 2.77465136e+02, 7.71022167e-01,\n",
       "        1.39815555e-02, 5.62929287e+00],\n",
       "       [1.00000000e+00, 6.93889390e-18, 1.97487108e+01, 6.93147181e-01,\n",
       "        6.93889390e-18, 3.03248412e+00]])"
      ]
     },
     "execution_count": 118,
     "metadata": {},
     "output_type": "execute_result"
    }
   ],
   "source": [
    "# create cluster centers and actual data arrays\n",
    "cluster_centers = updated_kmeans_model.cluster_centers_\n",
    "actual_data = np.expm1(cluster_centers)\n",
    "add_points = np.append(actual_data, cluster_centers, axis=1)\n",
    "add_points"
   ]
  },
  {
   "cell_type": "code",
   "execution_count": 119,
   "id": "0a3c45c5",
   "metadata": {},
   "outputs": [],
   "source": [
    "# add labels to customers dataframe and add_points array\n",
    "add_points = np.append(add_points, [[0], [1], [2], [3]], axis=1)\n",
    "customers[\"clusters\"] = updated_kmeans_model.labels_"
   ]
  },
  {
   "cell_type": "code",
   "execution_count": 120,
   "id": "98b6642a",
   "metadata": {},
   "outputs": [
    {
     "data": {
      "text/html": [
       "<div>\n",
       "<style scoped>\n",
       "    .dataframe tbody tr th:only-of-type {\n",
       "        vertical-align: middle;\n",
       "    }\n",
       "\n",
       "    .dataframe tbody tr th {\n",
       "        vertical-align: top;\n",
       "    }\n",
       "\n",
       "    .dataframe thead th {\n",
       "        text-align: right;\n",
       "    }\n",
       "</style>\n",
       "<table border=\"1\" class=\"dataframe\">\n",
       "  <thead>\n",
       "    <tr style=\"text-align: right;\">\n",
       "      <th></th>\n",
       "      <th>products_ordered</th>\n",
       "      <th>average_return_rate</th>\n",
       "      <th>total_spending</th>\n",
       "      <th>log_products_ordered</th>\n",
       "      <th>log_average_return_rate</th>\n",
       "      <th>log_total_spending</th>\n",
       "      <th>clusters</th>\n",
       "    </tr>\n",
       "  </thead>\n",
       "  <tbody>\n",
       "    <tr>\n",
       "      <th>0</th>\n",
       "      <td>1.041560</td>\n",
       "      <td>5.893605e-03</td>\n",
       "      <td>156.189393</td>\n",
       "      <td>0.713714</td>\n",
       "      <td>5.876306e-03</td>\n",
       "      <td>5.057451</td>\n",
       "      <td>0.0</td>\n",
       "    </tr>\n",
       "    <tr>\n",
       "      <th>1</th>\n",
       "      <td>1.000000</td>\n",
       "      <td>1.000000e+00</td>\n",
       "      <td>0.000000</td>\n",
       "      <td>0.693147</td>\n",
       "      <td>6.931472e-01</td>\n",
       "      <td>0.000000</td>\n",
       "      <td>1.0</td>\n",
       "    </tr>\n",
       "    <tr>\n",
       "      <th>2</th>\n",
       "      <td>1.161975</td>\n",
       "      <td>1.407975e-02</td>\n",
       "      <td>277.465136</td>\n",
       "      <td>0.771022</td>\n",
       "      <td>1.398156e-02</td>\n",
       "      <td>5.629293</td>\n",
       "      <td>2.0</td>\n",
       "    </tr>\n",
       "    <tr>\n",
       "      <th>3</th>\n",
       "      <td>1.000000</td>\n",
       "      <td>6.938894e-18</td>\n",
       "      <td>19.748711</td>\n",
       "      <td>0.693147</td>\n",
       "      <td>6.938894e-18</td>\n",
       "      <td>3.032484</td>\n",
       "      <td>3.0</td>\n",
       "    </tr>\n",
       "  </tbody>\n",
       "</table>\n",
       "</div>"
      ],
      "text/plain": [
       "   products_ordered  average_return_rate  total_spending  \\\n",
       "0          1.041560         5.893605e-03      156.189393   \n",
       "1          1.000000         1.000000e+00        0.000000   \n",
       "2          1.161975         1.407975e-02      277.465136   \n",
       "3          1.000000         6.938894e-18       19.748711   \n",
       "\n",
       "   log_products_ordered  log_average_return_rate  log_total_spending  clusters  \n",
       "0              0.713714             5.876306e-03            5.057451       0.0  \n",
       "1              0.693147             6.931472e-01            0.000000       1.0  \n",
       "2              0.771022             1.398156e-02            5.629293       2.0  \n",
       "3              0.693147             6.938894e-18            3.032484       3.0  "
      ]
     },
     "execution_count": 120,
     "metadata": {},
     "output_type": "execute_result"
    }
   ],
   "source": [
    "# create centers dataframe from add_points\n",
    "centers_df = pd.DataFrame(data=add_points, columns=[\"products_ordered\",\n",
    "                                                    \"average_return_rate\",\n",
    "                                                    \"total_spending\",\n",
    "                                                    \"log_products_ordered\",\n",
    "                                                    \"log_average_return_rate\",\n",
    "                                                    \"log_total_spending\",\n",
    "                                                    \"clusters\"])\n",
    "centers_df.head()"
   ]
  },
  {
   "cell_type": "code",
   "execution_count": 121,
   "id": "eac116d5",
   "metadata": {},
   "outputs": [],
   "source": [
    "# align cluster centers of centers_df and customers\n",
    "centers_df[\"clusters\"] = centers_df[\"clusters\"].astype(\"int\")"
   ]
  },
  {
   "cell_type": "code",
   "execution_count": 122,
   "id": "61de8c3a",
   "metadata": {},
   "outputs": [
    {
     "data": {
      "text/html": [
       "<div>\n",
       "<style scoped>\n",
       "    .dataframe tbody tr th:only-of-type {\n",
       "        vertical-align: middle;\n",
       "    }\n",
       "\n",
       "    .dataframe tbody tr th {\n",
       "        vertical-align: top;\n",
       "    }\n",
       "\n",
       "    .dataframe thead th {\n",
       "        text-align: right;\n",
       "    }\n",
       "</style>\n",
       "<table border=\"1\" class=\"dataframe\">\n",
       "  <thead>\n",
       "    <tr style=\"text-align: right;\">\n",
       "      <th></th>\n",
       "      <th>products_ordered</th>\n",
       "      <th>average_return_rate</th>\n",
       "      <th>total_spending</th>\n",
       "      <th>log_products_ordered</th>\n",
       "      <th>log_average_return_rate</th>\n",
       "      <th>log_total_spending</th>\n",
       "      <th>clusters</th>\n",
       "    </tr>\n",
       "  </thead>\n",
       "  <tbody>\n",
       "    <tr>\n",
       "      <th>0</th>\n",
       "      <td>1.041560</td>\n",
       "      <td>5.893605e-03</td>\n",
       "      <td>156.189393</td>\n",
       "      <td>0.713714</td>\n",
       "      <td>5.876306e-03</td>\n",
       "      <td>5.057451</td>\n",
       "      <td>0</td>\n",
       "    </tr>\n",
       "    <tr>\n",
       "      <th>1</th>\n",
       "      <td>1.000000</td>\n",
       "      <td>1.000000e+00</td>\n",
       "      <td>0.000000</td>\n",
       "      <td>0.693147</td>\n",
       "      <td>6.931472e-01</td>\n",
       "      <td>0.000000</td>\n",
       "      <td>1</td>\n",
       "    </tr>\n",
       "    <tr>\n",
       "      <th>2</th>\n",
       "      <td>1.161975</td>\n",
       "      <td>1.407975e-02</td>\n",
       "      <td>277.465136</td>\n",
       "      <td>0.771022</td>\n",
       "      <td>1.398156e-02</td>\n",
       "      <td>5.629293</td>\n",
       "      <td>2</td>\n",
       "    </tr>\n",
       "    <tr>\n",
       "      <th>3</th>\n",
       "      <td>1.000000</td>\n",
       "      <td>6.938894e-18</td>\n",
       "      <td>19.748711</td>\n",
       "      <td>0.693147</td>\n",
       "      <td>6.938894e-18</td>\n",
       "      <td>3.032484</td>\n",
       "      <td>3</td>\n",
       "    </tr>\n",
       "  </tbody>\n",
       "</table>\n",
       "</div>"
      ],
      "text/plain": [
       "   products_ordered  average_return_rate  total_spending  \\\n",
       "0          1.041560         5.893605e-03      156.189393   \n",
       "1          1.000000         1.000000e+00        0.000000   \n",
       "2          1.161975         1.407975e-02      277.465136   \n",
       "3          1.000000         6.938894e-18       19.748711   \n",
       "\n",
       "   log_products_ordered  log_average_return_rate  log_total_spending  clusters  \n",
       "0              0.713714             5.876306e-03            5.057451         0  \n",
       "1              0.693147             6.931472e-01            0.000000         1  \n",
       "2              0.771022             1.398156e-02            5.629293         2  \n",
       "3              0.693147             6.938894e-18            3.032484         3  "
      ]
     },
     "execution_count": 122,
     "metadata": {},
     "output_type": "execute_result"
    }
   ],
   "source": [
    "centers_df.head()"
   ]
  },
  {
   "cell_type": "code",
   "execution_count": 123,
   "id": "47734a7c",
   "metadata": {},
   "outputs": [
    {
     "data": {
      "text/html": [
       "<div>\n",
       "<style scoped>\n",
       "    .dataframe tbody tr th:only-of-type {\n",
       "        vertical-align: middle;\n",
       "    }\n",
       "\n",
       "    .dataframe tbody tr th {\n",
       "        vertical-align: top;\n",
       "    }\n",
       "\n",
       "    .dataframe thead th {\n",
       "        text-align: right;\n",
       "    }\n",
       "</style>\n",
       "<table border=\"1\" class=\"dataframe\">\n",
       "  <thead>\n",
       "    <tr style=\"text-align: right;\">\n",
       "      <th></th>\n",
       "      <th>products_ordered</th>\n",
       "      <th>average_return_rate</th>\n",
       "      <th>total_spending</th>\n",
       "      <th>log_products_ordered</th>\n",
       "      <th>log_average_return_rate</th>\n",
       "      <th>log_total_spending</th>\n",
       "      <th>clusters</th>\n",
       "    </tr>\n",
       "  </thead>\n",
       "  <tbody>\n",
       "    <tr>\n",
       "      <th>0</th>\n",
       "      <td>1</td>\n",
       "      <td>0.0</td>\n",
       "      <td>259.99</td>\n",
       "      <td>0.693147</td>\n",
       "      <td>0.0</td>\n",
       "      <td>5.564482</td>\n",
       "      <td>2</td>\n",
       "    </tr>\n",
       "    <tr>\n",
       "      <th>1</th>\n",
       "      <td>2</td>\n",
       "      <td>0.0</td>\n",
       "      <td>519.98</td>\n",
       "      <td>1.098612</td>\n",
       "      <td>0.0</td>\n",
       "      <td>6.255712</td>\n",
       "      <td>2</td>\n",
       "    </tr>\n",
       "    <tr>\n",
       "      <th>2</th>\n",
       "      <td>1</td>\n",
       "      <td>0.0</td>\n",
       "      <td>174.99</td>\n",
       "      <td>0.693147</td>\n",
       "      <td>0.0</td>\n",
       "      <td>5.170427</td>\n",
       "      <td>0</td>\n",
       "    </tr>\n",
       "    <tr>\n",
       "      <th>3</th>\n",
       "      <td>1</td>\n",
       "      <td>0.0</td>\n",
       "      <td>124.99</td>\n",
       "      <td>0.693147</td>\n",
       "      <td>0.0</td>\n",
       "      <td>4.836203</td>\n",
       "      <td>0</td>\n",
       "    </tr>\n",
       "    <tr>\n",
       "      <th>4</th>\n",
       "      <td>1</td>\n",
       "      <td>0.0</td>\n",
       "      <td>259.99</td>\n",
       "      <td>0.693147</td>\n",
       "      <td>0.0</td>\n",
       "      <td>5.564482</td>\n",
       "      <td>2</td>\n",
       "    </tr>\n",
       "  </tbody>\n",
       "</table>\n",
       "</div>"
      ],
      "text/plain": [
       "   products_ordered  average_return_rate  total_spending  \\\n",
       "0                 1                  0.0          259.99   \n",
       "1                 2                  0.0          519.98   \n",
       "2                 1                  0.0          174.99   \n",
       "3                 1                  0.0          124.99   \n",
       "4                 1                  0.0          259.99   \n",
       "\n",
       "   log_products_ordered  log_average_return_rate  log_total_spending  clusters  \n",
       "0              0.693147                      0.0            5.564482         2  \n",
       "1              1.098612                      0.0            6.255712         2  \n",
       "2              0.693147                      0.0            5.170427         0  \n",
       "3              0.693147                      0.0            4.836203         0  \n",
       "4              0.693147                      0.0            5.564482         2  "
      ]
     },
     "execution_count": 123,
     "metadata": {},
     "output_type": "execute_result"
    }
   ],
   "source": [
    "customers.head()"
   ]
  },
  {
   "cell_type": "code",
   "execution_count": 124,
   "id": "0ec8c3dc",
   "metadata": {},
   "outputs": [],
   "source": [
    "# differentiate between data points and cluster centers\n",
    "customers[\"is_center\"] = 0\n",
    "centers_df[\"is_center\"] = 1\n",
    "\n",
    "# add dataframes together\n",
    "customers = customers.append(centers_df, ignore_index=True)"
   ]
  },
  {
   "cell_type": "code",
   "execution_count": 125,
   "id": "7c4c8086",
   "metadata": {},
   "outputs": [
    {
     "data": {
      "text/html": [
       "<div>\n",
       "<style scoped>\n",
       "    .dataframe tbody tr th:only-of-type {\n",
       "        vertical-align: middle;\n",
       "    }\n",
       "\n",
       "    .dataframe tbody tr th {\n",
       "        vertical-align: top;\n",
       "    }\n",
       "\n",
       "    .dataframe thead th {\n",
       "        text-align: right;\n",
       "    }\n",
       "</style>\n",
       "<table border=\"1\" class=\"dataframe\">\n",
       "  <thead>\n",
       "    <tr style=\"text-align: right;\">\n",
       "      <th></th>\n",
       "      <th>products_ordered</th>\n",
       "      <th>average_return_rate</th>\n",
       "      <th>total_spending</th>\n",
       "      <th>log_products_ordered</th>\n",
       "      <th>log_average_return_rate</th>\n",
       "      <th>log_total_spending</th>\n",
       "      <th>clusters</th>\n",
       "      <th>is_center</th>\n",
       "    </tr>\n",
       "  </thead>\n",
       "  <tbody>\n",
       "    <tr>\n",
       "      <th>235</th>\n",
       "      <td>1.000000</td>\n",
       "      <td>0.000000e+00</td>\n",
       "      <td>249.990000</td>\n",
       "      <td>0.693147</td>\n",
       "      <td>0.000000e+00</td>\n",
       "      <td>5.525413</td>\n",
       "      <td>2</td>\n",
       "      <td>0</td>\n",
       "    </tr>\n",
       "    <tr>\n",
       "      <th>236</th>\n",
       "      <td>1.041560</td>\n",
       "      <td>5.893605e-03</td>\n",
       "      <td>156.189393</td>\n",
       "      <td>0.713714</td>\n",
       "      <td>5.876306e-03</td>\n",
       "      <td>5.057451</td>\n",
       "      <td>0</td>\n",
       "      <td>1</td>\n",
       "    </tr>\n",
       "    <tr>\n",
       "      <th>237</th>\n",
       "      <td>1.000000</td>\n",
       "      <td>1.000000e+00</td>\n",
       "      <td>0.000000</td>\n",
       "      <td>0.693147</td>\n",
       "      <td>6.931472e-01</td>\n",
       "      <td>0.000000</td>\n",
       "      <td>1</td>\n",
       "      <td>1</td>\n",
       "    </tr>\n",
       "    <tr>\n",
       "      <th>238</th>\n",
       "      <td>1.161975</td>\n",
       "      <td>1.407975e-02</td>\n",
       "      <td>277.465136</td>\n",
       "      <td>0.771022</td>\n",
       "      <td>1.398156e-02</td>\n",
       "      <td>5.629293</td>\n",
       "      <td>2</td>\n",
       "      <td>1</td>\n",
       "    </tr>\n",
       "    <tr>\n",
       "      <th>239</th>\n",
       "      <td>1.000000</td>\n",
       "      <td>6.938894e-18</td>\n",
       "      <td>19.748711</td>\n",
       "      <td>0.693147</td>\n",
       "      <td>6.938894e-18</td>\n",
       "      <td>3.032484</td>\n",
       "      <td>3</td>\n",
       "      <td>1</td>\n",
       "    </tr>\n",
       "  </tbody>\n",
       "</table>\n",
       "</div>"
      ],
      "text/plain": [
       "     products_ordered  average_return_rate  total_spending  \\\n",
       "235          1.000000         0.000000e+00      249.990000   \n",
       "236          1.041560         5.893605e-03      156.189393   \n",
       "237          1.000000         1.000000e+00        0.000000   \n",
       "238          1.161975         1.407975e-02      277.465136   \n",
       "239          1.000000         6.938894e-18       19.748711   \n",
       "\n",
       "     log_products_ordered  log_average_return_rate  log_total_spending  \\\n",
       "235              0.693147             0.000000e+00            5.525413   \n",
       "236              0.713714             5.876306e-03            5.057451   \n",
       "237              0.693147             6.931472e-01            0.000000   \n",
       "238              0.771022             1.398156e-02            5.629293   \n",
       "239              0.693147             6.938894e-18            3.032484   \n",
       "\n",
       "     clusters  is_center  \n",
       "235         2          0  \n",
       "236         0          1  \n",
       "237         1          1  \n",
       "238         2          1  \n",
       "239         3          1  "
      ]
     },
     "execution_count": 125,
     "metadata": {},
     "output_type": "execute_result"
    }
   ],
   "source": [
    "customers.tail()"
   ]
  },
  {
   "cell_type": "markdown",
   "id": "4f2626c5",
   "metadata": {},
   "source": [
    "Visualize Customer Segmentation"
   ]
  },
  {
   "cell_type": "code",
   "execution_count": 126,
   "id": "b2bd190e",
   "metadata": {},
   "outputs": [],
   "source": [
    "# add clusters to the dataframe\n",
    "customers[\"cluster_name\"] = customers[\"clusters\"].astype(str)"
   ]
  },
  {
   "cell_type": "code",
   "execution_count": 127,
   "id": "a6060faf",
   "metadata": {},
   "outputs": [
    {
     "data": {
      "application/vnd.plotly.v1+json": {
       "config": {
        "plotlyServerURL": "https://plot.ly"
       },
       "data": [
        {
         "customdata": [
          [
           1,
           0,
           174.99
          ],
          [
           1,
           0,
           124.99
          ],
          [
           1,
           0,
           169.98
          ],
          [
           1,
           0,
           184.97
          ],
          [
           1,
           0,
           169.98
          ],
          [
           1,
           0,
           174.37
          ],
          [
           1,
           0,
           174.99
          ],
          [
           1,
           0,
           134.99
          ],
          [
           1,
           0,
           126.12
          ],
          [
           1,
           0,
           94.99
          ],
          [
           1,
           0,
           124.99
          ],
          [
           1,
           0,
           174.99
          ],
          [
           1,
           0,
           148.25
          ],
          [
           1,
           0,
           124.99
          ],
          [
           1,
           0,
           159.98
          ],
          [
           2,
           0.5,
           154.37
          ],
          [
           1,
           0,
           169.98
          ],
          [
           1,
           0,
           124.99
          ],
          [
           1,
           0,
           174.99
          ],
          [
           1,
           0,
           174.99
          ],
          [
           1,
           0,
           124.99
          ],
          [
           2,
           0,
           164.97
          ],
          [
           1,
           0,
           199.99
          ],
          [
           1,
           0,
           99
          ],
          [
           1,
           0,
           169.98
          ],
          [
           1,
           0,
           174.99
          ],
          [
           1,
           0,
           124.99
          ],
          [
           1,
           0,
           174.99
          ],
          [
           1,
           0,
           174.99
          ],
          [
           1,
           0,
           144.99
          ],
          [
           1,
           0,
           174.99
          ],
          [
           1,
           0,
           174.99
          ],
          [
           1,
           0,
           174.99
          ],
          [
           1,
           0,
           174.99
          ],
          [
           1,
           0,
           124.99
          ],
          [
           1,
           0,
           174.99
          ],
          [
           1,
           0,
           169.98
          ],
          [
           1,
           0,
           159.99
          ],
          [
           1,
           0,
           174.99
          ],
          [
           1,
           0,
           156.11
          ],
          [
           1,
           0,
           174.99
          ],
          [
           1,
           0,
           144.99
          ],
          [
           1,
           0,
           174.99
          ],
          [
           1,
           0,
           144.99
          ],
          [
           1,
           0,
           174.99
          ],
          [
           1,
           0,
           159.99
          ],
          [
           1,
           0,
           126.12
          ],
          [
           1,
           0,
           174.99
          ],
          [
           2,
           0,
           154.97
          ],
          [
           1,
           0,
           124.99
          ],
          [
           1,
           0,
           174.99
          ],
          [
           1,
           0,
           174.99
          ],
          [
           1,
           0,
           174.99
          ],
          [
           1,
           0,
           169.98
          ],
          [
           1,
           0,
           174.99
          ],
          [
           1,
           0,
           174.99
          ],
          [
           1,
           0,
           134.99
          ],
          [
           1,
           0,
           174.99
          ],
          [
           1,
           0,
           174.99
          ],
          [
           1,
           0,
           108.87
          ],
          [
           1,
           0,
           174.99
          ],
          [
           1,
           0,
           174.99
          ],
          [
           1,
           0,
           174.99
          ],
          [
           1,
           0,
           174.99
          ],
          [
           1,
           0,
           124.99
          ],
          [
           1,
           0,
           124.38
          ],
          [
           1,
           0,
           174.99
          ],
          [
           1,
           0,
           176.11
          ],
          [
           1,
           0,
           159.99
          ],
          [
           1,
           0,
           174.99
          ],
          [
           1,
           0,
           174.99
          ],
          [
           1,
           0,
           124.99
          ],
          [
           1,
           0,
           174.99
          ],
          [
           1,
           0,
           124.99
          ],
          [
           1,
           0,
           124.99
          ],
          [
           1,
           0,
           149.99
          ],
          [
           1,
           0,
           184.97
          ],
          [
           1,
           0,
           126.12
          ],
          [
           1,
           0,
           159.98
          ],
          [
           1,
           0,
           174.99
          ],
          [
           1,
           0,
           174.99
          ],
          [
           1,
           0,
           174.37
          ],
          [
           2,
           0,
           189.97
          ],
          [
           1,
           0,
           159.99
          ],
          [
           1,
           0,
           159.99
          ],
          [
           1,
           0,
           124.99
          ],
          [
           1,
           0,
           134.99
          ],
          [
           1,
           0,
           174.99
          ],
          [
           1,
           0,
           159.98
          ],
          [
           1,
           0,
           159.99
          ],
          [
           1,
           0,
           124.99
          ],
          [
           1,
           0,
           174.99
          ],
          [
           2,
           0,
           158.97
          ],
          [
           1,
           0,
           149.99
          ],
          [
           1,
           0,
           159.99
          ],
          [
           1,
           0,
           174.99
          ],
          [
           1,
           0,
           134.99
          ],
          [
           1,
           0,
           134.99
          ],
          [
           1,
           0,
           124.99
          ],
          [
           1,
           0,
           159.99
          ],
          [
           1,
           0,
           174.99
          ],
          [
           1,
           0,
           174.99
          ],
          [
           1,
           0,
           119.99
          ],
          [
           1,
           0,
           134.99
          ],
          [
           1,
           0,
           124.99
          ],
          [
           1,
           0,
           176.11
          ],
          [
           1,
           0,
           174.99
          ],
          [
           1,
           0,
           129.99
          ],
          [
           1,
           0,
           184.97
          ],
          [
           1,
           0,
           149.99
          ],
          [
           1,
           0,
           174.99
          ],
          [
           1,
           0,
           184.97
          ],
          [
           2,
           0.5,
           174.99
          ],
          [
           1,
           0,
           199.99
          ],
          [
           1,
           0,
           174.99
          ],
          [
           1,
           0,
           174.99
          ],
          [
           1,
           0,
           169.98
          ],
          [
           1,
           0,
           174.99
          ],
          [
           1,
           0,
           174.99
          ],
          [
           1,
           0,
           149.99
          ],
          [
           1,
           0,
           124.99
          ],
          [
           1,
           0,
           124.99
          ],
          [
           2,
           0,
           158.97
          ],
          [
           1,
           0,
           176.11
          ],
          [
           1,
           0,
           134.99
          ],
          [
           1,
           0,
           134.99
          ],
          [
           1,
           0,
           154.37
          ],
          [
           1,
           0,
           124.99
          ],
          [
           1,
           0,
           169.98
          ],
          [
           1,
           0,
           179.98
          ],
          [
           1,
           0,
           174.99
          ],
          [
           1,
           0,
           174.99
          ],
          [
           1,
           0,
           169.98
          ],
          [
           1,
           0,
           159.99
          ],
          [
           1,
           0,
           124.99
          ],
          [
           1,
           0,
           174.99
          ],
          [
           1,
           0,
           124.99
          ],
          [
           1,
           0,
           159.99
          ]
         ],
         "hovertemplate": "cluster_name=0<br>is_center=0<br>log_products_ordered=%{x}<br>log_average_return_rate=%{y}<br>log_total_spending=%{z}<br>products_ordered=%{customdata[0]}<br>average_return_rate=%{customdata[1]}<br>total_spending=%{customdata[2]}<extra></extra>",
         "legendgroup": "0, 0",
         "marker": {
          "color": "#636efa",
          "symbol": "circle"
         },
         "mode": "markers",
         "name": "0, 0",
         "scene": "scene",
         "showlegend": true,
         "type": "scatter3d",
         "x": [
          0.6931471805599453,
          0.6931471805599453,
          0.6931471805599453,
          0.6931471805599453,
          0.6931471805599453,
          0.6931471805599453,
          0.6931471805599453,
          0.6931471805599453,
          0.6931471805599453,
          0.6931471805599453,
          0.6931471805599453,
          0.6931471805599453,
          0.6931471805599453,
          0.6931471805599453,
          0.6931471805599453,
          1.0986122886681098,
          0.6931471805599453,
          0.6931471805599453,
          0.6931471805599453,
          0.6931471805599453,
          0.6931471805599453,
          1.0986122886681098,
          0.6931471805599453,
          0.6931471805599453,
          0.6931471805599453,
          0.6931471805599453,
          0.6931471805599453,
          0.6931471805599453,
          0.6931471805599453,
          0.6931471805599453,
          0.6931471805599453,
          0.6931471805599453,
          0.6931471805599453,
          0.6931471805599453,
          0.6931471805599453,
          0.6931471805599453,
          0.6931471805599453,
          0.6931471805599453,
          0.6931471805599453,
          0.6931471805599453,
          0.6931471805599453,
          0.6931471805599453,
          0.6931471805599453,
          0.6931471805599453,
          0.6931471805599453,
          0.6931471805599453,
          0.6931471805599453,
          0.6931471805599453,
          1.0986122886681098,
          0.6931471805599453,
          0.6931471805599453,
          0.6931471805599453,
          0.6931471805599453,
          0.6931471805599453,
          0.6931471805599453,
          0.6931471805599453,
          0.6931471805599453,
          0.6931471805599453,
          0.6931471805599453,
          0.6931471805599453,
          0.6931471805599453,
          0.6931471805599453,
          0.6931471805599453,
          0.6931471805599453,
          0.6931471805599453,
          0.6931471805599453,
          0.6931471805599453,
          0.6931471805599453,
          0.6931471805599453,
          0.6931471805599453,
          0.6931471805599453,
          0.6931471805599453,
          0.6931471805599453,
          0.6931471805599453,
          0.6931471805599453,
          0.6931471805599453,
          0.6931471805599453,
          0.6931471805599453,
          0.6931471805599453,
          0.6931471805599453,
          0.6931471805599453,
          0.6931471805599453,
          1.0986122886681098,
          0.6931471805599453,
          0.6931471805599453,
          0.6931471805599453,
          0.6931471805599453,
          0.6931471805599453,
          0.6931471805599453,
          0.6931471805599453,
          0.6931471805599453,
          0.6931471805599453,
          1.0986122886681098,
          0.6931471805599453,
          0.6931471805599453,
          0.6931471805599453,
          0.6931471805599453,
          0.6931471805599453,
          0.6931471805599453,
          0.6931471805599453,
          0.6931471805599453,
          0.6931471805599453,
          0.6931471805599453,
          0.6931471805599453,
          0.6931471805599453,
          0.6931471805599453,
          0.6931471805599453,
          0.6931471805599453,
          0.6931471805599453,
          0.6931471805599453,
          0.6931471805599453,
          0.6931471805599453,
          1.0986122886681098,
          0.6931471805599453,
          0.6931471805599453,
          0.6931471805599453,
          0.6931471805599453,
          0.6931471805599453,
          0.6931471805599453,
          0.6931471805599453,
          0.6931471805599453,
          0.6931471805599453,
          1.0986122886681098,
          0.6931471805599453,
          0.6931471805599453,
          0.6931471805599453,
          0.6931471805599453,
          0.6931471805599453,
          0.6931471805599453,
          0.6931471805599453,
          0.6931471805599453,
          0.6931471805599453,
          0.6931471805599453,
          0.6931471805599453,
          0.6931471805599453,
          0.6931471805599453,
          0.6931471805599453,
          0.6931471805599453
         ],
         "y": [
          0,
          0,
          0,
          0,
          0,
          0,
          0,
          0,
          0,
          0,
          0,
          0,
          0,
          0,
          0,
          0.4054651081081644,
          0,
          0,
          0,
          0,
          0,
          0,
          0,
          0,
          0,
          0,
          0,
          0,
          0,
          0,
          0,
          0,
          0,
          0,
          0,
          0,
          0,
          0,
          0,
          0,
          0,
          0,
          0,
          0,
          0,
          0,
          0,
          0,
          0,
          0,
          0,
          0,
          0,
          0,
          0,
          0,
          0,
          0,
          0,
          0,
          0,
          0,
          0,
          0,
          0,
          0,
          0,
          0,
          0,
          0,
          0,
          0,
          0,
          0,
          0,
          0,
          0,
          0,
          0,
          0,
          0,
          0,
          0,
          0,
          0,
          0,
          0,
          0,
          0,
          0,
          0,
          0,
          0,
          0,
          0,
          0,
          0,
          0,
          0,
          0,
          0,
          0,
          0,
          0,
          0,
          0,
          0,
          0,
          0,
          0,
          0,
          0,
          0.4054651081081644,
          0,
          0,
          0,
          0,
          0,
          0,
          0,
          0,
          0,
          0,
          0,
          0,
          0,
          0,
          0,
          0,
          0,
          0,
          0,
          0,
          0,
          0,
          0,
          0,
          0
         ],
         "z": [
          5.17042717524212,
          4.836202538722539,
          5.141546590598088,
          5.225585370381938,
          5.141546590598088,
          5.166898027681201,
          5.17042717524212,
          4.912581353620868,
          4.845131522228461,
          4.564244019375446,
          4.836202538722539,
          5.17042717524212,
          5.0056227522727115,
          4.836202538722539,
          5.0812801336655875,
          5.045809369103909,
          5.141546590598088,
          4.836202538722539,
          5.17042717524212,
          5.17042717524212,
          4.836202538722539,
          5.1118070491326275,
          5.30325515557766,
          4.605170185988092,
          5.141546590598088,
          5.17042717524212,
          4.836202538722539,
          5.17042717524212,
          5.17042717524212,
          4.983538126211888,
          5.17042717524212,
          5.17042717524212,
          5.17042717524212,
          5.17042717524212,
          4.836202538722539,
          5.17042717524212,
          5.141546590598088,
          5.081342251254203,
          5.17042717524212,
          5.056946196959506,
          5.17042717524212,
          4.983538126211888,
          5.17042717524212,
          4.983538126211888,
          5.17042717524212,
          5.081342251254203,
          4.845131522228461,
          5.17042717524212,
          5.049663681063734,
          4.836202538722539,
          5.17042717524212,
          5.17042717524212,
          5.17042717524212,
          5.141546590598088,
          5.17042717524212,
          5.17042717524212,
          4.912581353620868,
          5.17042717524212,
          5.17042717524212,
          4.699297848712789,
          5.17042717524212,
          5.17042717524212,
          5.17042717524212,
          5.17042717524212,
          4.836202538722539,
          4.831349125845822,
          5.17042717524212,
          5.176771008468541,
          5.081342251254203,
          5.17042717524212,
          5.17042717524212,
          4.836202538722539,
          5.17042717524212,
          4.836202538722539,
          4.836202538722539,
          5.017213609456379,
          5.225585370381938,
          4.845131522228461,
          5.0812801336655875,
          5.17042717524212,
          5.17042717524212,
          5.166898027681201,
          5.2521163476473225,
          5.081342251254203,
          5.081342251254203,
          4.836202538722539,
          4.912581353620868,
          5.17042717524212,
          5.0812801336655875,
          5.081342251254203,
          4.836202538722539,
          5.17042717524212,
          5.0749862976535045,
          5.017213609456379,
          5.081342251254203,
          5.17042717524212,
          4.912581353620868,
          4.912581353620868,
          4.836202538722539,
          5.081342251254203,
          5.17042717524212,
          5.17042717524212,
          4.7957078975533864,
          4.912581353620868,
          4.836202538722539,
          5.176771008468541,
          5.17042717524212,
          4.875120984409557,
          5.225585370381938,
          5.017213609456379,
          5.17042717524212,
          5.225585370381938,
          5.17042717524212,
          5.30325515557766,
          5.17042717524212,
          5.17042717524212,
          5.141546590598088,
          5.17042717524212,
          5.17042717524212,
          5.017213609456379,
          4.836202538722539,
          4.836202538722539,
          5.0749862976535045,
          5.176771008468541,
          4.912581353620868,
          4.912581353620868,
          5.045809369103909,
          4.836202538722539,
          5.141546590598088,
          5.198386527922987,
          5.17042717524212,
          5.17042717524212,
          5.141546590598088,
          5.081342251254203,
          4.836202538722539,
          5.17042717524212,
          4.836202538722539,
          5.081342251254203
         ]
        },
        {
         "customdata": [
          [
           1.0415600607592244,
           0.005893605269045068,
           156.1893926623249
          ]
         ],
         "hovertemplate": "cluster_name=0<br>is_center=1<br>log_products_ordered=%{x}<br>log_average_return_rate=%{y}<br>log_total_spending=%{z}<br>products_ordered=%{customdata[0]}<br>average_return_rate=%{customdata[1]}<br>total_spending=%{customdata[2]}<extra></extra>",
         "legendgroup": "0, 1",
         "marker": {
          "color": "#636efa",
          "symbol": "diamond"
         },
         "mode": "markers",
         "name": "0, 1",
         "scene": "scene",
         "showlegend": true,
         "type": "scatter3d",
         "x": [
          0.7137142512610841
         ],
         "y": [
          0.005876305914611024
         ],
         "z": [
          5.057451401015683
         ]
        },
        {
         "customdata": [
          [
           1,
           1,
           0
          ],
          [
           1,
           1,
           0
          ],
          [
           1,
           1,
           0
          ],
          [
           1,
           1,
           0
          ],
          [
           1,
           1,
           0
          ],
          [
           1,
           1,
           0
          ],
          [
           1,
           1,
           0
          ],
          [
           1,
           1,
           0
          ]
         ],
         "hovertemplate": "cluster_name=1<br>is_center=0<br>log_products_ordered=%{x}<br>log_average_return_rate=%{y}<br>log_total_spending=%{z}<br>products_ordered=%{customdata[0]}<br>average_return_rate=%{customdata[1]}<br>total_spending=%{customdata[2]}<extra></extra>",
         "legendgroup": "1, 0",
         "marker": {
          "color": "#EF553B",
          "symbol": "circle"
         },
         "mode": "markers",
         "name": "1, 0",
         "scene": "scene",
         "showlegend": true,
         "type": "scatter3d",
         "x": [
          0.6931471805599453,
          0.6931471805599453,
          0.6931471805599453,
          0.6931471805599453,
          0.6931471805599453,
          0.6931471805599453,
          0.6931471805599453,
          0.6931471805599453
         ],
         "y": [
          0.6931471805599453,
          0.6931471805599453,
          0.6931471805599453,
          0.6931471805599453,
          0.6931471805599453,
          0.6931471805599453,
          0.6931471805599453,
          0.6931471805599453
         ],
         "z": [
          0,
          0,
          0,
          0,
          0,
          0,
          0,
          0
         ]
        },
        {
         "customdata": [
          [
           1,
           1,
           0
          ]
         ],
         "hovertemplate": "cluster_name=1<br>is_center=1<br>log_products_ordered=%{x}<br>log_average_return_rate=%{y}<br>log_total_spending=%{z}<br>products_ordered=%{customdata[0]}<br>average_return_rate=%{customdata[1]}<br>total_spending=%{customdata[2]}<extra></extra>",
         "legendgroup": "1, 1",
         "marker": {
          "color": "#EF553B",
          "symbol": "diamond"
         },
         "mode": "markers",
         "name": "1, 1",
         "scene": "scene",
         "showlegend": true,
         "type": "scatter3d",
         "x": [
          0.6931471805599453
         ],
         "y": [
          0.6931471805599453
         ],
         "z": [
          0
         ]
        },
        {
         "customdata": [
          [
           1,
           0,
           259.99
          ],
          [
           2,
           0,
           519.98
          ],
          [
           1,
           0,
           259.99
          ],
          [
           1,
           0,
           249.99
          ],
          [
           1,
           0,
           259.99
          ],
          [
           1,
           0,
           249.99
          ],
          [
           1,
           0,
           249.99
          ],
          [
           1,
           0,
           259.99
          ],
          [
           2,
           0.5,
           249.99
          ],
          [
           1,
           0,
           259.99
          ],
          [
           1,
           0,
           259.99
          ],
          [
           1,
           0,
           249.99
          ],
          [
           1,
           0,
           249.99
          ],
          [
           1,
           0,
           259.99
          ],
          [
           1,
           0,
           259.99
          ],
          [
           2,
           0,
           534.97
          ],
          [
           1,
           0,
           259.99
          ],
          [
           1,
           0,
           249.99
          ],
          [
           1,
           0,
           249.99
          ],
          [
           1,
           0,
           224.99
          ],
          [
           2,
           0,
           264.97
          ],
          [
           1,
           0,
           249.99
          ],
          [
           1,
           0,
           259.99
          ],
          [
           1,
           0,
           259.99
          ],
          [
           2,
           0,
           509.98
          ],
          [
           1,
           0,
           224.99
          ],
          [
           1,
           0,
           249.99
          ],
          [
           2,
           0,
           519.98
          ],
          [
           1,
           0,
           249.99
          ],
          [
           1,
           0,
           259.99
          ],
          [
           3,
           0,
           684.97
          ],
          [
           1,
           0,
           249.99
          ],
          [
           1,
           0,
           224.99
          ],
          [
           1,
           0,
           259.99
          ],
          [
           2,
           0,
           434.98
          ],
          [
           1,
           0,
           259.99
          ],
          [
           1,
           0,
           249.99
          ],
          [
           1,
           0,
           274.98
          ],
          [
           1,
           0,
           259.99
          ],
          [
           2,
           0,
           519.98
          ],
          [
           2,
           0,
           999.96
          ],
          [
           1,
           0,
           259.99
          ],
          [
           1,
           0.5,
           249.99
          ],
          [
           1,
           0,
           249.99
          ],
          [
           1,
           0,
           259.99
          ],
          [
           2,
           0,
           208.97
          ],
          [
           1,
           0,
           249.99
          ],
          [
           1,
           0,
           249.99
          ],
          [
           1,
           0,
           259.99
          ],
          [
           1,
           0,
           249.99
          ],
          [
           1,
           0,
           259.99
          ],
          [
           1,
           0,
           259.99
          ],
          [
           1,
           0,
           259.99
          ],
          [
           1,
           0,
           249.99
          ],
          [
           1,
           0,
           249.99
          ],
          [
           1,
           0,
           259.99
          ],
          [
           1,
           0,
           274.98
          ],
          [
           1,
           0,
           249.99
          ],
          [
           1,
           0,
           259.99
          ],
          [
           2,
           0,
           208.97
          ],
          [
           1,
           0,
           274.98
          ],
          [
           1,
           0,
           259.99
          ],
          [
           1,
           0,
           259.99
          ],
          [
           1,
           0,
           259.99
          ],
          [
           1,
           0,
           259.99
          ],
          [
           1,
           0,
           274.98
          ],
          [
           1,
           0,
           259.99
          ],
          [
           1,
           0,
           249.99
          ],
          [
           2,
           0,
           529.98
          ],
          [
           1,
           0,
           259.99
          ],
          [
           1,
           0,
           249.99
          ],
          [
           1,
           0,
           224.99
          ],
          [
           2,
           0,
           208.97
          ],
          [
           1,
           0,
           249.99
          ],
          [
           1,
           0,
           259.99
          ],
          [
           2,
           0,
           694.97
          ],
          [
           1,
           0,
           259.99
          ],
          [
           1,
           0,
           249.99
          ],
          [
           1,
           0,
           224.99
          ],
          [
           1,
           0,
           259.99
          ],
          [
           1,
           0,
           249.99
          ],
          [
           1,
           0,
           249.99
          ],
          [
           1,
           0,
           249.99
          ],
          [
           1,
           0,
           249.99
          ],
          [
           1,
           0,
           259.99
          ],
          [
           2,
           0.5,
           249.99
          ],
          [
           1,
           0,
           249.99
          ]
         ],
         "hovertemplate": "cluster_name=2<br>is_center=0<br>log_products_ordered=%{x}<br>log_average_return_rate=%{y}<br>log_total_spending=%{z}<br>products_ordered=%{customdata[0]}<br>average_return_rate=%{customdata[1]}<br>total_spending=%{customdata[2]}<extra></extra>",
         "legendgroup": "2, 0",
         "marker": {
          "color": "#00cc96",
          "symbol": "circle"
         },
         "mode": "markers",
         "name": "2, 0",
         "scene": "scene",
         "showlegend": true,
         "type": "scatter3d",
         "x": [
          0.6931471805599453,
          1.0986122886681098,
          0.6931471805599453,
          0.6931471805599453,
          0.6931471805599453,
          0.6931471805599453,
          0.6931471805599453,
          0.6931471805599453,
          1.0986122886681098,
          0.6931471805599453,
          0.6931471805599453,
          0.6931471805599453,
          0.6931471805599453,
          0.6931471805599453,
          0.6931471805599453,
          1.0986122886681098,
          0.6931471805599453,
          0.6931471805599453,
          0.6931471805599453,
          0.6931471805599453,
          1.0986122886681098,
          0.6931471805599453,
          0.6931471805599453,
          0.6931471805599453,
          1.0986122886681098,
          0.6931471805599453,
          0.6931471805599453,
          1.0986122886681098,
          0.6931471805599453,
          0.6931471805599453,
          1.3862943611198906,
          0.6931471805599453,
          0.6931471805599453,
          0.6931471805599453,
          1.0986122886681098,
          0.6931471805599453,
          0.6931471805599453,
          0.6931471805599453,
          0.6931471805599453,
          1.0986122886681098,
          1.0986122886681098,
          0.6931471805599453,
          0.6931471805599453,
          0.6931471805599453,
          0.6931471805599453,
          1.0986122886681098,
          0.6931471805599453,
          0.6931471805599453,
          0.6931471805599453,
          0.6931471805599453,
          0.6931471805599453,
          0.6931471805599453,
          0.6931471805599453,
          0.6931471805599453,
          0.6931471805599453,
          0.6931471805599453,
          0.6931471805599453,
          0.6931471805599453,
          0.6931471805599453,
          1.0986122886681098,
          0.6931471805599453,
          0.6931471805599453,
          0.6931471805599453,
          0.6931471805599453,
          0.6931471805599453,
          0.6931471805599453,
          0.6931471805599453,
          0.6931471805599453,
          1.0986122886681098,
          0.6931471805599453,
          0.6931471805599453,
          0.6931471805599453,
          1.0986122886681098,
          0.6931471805599453,
          0.6931471805599453,
          1.0986122886681098,
          0.6931471805599453,
          0.6931471805599453,
          0.6931471805599453,
          0.6931471805599453,
          0.6931471805599453,
          0.6931471805599453,
          0.6931471805599453,
          0.6931471805599453,
          0.6931471805599453,
          1.0986122886681098,
          0.6931471805599453
         ],
         "y": [
          0,
          0,
          0,
          0,
          0,
          0,
          0,
          0,
          0.4054651081081644,
          0,
          0,
          0,
          0,
          0,
          0,
          0,
          0,
          0,
          0,
          0,
          0,
          0,
          0,
          0,
          0,
          0,
          0,
          0,
          0,
          0,
          0,
          0,
          0,
          0,
          0,
          0,
          0,
          0,
          0,
          0,
          0,
          0,
          0.4054651081081644,
          0,
          0,
          0,
          0,
          0,
          0,
          0,
          0,
          0,
          0,
          0,
          0,
          0,
          0,
          0,
          0,
          0,
          0,
          0,
          0,
          0,
          0,
          0,
          0,
          0,
          0,
          0,
          0,
          0,
          0,
          0,
          0,
          0,
          0,
          0,
          0,
          0,
          0,
          0,
          0,
          0,
          0,
          0.4054651081081644,
          0
         ],
         "z": [
          5.564482092412441,
          6.255711653300609,
          5.564482092412441,
          5.525413097700675,
          5.564482092412441,
          5.525413097700675,
          5.525413097700675,
          5.564482092412441,
          5.525413097700675,
          5.564482092412441,
          5.564482092412441,
          5.525413097700675,
          5.525413097700675,
          5.564482092412441,
          5.564482092412441,
          6.284078189355161,
          5.564482092412441,
          5.525413097700675,
          5.525413097700675,
          5.420490750505713,
          5.583383520466449,
          5.525413097700675,
          5.564482092412441,
          5.564482092412441,
          6.236330450494507,
          5.420490750505713,
          5.525413097700675,
          6.255711653300609,
          5.525413097700675,
          5.564482092412441,
          6.530833894991198,
          5.525413097700675,
          5.420490750505713,
          5.564482092412441,
          6.077596370737269,
          5.564482092412441,
          5.525413097700675,
          5.620328399323409,
          5.564482092412441,
          6.255711653300609,
          6.908714818476837,
          5.564482092412441,
          5.525413097700675,
          5.525413097700675,
          5.564482092412441,
          5.346964663369558,
          5.525413097700675,
          5.525413097700675,
          5.564482092412441,
          5.525413097700675,
          5.564482092412441,
          5.564482092412441,
          5.564482092412441,
          5.525413097700675,
          5.525413097700675,
          5.564482092412441,
          5.620328399323409,
          5.525413097700675,
          5.564482092412441,
          5.346964663369558,
          5.620328399323409,
          5.564482092412441,
          5.564482092412441,
          5.564482092412441,
          5.564482092412441,
          5.620328399323409,
          5.564482092412441,
          5.525413097700675,
          6.274724355749176,
          5.564482092412441,
          5.525413097700675,
          5.420490750505713,
          5.346964663369558,
          5.525413097700675,
          5.564482092412441,
          6.545306555957164,
          5.564482092412441,
          5.525413097700675,
          5.420490750505713,
          5.564482092412441,
          5.525413097700675,
          5.525413097700675,
          5.525413097700675,
          5.525413097700675,
          5.564482092412441,
          5.525413097700675,
          5.525413097700675
         ]
        },
        {
         "customdata": [
          [
           1.1619750238012245,
           0.014079754523293228,
           277.4651364454212
          ]
         ],
         "hovertemplate": "cluster_name=2<br>is_center=1<br>log_products_ordered=%{x}<br>log_average_return_rate=%{y}<br>log_total_spending=%{z}<br>products_ordered=%{customdata[0]}<br>average_return_rate=%{customdata[1]}<br>total_spending=%{customdata[2]}<extra></extra>",
         "legendgroup": "2, 1",
         "marker": {
          "color": "#00cc96",
          "symbol": "diamond"
         },
         "mode": "markers",
         "name": "2, 1",
         "scene": "scene",
         "showlegend": true,
         "type": "scatter3d",
         "x": [
          0.771022166791927
         ],
         "y": [
          0.013981555452005648
         ],
         "z": [
          5.629292868211401
         ]
        },
        {
         "customdata": [
          [
           1,
           0,
           33.98
          ],
          [
           1,
           0,
           14.98
          ],
          [
           1,
           0,
           14.98
          ]
         ],
         "hovertemplate": "cluster_name=3<br>is_center=0<br>log_products_ordered=%{x}<br>log_average_return_rate=%{y}<br>log_total_spending=%{z}<br>products_ordered=%{customdata[0]}<br>average_return_rate=%{customdata[1]}<br>total_spending=%{customdata[2]}<extra></extra>",
         "legendgroup": "3, 0",
         "marker": {
          "color": "#ab63fa",
          "symbol": "circle"
         },
         "mode": "markers",
         "name": "3, 0",
         "scene": "scene",
         "showlegend": true,
         "type": "scatter3d",
         "x": [
          0.6931471805599453,
          0.6931471805599453,
          0.6931471805599453
         ],
         "y": [
          0,
          0,
          0
         ],
         "z": [
          3.554776469590456,
          2.7713379403381286,
          2.7713379403381286
         ]
        },
        {
         "customdata": [
          [
           1,
           6.938893903907228e-18,
           19.748710844184416
          ]
         ],
         "hovertemplate": "cluster_name=3<br>is_center=1<br>log_products_ordered=%{x}<br>log_average_return_rate=%{y}<br>log_total_spending=%{z}<br>products_ordered=%{customdata[0]}<br>average_return_rate=%{customdata[1]}<br>total_spending=%{customdata[2]}<extra></extra>",
         "legendgroup": "3, 1",
         "marker": {
          "color": "#ab63fa",
          "symbol": "diamond"
         },
         "mode": "markers",
         "name": "3, 1",
         "scene": "scene",
         "showlegend": true,
         "type": "scatter3d",
         "x": [
          0.6931471805599453
         ],
         "y": [
          6.938893903907228e-18
         ],
         "z": [
          3.032484116755571
         ]
        }
       ],
       "layout": {
        "legend": {
         "title": {
          "text": "cluster_name, is_center"
         },
         "tracegroupgap": 0
        },
        "margin": {
         "b": 0,
         "l": 0,
         "r": 0,
         "t": 0
        },
        "scene": {
         "domain": {
          "x": [
           0,
           1
          ],
          "y": [
           0,
           1
          ]
         },
         "xaxis": {
          "title": {
           "text": "log_products_ordered"
          }
         },
         "yaxis": {
          "title": {
           "text": "log_average_return_rate"
          }
         },
         "zaxis": {
          "title": {
           "text": "log_total_spending"
          }
         }
        },
        "template": {
         "data": {
          "bar": [
           {
            "error_x": {
             "color": "#2a3f5f"
            },
            "error_y": {
             "color": "#2a3f5f"
            },
            "marker": {
             "line": {
              "color": "#E5ECF6",
              "width": 0.5
             },
             "pattern": {
              "fillmode": "overlay",
              "size": 10,
              "solidity": 0.2
             }
            },
            "type": "bar"
           }
          ],
          "barpolar": [
           {
            "marker": {
             "line": {
              "color": "#E5ECF6",
              "width": 0.5
             },
             "pattern": {
              "fillmode": "overlay",
              "size": 10,
              "solidity": 0.2
             }
            },
            "type": "barpolar"
           }
          ],
          "carpet": [
           {
            "aaxis": {
             "endlinecolor": "#2a3f5f",
             "gridcolor": "white",
             "linecolor": "white",
             "minorgridcolor": "white",
             "startlinecolor": "#2a3f5f"
            },
            "baxis": {
             "endlinecolor": "#2a3f5f",
             "gridcolor": "white",
             "linecolor": "white",
             "minorgridcolor": "white",
             "startlinecolor": "#2a3f5f"
            },
            "type": "carpet"
           }
          ],
          "choropleth": [
           {
            "colorbar": {
             "outlinewidth": 0,
             "ticks": ""
            },
            "type": "choropleth"
           }
          ],
          "contour": [
           {
            "colorbar": {
             "outlinewidth": 0,
             "ticks": ""
            },
            "colorscale": [
             [
              0,
              "#0d0887"
             ],
             [
              0.1111111111111111,
              "#46039f"
             ],
             [
              0.2222222222222222,
              "#7201a8"
             ],
             [
              0.3333333333333333,
              "#9c179e"
             ],
             [
              0.4444444444444444,
              "#bd3786"
             ],
             [
              0.5555555555555556,
              "#d8576b"
             ],
             [
              0.6666666666666666,
              "#ed7953"
             ],
             [
              0.7777777777777778,
              "#fb9f3a"
             ],
             [
              0.8888888888888888,
              "#fdca26"
             ],
             [
              1,
              "#f0f921"
             ]
            ],
            "type": "contour"
           }
          ],
          "contourcarpet": [
           {
            "colorbar": {
             "outlinewidth": 0,
             "ticks": ""
            },
            "type": "contourcarpet"
           }
          ],
          "heatmap": [
           {
            "colorbar": {
             "outlinewidth": 0,
             "ticks": ""
            },
            "colorscale": [
             [
              0,
              "#0d0887"
             ],
             [
              0.1111111111111111,
              "#46039f"
             ],
             [
              0.2222222222222222,
              "#7201a8"
             ],
             [
              0.3333333333333333,
              "#9c179e"
             ],
             [
              0.4444444444444444,
              "#bd3786"
             ],
             [
              0.5555555555555556,
              "#d8576b"
             ],
             [
              0.6666666666666666,
              "#ed7953"
             ],
             [
              0.7777777777777778,
              "#fb9f3a"
             ],
             [
              0.8888888888888888,
              "#fdca26"
             ],
             [
              1,
              "#f0f921"
             ]
            ],
            "type": "heatmap"
           }
          ],
          "heatmapgl": [
           {
            "colorbar": {
             "outlinewidth": 0,
             "ticks": ""
            },
            "colorscale": [
             [
              0,
              "#0d0887"
             ],
             [
              0.1111111111111111,
              "#46039f"
             ],
             [
              0.2222222222222222,
              "#7201a8"
             ],
             [
              0.3333333333333333,
              "#9c179e"
             ],
             [
              0.4444444444444444,
              "#bd3786"
             ],
             [
              0.5555555555555556,
              "#d8576b"
             ],
             [
              0.6666666666666666,
              "#ed7953"
             ],
             [
              0.7777777777777778,
              "#fb9f3a"
             ],
             [
              0.8888888888888888,
              "#fdca26"
             ],
             [
              1,
              "#f0f921"
             ]
            ],
            "type": "heatmapgl"
           }
          ],
          "histogram": [
           {
            "marker": {
             "pattern": {
              "fillmode": "overlay",
              "size": 10,
              "solidity": 0.2
             }
            },
            "type": "histogram"
           }
          ],
          "histogram2d": [
           {
            "colorbar": {
             "outlinewidth": 0,
             "ticks": ""
            },
            "colorscale": [
             [
              0,
              "#0d0887"
             ],
             [
              0.1111111111111111,
              "#46039f"
             ],
             [
              0.2222222222222222,
              "#7201a8"
             ],
             [
              0.3333333333333333,
              "#9c179e"
             ],
             [
              0.4444444444444444,
              "#bd3786"
             ],
             [
              0.5555555555555556,
              "#d8576b"
             ],
             [
              0.6666666666666666,
              "#ed7953"
             ],
             [
              0.7777777777777778,
              "#fb9f3a"
             ],
             [
              0.8888888888888888,
              "#fdca26"
             ],
             [
              1,
              "#f0f921"
             ]
            ],
            "type": "histogram2d"
           }
          ],
          "histogram2dcontour": [
           {
            "colorbar": {
             "outlinewidth": 0,
             "ticks": ""
            },
            "colorscale": [
             [
              0,
              "#0d0887"
             ],
             [
              0.1111111111111111,
              "#46039f"
             ],
             [
              0.2222222222222222,
              "#7201a8"
             ],
             [
              0.3333333333333333,
              "#9c179e"
             ],
             [
              0.4444444444444444,
              "#bd3786"
             ],
             [
              0.5555555555555556,
              "#d8576b"
             ],
             [
              0.6666666666666666,
              "#ed7953"
             ],
             [
              0.7777777777777778,
              "#fb9f3a"
             ],
             [
              0.8888888888888888,
              "#fdca26"
             ],
             [
              1,
              "#f0f921"
             ]
            ],
            "type": "histogram2dcontour"
           }
          ],
          "mesh3d": [
           {
            "colorbar": {
             "outlinewidth": 0,
             "ticks": ""
            },
            "type": "mesh3d"
           }
          ],
          "parcoords": [
           {
            "line": {
             "colorbar": {
              "outlinewidth": 0,
              "ticks": ""
             }
            },
            "type": "parcoords"
           }
          ],
          "pie": [
           {
            "automargin": true,
            "type": "pie"
           }
          ],
          "scatter": [
           {
            "marker": {
             "colorbar": {
              "outlinewidth": 0,
              "ticks": ""
             }
            },
            "type": "scatter"
           }
          ],
          "scatter3d": [
           {
            "line": {
             "colorbar": {
              "outlinewidth": 0,
              "ticks": ""
             }
            },
            "marker": {
             "colorbar": {
              "outlinewidth": 0,
              "ticks": ""
             }
            },
            "type": "scatter3d"
           }
          ],
          "scattercarpet": [
           {
            "marker": {
             "colorbar": {
              "outlinewidth": 0,
              "ticks": ""
             }
            },
            "type": "scattercarpet"
           }
          ],
          "scattergeo": [
           {
            "marker": {
             "colorbar": {
              "outlinewidth": 0,
              "ticks": ""
             }
            },
            "type": "scattergeo"
           }
          ],
          "scattergl": [
           {
            "marker": {
             "colorbar": {
              "outlinewidth": 0,
              "ticks": ""
             }
            },
            "type": "scattergl"
           }
          ],
          "scattermapbox": [
           {
            "marker": {
             "colorbar": {
              "outlinewidth": 0,
              "ticks": ""
             }
            },
            "type": "scattermapbox"
           }
          ],
          "scatterpolar": [
           {
            "marker": {
             "colorbar": {
              "outlinewidth": 0,
              "ticks": ""
             }
            },
            "type": "scatterpolar"
           }
          ],
          "scatterpolargl": [
           {
            "marker": {
             "colorbar": {
              "outlinewidth": 0,
              "ticks": ""
             }
            },
            "type": "scatterpolargl"
           }
          ],
          "scatterternary": [
           {
            "marker": {
             "colorbar": {
              "outlinewidth": 0,
              "ticks": ""
             }
            },
            "type": "scatterternary"
           }
          ],
          "surface": [
           {
            "colorbar": {
             "outlinewidth": 0,
             "ticks": ""
            },
            "colorscale": [
             [
              0,
              "#0d0887"
             ],
             [
              0.1111111111111111,
              "#46039f"
             ],
             [
              0.2222222222222222,
              "#7201a8"
             ],
             [
              0.3333333333333333,
              "#9c179e"
             ],
             [
              0.4444444444444444,
              "#bd3786"
             ],
             [
              0.5555555555555556,
              "#d8576b"
             ],
             [
              0.6666666666666666,
              "#ed7953"
             ],
             [
              0.7777777777777778,
              "#fb9f3a"
             ],
             [
              0.8888888888888888,
              "#fdca26"
             ],
             [
              1,
              "#f0f921"
             ]
            ],
            "type": "surface"
           }
          ],
          "table": [
           {
            "cells": {
             "fill": {
              "color": "#EBF0F8"
             },
             "line": {
              "color": "white"
             }
            },
            "header": {
             "fill": {
              "color": "#C8D4E3"
             },
             "line": {
              "color": "white"
             }
            },
            "type": "table"
           }
          ]
         },
         "layout": {
          "annotationdefaults": {
           "arrowcolor": "#2a3f5f",
           "arrowhead": 0,
           "arrowwidth": 1
          },
          "autotypenumbers": "strict",
          "coloraxis": {
           "colorbar": {
            "outlinewidth": 0,
            "ticks": ""
           }
          },
          "colorscale": {
           "diverging": [
            [
             0,
             "#8e0152"
            ],
            [
             0.1,
             "#c51b7d"
            ],
            [
             0.2,
             "#de77ae"
            ],
            [
             0.3,
             "#f1b6da"
            ],
            [
             0.4,
             "#fde0ef"
            ],
            [
             0.5,
             "#f7f7f7"
            ],
            [
             0.6,
             "#e6f5d0"
            ],
            [
             0.7,
             "#b8e186"
            ],
            [
             0.8,
             "#7fbc41"
            ],
            [
             0.9,
             "#4d9221"
            ],
            [
             1,
             "#276419"
            ]
           ],
           "sequential": [
            [
             0,
             "#0d0887"
            ],
            [
             0.1111111111111111,
             "#46039f"
            ],
            [
             0.2222222222222222,
             "#7201a8"
            ],
            [
             0.3333333333333333,
             "#9c179e"
            ],
            [
             0.4444444444444444,
             "#bd3786"
            ],
            [
             0.5555555555555556,
             "#d8576b"
            ],
            [
             0.6666666666666666,
             "#ed7953"
            ],
            [
             0.7777777777777778,
             "#fb9f3a"
            ],
            [
             0.8888888888888888,
             "#fdca26"
            ],
            [
             1,
             "#f0f921"
            ]
           ],
           "sequentialminus": [
            [
             0,
             "#0d0887"
            ],
            [
             0.1111111111111111,
             "#46039f"
            ],
            [
             0.2222222222222222,
             "#7201a8"
            ],
            [
             0.3333333333333333,
             "#9c179e"
            ],
            [
             0.4444444444444444,
             "#bd3786"
            ],
            [
             0.5555555555555556,
             "#d8576b"
            ],
            [
             0.6666666666666666,
             "#ed7953"
            ],
            [
             0.7777777777777778,
             "#fb9f3a"
            ],
            [
             0.8888888888888888,
             "#fdca26"
            ],
            [
             1,
             "#f0f921"
            ]
           ]
          },
          "colorway": [
           "#636efa",
           "#EF553B",
           "#00cc96",
           "#ab63fa",
           "#FFA15A",
           "#19d3f3",
           "#FF6692",
           "#B6E880",
           "#FF97FF",
           "#FECB52"
          ],
          "font": {
           "color": "#2a3f5f"
          },
          "geo": {
           "bgcolor": "white",
           "lakecolor": "white",
           "landcolor": "#E5ECF6",
           "showlakes": true,
           "showland": true,
           "subunitcolor": "white"
          },
          "hoverlabel": {
           "align": "left"
          },
          "hovermode": "closest",
          "mapbox": {
           "style": "light"
          },
          "paper_bgcolor": "white",
          "plot_bgcolor": "#E5ECF6",
          "polar": {
           "angularaxis": {
            "gridcolor": "white",
            "linecolor": "white",
            "ticks": ""
           },
           "bgcolor": "#E5ECF6",
           "radialaxis": {
            "gridcolor": "white",
            "linecolor": "white",
            "ticks": ""
           }
          },
          "scene": {
           "xaxis": {
            "backgroundcolor": "#E5ECF6",
            "gridcolor": "white",
            "gridwidth": 2,
            "linecolor": "white",
            "showbackground": true,
            "ticks": "",
            "zerolinecolor": "white"
           },
           "yaxis": {
            "backgroundcolor": "#E5ECF6",
            "gridcolor": "white",
            "gridwidth": 2,
            "linecolor": "white",
            "showbackground": true,
            "ticks": "",
            "zerolinecolor": "white"
           },
           "zaxis": {
            "backgroundcolor": "#E5ECF6",
            "gridcolor": "white",
            "gridwidth": 2,
            "linecolor": "white",
            "showbackground": true,
            "ticks": "",
            "zerolinecolor": "white"
           }
          },
          "shapedefaults": {
           "line": {
            "color": "#2a3f5f"
           }
          },
          "ternary": {
           "aaxis": {
            "gridcolor": "white",
            "linecolor": "white",
            "ticks": ""
           },
           "baxis": {
            "gridcolor": "white",
            "linecolor": "white",
            "ticks": ""
           },
           "bgcolor": "#E5ECF6",
           "caxis": {
            "gridcolor": "white",
            "linecolor": "white",
            "ticks": ""
           }
          },
          "title": {
           "x": 0.05
          },
          "xaxis": {
           "automargin": true,
           "gridcolor": "white",
           "linecolor": "white",
           "ticks": "",
           "title": {
            "standoff": 15
           },
           "zerolinecolor": "white",
           "zerolinewidth": 2
          },
          "yaxis": {
           "automargin": true,
           "gridcolor": "white",
           "linecolor": "white",
           "ticks": "",
           "title": {
            "standoff": 15
           },
           "zerolinecolor": "white",
           "zerolinewidth": 2
          }
         }
        }
       }
      },
      "text/html": [
       "<div>                            <div id=\"3eb35e49-c227-4327-833b-941074371aba\" class=\"plotly-graph-div\" style=\"height:525px; width:100%;\"></div>            <script type=\"text/javascript\">                require([\"plotly\"], function(Plotly) {                    window.PLOTLYENV=window.PLOTLYENV || {};                                    if (document.getElementById(\"3eb35e49-c227-4327-833b-941074371aba\")) {                    Plotly.newPlot(                        \"3eb35e49-c227-4327-833b-941074371aba\",                        [{\"customdata\":[[1.0,0.0,174.99],[1.0,0.0,124.99],[1.0,0.0,169.98],[1.0,0.0,184.97],[1.0,0.0,169.98],[1.0,0.0,174.37],[1.0,0.0,174.99],[1.0,0.0,134.99],[1.0,0.0,126.12],[1.0,0.0,94.99],[1.0,0.0,124.99],[1.0,0.0,174.99],[1.0,0.0,148.25],[1.0,0.0,124.99],[1.0,0.0,159.98],[2.0,0.5,154.37],[1.0,0.0,169.98],[1.0,0.0,124.99],[1.0,0.0,174.99],[1.0,0.0,174.99],[1.0,0.0,124.99],[2.0,0.0,164.97],[1.0,0.0,199.99],[1.0,0.0,99.0],[1.0,0.0,169.98],[1.0,0.0,174.99],[1.0,0.0,124.99],[1.0,0.0,174.99],[1.0,0.0,174.99],[1.0,0.0,144.99],[1.0,0.0,174.99],[1.0,0.0,174.99],[1.0,0.0,174.99],[1.0,0.0,174.99],[1.0,0.0,124.99],[1.0,0.0,174.99],[1.0,0.0,169.98],[1.0,0.0,159.99],[1.0,0.0,174.99],[1.0,0.0,156.11],[1.0,0.0,174.99],[1.0,0.0,144.99],[1.0,0.0,174.99],[1.0,0.0,144.99],[1.0,0.0,174.99],[1.0,0.0,159.99],[1.0,0.0,126.12],[1.0,0.0,174.99],[2.0,0.0,154.97],[1.0,0.0,124.99],[1.0,0.0,174.99],[1.0,0.0,174.99],[1.0,0.0,174.99],[1.0,0.0,169.98],[1.0,0.0,174.99],[1.0,0.0,174.99],[1.0,0.0,134.99],[1.0,0.0,174.99],[1.0,0.0,174.99],[1.0,0.0,108.87],[1.0,0.0,174.99],[1.0,0.0,174.99],[1.0,0.0,174.99],[1.0,0.0,174.99],[1.0,0.0,124.99],[1.0,0.0,124.38],[1.0,0.0,174.99],[1.0,0.0,176.11],[1.0,0.0,159.99],[1.0,0.0,174.99],[1.0,0.0,174.99],[1.0,0.0,124.99],[1.0,0.0,174.99],[1.0,0.0,124.99],[1.0,0.0,124.99],[1.0,0.0,149.99],[1.0,0.0,184.97],[1.0,0.0,126.12],[1.0,0.0,159.98],[1.0,0.0,174.99],[1.0,0.0,174.99],[1.0,0.0,174.37],[2.0,0.0,189.97],[1.0,0.0,159.99],[1.0,0.0,159.99],[1.0,0.0,124.99],[1.0,0.0,134.99],[1.0,0.0,174.99],[1.0,0.0,159.98],[1.0,0.0,159.99],[1.0,0.0,124.99],[1.0,0.0,174.99],[2.0,0.0,158.97],[1.0,0.0,149.99],[1.0,0.0,159.99],[1.0,0.0,174.99],[1.0,0.0,134.99],[1.0,0.0,134.99],[1.0,0.0,124.99],[1.0,0.0,159.99],[1.0,0.0,174.99],[1.0,0.0,174.99],[1.0,0.0,119.99],[1.0,0.0,134.99],[1.0,0.0,124.99],[1.0,0.0,176.11],[1.0,0.0,174.99],[1.0,0.0,129.99],[1.0,0.0,184.97],[1.0,0.0,149.99],[1.0,0.0,174.99],[1.0,0.0,184.97],[2.0,0.5,174.99],[1.0,0.0,199.99],[1.0,0.0,174.99],[1.0,0.0,174.99],[1.0,0.0,169.98],[1.0,0.0,174.99],[1.0,0.0,174.99],[1.0,0.0,149.99],[1.0,0.0,124.99],[1.0,0.0,124.99],[2.0,0.0,158.97],[1.0,0.0,176.11],[1.0,0.0,134.99],[1.0,0.0,134.99],[1.0,0.0,154.37],[1.0,0.0,124.99],[1.0,0.0,169.98],[1.0,0.0,179.98],[1.0,0.0,174.99],[1.0,0.0,174.99],[1.0,0.0,169.98],[1.0,0.0,159.99],[1.0,0.0,124.99],[1.0,0.0,174.99],[1.0,0.0,124.99],[1.0,0.0,159.99]],\"hovertemplate\":\"cluster_name=0<br>is_center=0<br>log_products_ordered=%{x}<br>log_average_return_rate=%{y}<br>log_total_spending=%{z}<br>products_ordered=%{customdata[0]}<br>average_return_rate=%{customdata[1]}<br>total_spending=%{customdata[2]}<extra></extra>\",\"legendgroup\":\"0, 0\",\"marker\":{\"color\":\"#636efa\",\"symbol\":\"circle\"},\"mode\":\"markers\",\"name\":\"0, 0\",\"scene\":\"scene\",\"showlegend\":true,\"x\":[0.6931471805599453,0.6931471805599453,0.6931471805599453,0.6931471805599453,0.6931471805599453,0.6931471805599453,0.6931471805599453,0.6931471805599453,0.6931471805599453,0.6931471805599453,0.6931471805599453,0.6931471805599453,0.6931471805599453,0.6931471805599453,0.6931471805599453,1.0986122886681098,0.6931471805599453,0.6931471805599453,0.6931471805599453,0.6931471805599453,0.6931471805599453,1.0986122886681098,0.6931471805599453,0.6931471805599453,0.6931471805599453,0.6931471805599453,0.6931471805599453,0.6931471805599453,0.6931471805599453,0.6931471805599453,0.6931471805599453,0.6931471805599453,0.6931471805599453,0.6931471805599453,0.6931471805599453,0.6931471805599453,0.6931471805599453,0.6931471805599453,0.6931471805599453,0.6931471805599453,0.6931471805599453,0.6931471805599453,0.6931471805599453,0.6931471805599453,0.6931471805599453,0.6931471805599453,0.6931471805599453,0.6931471805599453,1.0986122886681098,0.6931471805599453,0.6931471805599453,0.6931471805599453,0.6931471805599453,0.6931471805599453,0.6931471805599453,0.6931471805599453,0.6931471805599453,0.6931471805599453,0.6931471805599453,0.6931471805599453,0.6931471805599453,0.6931471805599453,0.6931471805599453,0.6931471805599453,0.6931471805599453,0.6931471805599453,0.6931471805599453,0.6931471805599453,0.6931471805599453,0.6931471805599453,0.6931471805599453,0.6931471805599453,0.6931471805599453,0.6931471805599453,0.6931471805599453,0.6931471805599453,0.6931471805599453,0.6931471805599453,0.6931471805599453,0.6931471805599453,0.6931471805599453,0.6931471805599453,1.0986122886681098,0.6931471805599453,0.6931471805599453,0.6931471805599453,0.6931471805599453,0.6931471805599453,0.6931471805599453,0.6931471805599453,0.6931471805599453,0.6931471805599453,1.0986122886681098,0.6931471805599453,0.6931471805599453,0.6931471805599453,0.6931471805599453,0.6931471805599453,0.6931471805599453,0.6931471805599453,0.6931471805599453,0.6931471805599453,0.6931471805599453,0.6931471805599453,0.6931471805599453,0.6931471805599453,0.6931471805599453,0.6931471805599453,0.6931471805599453,0.6931471805599453,0.6931471805599453,0.6931471805599453,1.0986122886681098,0.6931471805599453,0.6931471805599453,0.6931471805599453,0.6931471805599453,0.6931471805599453,0.6931471805599453,0.6931471805599453,0.6931471805599453,0.6931471805599453,1.0986122886681098,0.6931471805599453,0.6931471805599453,0.6931471805599453,0.6931471805599453,0.6931471805599453,0.6931471805599453,0.6931471805599453,0.6931471805599453,0.6931471805599453,0.6931471805599453,0.6931471805599453,0.6931471805599453,0.6931471805599453,0.6931471805599453,0.6931471805599453],\"y\":[0.0,0.0,0.0,0.0,0.0,0.0,0.0,0.0,0.0,0.0,0.0,0.0,0.0,0.0,0.0,0.4054651081081644,0.0,0.0,0.0,0.0,0.0,0.0,0.0,0.0,0.0,0.0,0.0,0.0,0.0,0.0,0.0,0.0,0.0,0.0,0.0,0.0,0.0,0.0,0.0,0.0,0.0,0.0,0.0,0.0,0.0,0.0,0.0,0.0,0.0,0.0,0.0,0.0,0.0,0.0,0.0,0.0,0.0,0.0,0.0,0.0,0.0,0.0,0.0,0.0,0.0,0.0,0.0,0.0,0.0,0.0,0.0,0.0,0.0,0.0,0.0,0.0,0.0,0.0,0.0,0.0,0.0,0.0,0.0,0.0,0.0,0.0,0.0,0.0,0.0,0.0,0.0,0.0,0.0,0.0,0.0,0.0,0.0,0.0,0.0,0.0,0.0,0.0,0.0,0.0,0.0,0.0,0.0,0.0,0.0,0.0,0.0,0.0,0.4054651081081644,0.0,0.0,0.0,0.0,0.0,0.0,0.0,0.0,0.0,0.0,0.0,0.0,0.0,0.0,0.0,0.0,0.0,0.0,0.0,0.0,0.0,0.0,0.0,0.0,0.0],\"z\":[5.17042717524212,4.836202538722539,5.141546590598088,5.225585370381938,5.141546590598088,5.166898027681201,5.17042717524212,4.912581353620868,4.845131522228461,4.564244019375446,4.836202538722539,5.17042717524212,5.0056227522727115,4.836202538722539,5.0812801336655875,5.045809369103909,5.141546590598088,4.836202538722539,5.17042717524212,5.17042717524212,4.836202538722539,5.1118070491326275,5.30325515557766,4.605170185988092,5.141546590598088,5.17042717524212,4.836202538722539,5.17042717524212,5.17042717524212,4.983538126211888,5.17042717524212,5.17042717524212,5.17042717524212,5.17042717524212,4.836202538722539,5.17042717524212,5.141546590598088,5.081342251254203,5.17042717524212,5.056946196959506,5.17042717524212,4.983538126211888,5.17042717524212,4.983538126211888,5.17042717524212,5.081342251254203,4.845131522228461,5.17042717524212,5.049663681063734,4.836202538722539,5.17042717524212,5.17042717524212,5.17042717524212,5.141546590598088,5.17042717524212,5.17042717524212,4.912581353620868,5.17042717524212,5.17042717524212,4.699297848712789,5.17042717524212,5.17042717524212,5.17042717524212,5.17042717524212,4.836202538722539,4.831349125845822,5.17042717524212,5.176771008468541,5.081342251254203,5.17042717524212,5.17042717524212,4.836202538722539,5.17042717524212,4.836202538722539,4.836202538722539,5.017213609456379,5.225585370381938,4.845131522228461,5.0812801336655875,5.17042717524212,5.17042717524212,5.166898027681201,5.2521163476473225,5.081342251254203,5.081342251254203,4.836202538722539,4.912581353620868,5.17042717524212,5.0812801336655875,5.081342251254203,4.836202538722539,5.17042717524212,5.0749862976535045,5.017213609456379,5.081342251254203,5.17042717524212,4.912581353620868,4.912581353620868,4.836202538722539,5.081342251254203,5.17042717524212,5.17042717524212,4.7957078975533864,4.912581353620868,4.836202538722539,5.176771008468541,5.17042717524212,4.875120984409557,5.225585370381938,5.017213609456379,5.17042717524212,5.225585370381938,5.17042717524212,5.30325515557766,5.17042717524212,5.17042717524212,5.141546590598088,5.17042717524212,5.17042717524212,5.017213609456379,4.836202538722539,4.836202538722539,5.0749862976535045,5.176771008468541,4.912581353620868,4.912581353620868,5.045809369103909,4.836202538722539,5.141546590598088,5.198386527922987,5.17042717524212,5.17042717524212,5.141546590598088,5.081342251254203,4.836202538722539,5.17042717524212,4.836202538722539,5.081342251254203],\"type\":\"scatter3d\"},{\"customdata\":[[1.0415600607592244,0.005893605269045068,156.1893926623249]],\"hovertemplate\":\"cluster_name=0<br>is_center=1<br>log_products_ordered=%{x}<br>log_average_return_rate=%{y}<br>log_total_spending=%{z}<br>products_ordered=%{customdata[0]}<br>average_return_rate=%{customdata[1]}<br>total_spending=%{customdata[2]}<extra></extra>\",\"legendgroup\":\"0, 1\",\"marker\":{\"color\":\"#636efa\",\"symbol\":\"diamond\"},\"mode\":\"markers\",\"name\":\"0, 1\",\"scene\":\"scene\",\"showlegend\":true,\"x\":[0.7137142512610841],\"y\":[0.005876305914611024],\"z\":[5.057451401015683],\"type\":\"scatter3d\"},{\"customdata\":[[1.0,1.0,0.0],[1.0,1.0,0.0],[1.0,1.0,0.0],[1.0,1.0,0.0],[1.0,1.0,0.0],[1.0,1.0,0.0],[1.0,1.0,0.0],[1.0,1.0,0.0]],\"hovertemplate\":\"cluster_name=1<br>is_center=0<br>log_products_ordered=%{x}<br>log_average_return_rate=%{y}<br>log_total_spending=%{z}<br>products_ordered=%{customdata[0]}<br>average_return_rate=%{customdata[1]}<br>total_spending=%{customdata[2]}<extra></extra>\",\"legendgroup\":\"1, 0\",\"marker\":{\"color\":\"#EF553B\",\"symbol\":\"circle\"},\"mode\":\"markers\",\"name\":\"1, 0\",\"scene\":\"scene\",\"showlegend\":true,\"x\":[0.6931471805599453,0.6931471805599453,0.6931471805599453,0.6931471805599453,0.6931471805599453,0.6931471805599453,0.6931471805599453,0.6931471805599453],\"y\":[0.6931471805599453,0.6931471805599453,0.6931471805599453,0.6931471805599453,0.6931471805599453,0.6931471805599453,0.6931471805599453,0.6931471805599453],\"z\":[0.0,0.0,0.0,0.0,0.0,0.0,0.0,0.0],\"type\":\"scatter3d\"},{\"customdata\":[[1.0,1.0,0.0]],\"hovertemplate\":\"cluster_name=1<br>is_center=1<br>log_products_ordered=%{x}<br>log_average_return_rate=%{y}<br>log_total_spending=%{z}<br>products_ordered=%{customdata[0]}<br>average_return_rate=%{customdata[1]}<br>total_spending=%{customdata[2]}<extra></extra>\",\"legendgroup\":\"1, 1\",\"marker\":{\"color\":\"#EF553B\",\"symbol\":\"diamond\"},\"mode\":\"markers\",\"name\":\"1, 1\",\"scene\":\"scene\",\"showlegend\":true,\"x\":[0.6931471805599453],\"y\":[0.6931471805599453],\"z\":[0.0],\"type\":\"scatter3d\"},{\"customdata\":[[1.0,0.0,259.99],[2.0,0.0,519.98],[1.0,0.0,259.99],[1.0,0.0,249.99],[1.0,0.0,259.99],[1.0,0.0,249.99],[1.0,0.0,249.99],[1.0,0.0,259.99],[2.0,0.5,249.99],[1.0,0.0,259.99],[1.0,0.0,259.99],[1.0,0.0,249.99],[1.0,0.0,249.99],[1.0,0.0,259.99],[1.0,0.0,259.99],[2.0,0.0,534.97],[1.0,0.0,259.99],[1.0,0.0,249.99],[1.0,0.0,249.99],[1.0,0.0,224.99],[2.0,0.0,264.97],[1.0,0.0,249.99],[1.0,0.0,259.99],[1.0,0.0,259.99],[2.0,0.0,509.98],[1.0,0.0,224.99],[1.0,0.0,249.99],[2.0,0.0,519.98],[1.0,0.0,249.99],[1.0,0.0,259.99],[3.0,0.0,684.97],[1.0,0.0,249.99],[1.0,0.0,224.99],[1.0,0.0,259.99],[2.0,0.0,434.98],[1.0,0.0,259.99],[1.0,0.0,249.99],[1.0,0.0,274.98],[1.0,0.0,259.99],[2.0,0.0,519.98],[2.0,0.0,999.96],[1.0,0.0,259.99],[1.0,0.5,249.99],[1.0,0.0,249.99],[1.0,0.0,259.99],[2.0,0.0,208.97],[1.0,0.0,249.99],[1.0,0.0,249.99],[1.0,0.0,259.99],[1.0,0.0,249.99],[1.0,0.0,259.99],[1.0,0.0,259.99],[1.0,0.0,259.99],[1.0,0.0,249.99],[1.0,0.0,249.99],[1.0,0.0,259.99],[1.0,0.0,274.98],[1.0,0.0,249.99],[1.0,0.0,259.99],[2.0,0.0,208.97],[1.0,0.0,274.98],[1.0,0.0,259.99],[1.0,0.0,259.99],[1.0,0.0,259.99],[1.0,0.0,259.99],[1.0,0.0,274.98],[1.0,0.0,259.99],[1.0,0.0,249.99],[2.0,0.0,529.98],[1.0,0.0,259.99],[1.0,0.0,249.99],[1.0,0.0,224.99],[2.0,0.0,208.97],[1.0,0.0,249.99],[1.0,0.0,259.99],[2.0,0.0,694.97],[1.0,0.0,259.99],[1.0,0.0,249.99],[1.0,0.0,224.99],[1.0,0.0,259.99],[1.0,0.0,249.99],[1.0,0.0,249.99],[1.0,0.0,249.99],[1.0,0.0,249.99],[1.0,0.0,259.99],[2.0,0.5,249.99],[1.0,0.0,249.99]],\"hovertemplate\":\"cluster_name=2<br>is_center=0<br>log_products_ordered=%{x}<br>log_average_return_rate=%{y}<br>log_total_spending=%{z}<br>products_ordered=%{customdata[0]}<br>average_return_rate=%{customdata[1]}<br>total_spending=%{customdata[2]}<extra></extra>\",\"legendgroup\":\"2, 0\",\"marker\":{\"color\":\"#00cc96\",\"symbol\":\"circle\"},\"mode\":\"markers\",\"name\":\"2, 0\",\"scene\":\"scene\",\"showlegend\":true,\"x\":[0.6931471805599453,1.0986122886681098,0.6931471805599453,0.6931471805599453,0.6931471805599453,0.6931471805599453,0.6931471805599453,0.6931471805599453,1.0986122886681098,0.6931471805599453,0.6931471805599453,0.6931471805599453,0.6931471805599453,0.6931471805599453,0.6931471805599453,1.0986122886681098,0.6931471805599453,0.6931471805599453,0.6931471805599453,0.6931471805599453,1.0986122886681098,0.6931471805599453,0.6931471805599453,0.6931471805599453,1.0986122886681098,0.6931471805599453,0.6931471805599453,1.0986122886681098,0.6931471805599453,0.6931471805599453,1.3862943611198906,0.6931471805599453,0.6931471805599453,0.6931471805599453,1.0986122886681098,0.6931471805599453,0.6931471805599453,0.6931471805599453,0.6931471805599453,1.0986122886681098,1.0986122886681098,0.6931471805599453,0.6931471805599453,0.6931471805599453,0.6931471805599453,1.0986122886681098,0.6931471805599453,0.6931471805599453,0.6931471805599453,0.6931471805599453,0.6931471805599453,0.6931471805599453,0.6931471805599453,0.6931471805599453,0.6931471805599453,0.6931471805599453,0.6931471805599453,0.6931471805599453,0.6931471805599453,1.0986122886681098,0.6931471805599453,0.6931471805599453,0.6931471805599453,0.6931471805599453,0.6931471805599453,0.6931471805599453,0.6931471805599453,0.6931471805599453,1.0986122886681098,0.6931471805599453,0.6931471805599453,0.6931471805599453,1.0986122886681098,0.6931471805599453,0.6931471805599453,1.0986122886681098,0.6931471805599453,0.6931471805599453,0.6931471805599453,0.6931471805599453,0.6931471805599453,0.6931471805599453,0.6931471805599453,0.6931471805599453,0.6931471805599453,1.0986122886681098,0.6931471805599453],\"y\":[0.0,0.0,0.0,0.0,0.0,0.0,0.0,0.0,0.4054651081081644,0.0,0.0,0.0,0.0,0.0,0.0,0.0,0.0,0.0,0.0,0.0,0.0,0.0,0.0,0.0,0.0,0.0,0.0,0.0,0.0,0.0,0.0,0.0,0.0,0.0,0.0,0.0,0.0,0.0,0.0,0.0,0.0,0.0,0.4054651081081644,0.0,0.0,0.0,0.0,0.0,0.0,0.0,0.0,0.0,0.0,0.0,0.0,0.0,0.0,0.0,0.0,0.0,0.0,0.0,0.0,0.0,0.0,0.0,0.0,0.0,0.0,0.0,0.0,0.0,0.0,0.0,0.0,0.0,0.0,0.0,0.0,0.0,0.0,0.0,0.0,0.0,0.0,0.4054651081081644,0.0],\"z\":[5.564482092412441,6.255711653300609,5.564482092412441,5.525413097700675,5.564482092412441,5.525413097700675,5.525413097700675,5.564482092412441,5.525413097700675,5.564482092412441,5.564482092412441,5.525413097700675,5.525413097700675,5.564482092412441,5.564482092412441,6.284078189355161,5.564482092412441,5.525413097700675,5.525413097700675,5.420490750505713,5.583383520466449,5.525413097700675,5.564482092412441,5.564482092412441,6.236330450494507,5.420490750505713,5.525413097700675,6.255711653300609,5.525413097700675,5.564482092412441,6.530833894991198,5.525413097700675,5.420490750505713,5.564482092412441,6.077596370737269,5.564482092412441,5.525413097700675,5.620328399323409,5.564482092412441,6.255711653300609,6.908714818476837,5.564482092412441,5.525413097700675,5.525413097700675,5.564482092412441,5.346964663369558,5.525413097700675,5.525413097700675,5.564482092412441,5.525413097700675,5.564482092412441,5.564482092412441,5.564482092412441,5.525413097700675,5.525413097700675,5.564482092412441,5.620328399323409,5.525413097700675,5.564482092412441,5.346964663369558,5.620328399323409,5.564482092412441,5.564482092412441,5.564482092412441,5.564482092412441,5.620328399323409,5.564482092412441,5.525413097700675,6.274724355749176,5.564482092412441,5.525413097700675,5.420490750505713,5.346964663369558,5.525413097700675,5.564482092412441,6.545306555957164,5.564482092412441,5.525413097700675,5.420490750505713,5.564482092412441,5.525413097700675,5.525413097700675,5.525413097700675,5.525413097700675,5.564482092412441,5.525413097700675,5.525413097700675],\"type\":\"scatter3d\"},{\"customdata\":[[1.1619750238012245,0.014079754523293228,277.4651364454212]],\"hovertemplate\":\"cluster_name=2<br>is_center=1<br>log_products_ordered=%{x}<br>log_average_return_rate=%{y}<br>log_total_spending=%{z}<br>products_ordered=%{customdata[0]}<br>average_return_rate=%{customdata[1]}<br>total_spending=%{customdata[2]}<extra></extra>\",\"legendgroup\":\"2, 1\",\"marker\":{\"color\":\"#00cc96\",\"symbol\":\"diamond\"},\"mode\":\"markers\",\"name\":\"2, 1\",\"scene\":\"scene\",\"showlegend\":true,\"x\":[0.771022166791927],\"y\":[0.013981555452005648],\"z\":[5.629292868211401],\"type\":\"scatter3d\"},{\"customdata\":[[1.0,0.0,33.98],[1.0,0.0,14.98],[1.0,0.0,14.98]],\"hovertemplate\":\"cluster_name=3<br>is_center=0<br>log_products_ordered=%{x}<br>log_average_return_rate=%{y}<br>log_total_spending=%{z}<br>products_ordered=%{customdata[0]}<br>average_return_rate=%{customdata[1]}<br>total_spending=%{customdata[2]}<extra></extra>\",\"legendgroup\":\"3, 0\",\"marker\":{\"color\":\"#ab63fa\",\"symbol\":\"circle\"},\"mode\":\"markers\",\"name\":\"3, 0\",\"scene\":\"scene\",\"showlegend\":true,\"x\":[0.6931471805599453,0.6931471805599453,0.6931471805599453],\"y\":[0.0,0.0,0.0],\"z\":[3.554776469590456,2.7713379403381286,2.7713379403381286],\"type\":\"scatter3d\"},{\"customdata\":[[1.0,6.938893903907228e-18,19.748710844184416]],\"hovertemplate\":\"cluster_name=3<br>is_center=1<br>log_products_ordered=%{x}<br>log_average_return_rate=%{y}<br>log_total_spending=%{z}<br>products_ordered=%{customdata[0]}<br>average_return_rate=%{customdata[1]}<br>total_spending=%{customdata[2]}<extra></extra>\",\"legendgroup\":\"3, 1\",\"marker\":{\"color\":\"#ab63fa\",\"symbol\":\"diamond\"},\"mode\":\"markers\",\"name\":\"3, 1\",\"scene\":\"scene\",\"showlegend\":true,\"x\":[0.6931471805599453],\"y\":[6.938893903907228e-18],\"z\":[3.032484116755571],\"type\":\"scatter3d\"}],                        {\"template\":{\"data\":{\"bar\":[{\"error_x\":{\"color\":\"#2a3f5f\"},\"error_y\":{\"color\":\"#2a3f5f\"},\"marker\":{\"line\":{\"color\":\"#E5ECF6\",\"width\":0.5},\"pattern\":{\"fillmode\":\"overlay\",\"size\":10,\"solidity\":0.2}},\"type\":\"bar\"}],\"barpolar\":[{\"marker\":{\"line\":{\"color\":\"#E5ECF6\",\"width\":0.5},\"pattern\":{\"fillmode\":\"overlay\",\"size\":10,\"solidity\":0.2}},\"type\":\"barpolar\"}],\"carpet\":[{\"aaxis\":{\"endlinecolor\":\"#2a3f5f\",\"gridcolor\":\"white\",\"linecolor\":\"white\",\"minorgridcolor\":\"white\",\"startlinecolor\":\"#2a3f5f\"},\"baxis\":{\"endlinecolor\":\"#2a3f5f\",\"gridcolor\":\"white\",\"linecolor\":\"white\",\"minorgridcolor\":\"white\",\"startlinecolor\":\"#2a3f5f\"},\"type\":\"carpet\"}],\"choropleth\":[{\"colorbar\":{\"outlinewidth\":0,\"ticks\":\"\"},\"type\":\"choropleth\"}],\"contour\":[{\"colorbar\":{\"outlinewidth\":0,\"ticks\":\"\"},\"colorscale\":[[0.0,\"#0d0887\"],[0.1111111111111111,\"#46039f\"],[0.2222222222222222,\"#7201a8\"],[0.3333333333333333,\"#9c179e\"],[0.4444444444444444,\"#bd3786\"],[0.5555555555555556,\"#d8576b\"],[0.6666666666666666,\"#ed7953\"],[0.7777777777777778,\"#fb9f3a\"],[0.8888888888888888,\"#fdca26\"],[1.0,\"#f0f921\"]],\"type\":\"contour\"}],\"contourcarpet\":[{\"colorbar\":{\"outlinewidth\":0,\"ticks\":\"\"},\"type\":\"contourcarpet\"}],\"heatmap\":[{\"colorbar\":{\"outlinewidth\":0,\"ticks\":\"\"},\"colorscale\":[[0.0,\"#0d0887\"],[0.1111111111111111,\"#46039f\"],[0.2222222222222222,\"#7201a8\"],[0.3333333333333333,\"#9c179e\"],[0.4444444444444444,\"#bd3786\"],[0.5555555555555556,\"#d8576b\"],[0.6666666666666666,\"#ed7953\"],[0.7777777777777778,\"#fb9f3a\"],[0.8888888888888888,\"#fdca26\"],[1.0,\"#f0f921\"]],\"type\":\"heatmap\"}],\"heatmapgl\":[{\"colorbar\":{\"outlinewidth\":0,\"ticks\":\"\"},\"colorscale\":[[0.0,\"#0d0887\"],[0.1111111111111111,\"#46039f\"],[0.2222222222222222,\"#7201a8\"],[0.3333333333333333,\"#9c179e\"],[0.4444444444444444,\"#bd3786\"],[0.5555555555555556,\"#d8576b\"],[0.6666666666666666,\"#ed7953\"],[0.7777777777777778,\"#fb9f3a\"],[0.8888888888888888,\"#fdca26\"],[1.0,\"#f0f921\"]],\"type\":\"heatmapgl\"}],\"histogram\":[{\"marker\":{\"pattern\":{\"fillmode\":\"overlay\",\"size\":10,\"solidity\":0.2}},\"type\":\"histogram\"}],\"histogram2d\":[{\"colorbar\":{\"outlinewidth\":0,\"ticks\":\"\"},\"colorscale\":[[0.0,\"#0d0887\"],[0.1111111111111111,\"#46039f\"],[0.2222222222222222,\"#7201a8\"],[0.3333333333333333,\"#9c179e\"],[0.4444444444444444,\"#bd3786\"],[0.5555555555555556,\"#d8576b\"],[0.6666666666666666,\"#ed7953\"],[0.7777777777777778,\"#fb9f3a\"],[0.8888888888888888,\"#fdca26\"],[1.0,\"#f0f921\"]],\"type\":\"histogram2d\"}],\"histogram2dcontour\":[{\"colorbar\":{\"outlinewidth\":0,\"ticks\":\"\"},\"colorscale\":[[0.0,\"#0d0887\"],[0.1111111111111111,\"#46039f\"],[0.2222222222222222,\"#7201a8\"],[0.3333333333333333,\"#9c179e\"],[0.4444444444444444,\"#bd3786\"],[0.5555555555555556,\"#d8576b\"],[0.6666666666666666,\"#ed7953\"],[0.7777777777777778,\"#fb9f3a\"],[0.8888888888888888,\"#fdca26\"],[1.0,\"#f0f921\"]],\"type\":\"histogram2dcontour\"}],\"mesh3d\":[{\"colorbar\":{\"outlinewidth\":0,\"ticks\":\"\"},\"type\":\"mesh3d\"}],\"parcoords\":[{\"line\":{\"colorbar\":{\"outlinewidth\":0,\"ticks\":\"\"}},\"type\":\"parcoords\"}],\"pie\":[{\"automargin\":true,\"type\":\"pie\"}],\"scatter\":[{\"marker\":{\"colorbar\":{\"outlinewidth\":0,\"ticks\":\"\"}},\"type\":\"scatter\"}],\"scatter3d\":[{\"line\":{\"colorbar\":{\"outlinewidth\":0,\"ticks\":\"\"}},\"marker\":{\"colorbar\":{\"outlinewidth\":0,\"ticks\":\"\"}},\"type\":\"scatter3d\"}],\"scattercarpet\":[{\"marker\":{\"colorbar\":{\"outlinewidth\":0,\"ticks\":\"\"}},\"type\":\"scattercarpet\"}],\"scattergeo\":[{\"marker\":{\"colorbar\":{\"outlinewidth\":0,\"ticks\":\"\"}},\"type\":\"scattergeo\"}],\"scattergl\":[{\"marker\":{\"colorbar\":{\"outlinewidth\":0,\"ticks\":\"\"}},\"type\":\"scattergl\"}],\"scattermapbox\":[{\"marker\":{\"colorbar\":{\"outlinewidth\":0,\"ticks\":\"\"}},\"type\":\"scattermapbox\"}],\"scatterpolar\":[{\"marker\":{\"colorbar\":{\"outlinewidth\":0,\"ticks\":\"\"}},\"type\":\"scatterpolar\"}],\"scatterpolargl\":[{\"marker\":{\"colorbar\":{\"outlinewidth\":0,\"ticks\":\"\"}},\"type\":\"scatterpolargl\"}],\"scatterternary\":[{\"marker\":{\"colorbar\":{\"outlinewidth\":0,\"ticks\":\"\"}},\"type\":\"scatterternary\"}],\"surface\":[{\"colorbar\":{\"outlinewidth\":0,\"ticks\":\"\"},\"colorscale\":[[0.0,\"#0d0887\"],[0.1111111111111111,\"#46039f\"],[0.2222222222222222,\"#7201a8\"],[0.3333333333333333,\"#9c179e\"],[0.4444444444444444,\"#bd3786\"],[0.5555555555555556,\"#d8576b\"],[0.6666666666666666,\"#ed7953\"],[0.7777777777777778,\"#fb9f3a\"],[0.8888888888888888,\"#fdca26\"],[1.0,\"#f0f921\"]],\"type\":\"surface\"}],\"table\":[{\"cells\":{\"fill\":{\"color\":\"#EBF0F8\"},\"line\":{\"color\":\"white\"}},\"header\":{\"fill\":{\"color\":\"#C8D4E3\"},\"line\":{\"color\":\"white\"}},\"type\":\"table\"}]},\"layout\":{\"annotationdefaults\":{\"arrowcolor\":\"#2a3f5f\",\"arrowhead\":0,\"arrowwidth\":1},\"autotypenumbers\":\"strict\",\"coloraxis\":{\"colorbar\":{\"outlinewidth\":0,\"ticks\":\"\"}},\"colorscale\":{\"diverging\":[[0,\"#8e0152\"],[0.1,\"#c51b7d\"],[0.2,\"#de77ae\"],[0.3,\"#f1b6da\"],[0.4,\"#fde0ef\"],[0.5,\"#f7f7f7\"],[0.6,\"#e6f5d0\"],[0.7,\"#b8e186\"],[0.8,\"#7fbc41\"],[0.9,\"#4d9221\"],[1,\"#276419\"]],\"sequential\":[[0.0,\"#0d0887\"],[0.1111111111111111,\"#46039f\"],[0.2222222222222222,\"#7201a8\"],[0.3333333333333333,\"#9c179e\"],[0.4444444444444444,\"#bd3786\"],[0.5555555555555556,\"#d8576b\"],[0.6666666666666666,\"#ed7953\"],[0.7777777777777778,\"#fb9f3a\"],[0.8888888888888888,\"#fdca26\"],[1.0,\"#f0f921\"]],\"sequentialminus\":[[0.0,\"#0d0887\"],[0.1111111111111111,\"#46039f\"],[0.2222222222222222,\"#7201a8\"],[0.3333333333333333,\"#9c179e\"],[0.4444444444444444,\"#bd3786\"],[0.5555555555555556,\"#d8576b\"],[0.6666666666666666,\"#ed7953\"],[0.7777777777777778,\"#fb9f3a\"],[0.8888888888888888,\"#fdca26\"],[1.0,\"#f0f921\"]]},\"colorway\":[\"#636efa\",\"#EF553B\",\"#00cc96\",\"#ab63fa\",\"#FFA15A\",\"#19d3f3\",\"#FF6692\",\"#B6E880\",\"#FF97FF\",\"#FECB52\"],\"font\":{\"color\":\"#2a3f5f\"},\"geo\":{\"bgcolor\":\"white\",\"lakecolor\":\"white\",\"landcolor\":\"#E5ECF6\",\"showlakes\":true,\"showland\":true,\"subunitcolor\":\"white\"},\"hoverlabel\":{\"align\":\"left\"},\"hovermode\":\"closest\",\"mapbox\":{\"style\":\"light\"},\"paper_bgcolor\":\"white\",\"plot_bgcolor\":\"#E5ECF6\",\"polar\":{\"angularaxis\":{\"gridcolor\":\"white\",\"linecolor\":\"white\",\"ticks\":\"\"},\"bgcolor\":\"#E5ECF6\",\"radialaxis\":{\"gridcolor\":\"white\",\"linecolor\":\"white\",\"ticks\":\"\"}},\"scene\":{\"xaxis\":{\"backgroundcolor\":\"#E5ECF6\",\"gridcolor\":\"white\",\"gridwidth\":2,\"linecolor\":\"white\",\"showbackground\":true,\"ticks\":\"\",\"zerolinecolor\":\"white\"},\"yaxis\":{\"backgroundcolor\":\"#E5ECF6\",\"gridcolor\":\"white\",\"gridwidth\":2,\"linecolor\":\"white\",\"showbackground\":true,\"ticks\":\"\",\"zerolinecolor\":\"white\"},\"zaxis\":{\"backgroundcolor\":\"#E5ECF6\",\"gridcolor\":\"white\",\"gridwidth\":2,\"linecolor\":\"white\",\"showbackground\":true,\"ticks\":\"\",\"zerolinecolor\":\"white\"}},\"shapedefaults\":{\"line\":{\"color\":\"#2a3f5f\"}},\"ternary\":{\"aaxis\":{\"gridcolor\":\"white\",\"linecolor\":\"white\",\"ticks\":\"\"},\"baxis\":{\"gridcolor\":\"white\",\"linecolor\":\"white\",\"ticks\":\"\"},\"bgcolor\":\"#E5ECF6\",\"caxis\":{\"gridcolor\":\"white\",\"linecolor\":\"white\",\"ticks\":\"\"}},\"title\":{\"x\":0.05},\"xaxis\":{\"automargin\":true,\"gridcolor\":\"white\",\"linecolor\":\"white\",\"ticks\":\"\",\"title\":{\"standoff\":15},\"zerolinecolor\":\"white\",\"zerolinewidth\":2},\"yaxis\":{\"automargin\":true,\"gridcolor\":\"white\",\"linecolor\":\"white\",\"ticks\":\"\",\"title\":{\"standoff\":15},\"zerolinecolor\":\"white\",\"zerolinewidth\":2}}},\"scene\":{\"domain\":{\"x\":[0.0,1.0],\"y\":[0.0,1.0]},\"xaxis\":{\"title\":{\"text\":\"log_products_ordered\"}},\"yaxis\":{\"title\":{\"text\":\"log_average_return_rate\"}},\"zaxis\":{\"title\":{\"text\":\"log_total_spending\"}}},\"legend\":{\"title\":{\"text\":\"cluster_name, is_center\"},\"tracegroupgap\":0},\"margin\":{\"t\":0,\"l\":0,\"r\":0,\"b\":0}},                        {\"responsive\": true}                    ).then(function(){\n",
       "                            \n",
       "var gd = document.getElementById('3eb35e49-c227-4327-833b-941074371aba');\n",
       "var x = new MutationObserver(function (mutations, observer) {{\n",
       "        var display = window.getComputedStyle(gd).display;\n",
       "        if (!display || display === 'none') {{\n",
       "            console.log([gd, 'removed!']);\n",
       "            Plotly.purge(gd);\n",
       "            observer.disconnect();\n",
       "        }}\n",
       "}});\n",
       "\n",
       "// Listen for the removal of the full notebook cells\n",
       "var notebookContainer = gd.closest('#notebook-container');\n",
       "if (notebookContainer) {{\n",
       "    x.observe(notebookContainer, {childList: true});\n",
       "}}\n",
       "\n",
       "// Listen for the clearing of the current output cell\n",
       "var outputEl = gd.closest('.output');\n",
       "if (outputEl) {{\n",
       "    x.observe(outputEl, {childList: true});\n",
       "}}\n",
       "\n",
       "                        })                };                });            </script>        </div>"
      ]
     },
     "metadata": {},
     "output_type": "display_data"
    }
   ],
   "source": [
    "# visualize log_transformation customer segments with a 3D plot\n",
    "fig = px.scatter_3d(customers,\n",
    "                    x=\"log_products_ordered\",\n",
    "                    y=\"log_average_return_rate\",\n",
    "                    z=\"log_total_spending\",\n",
    "                    color='cluster_name',\n",
    "                    hover_data=[\"products_ordered\",\n",
    "                                \"average_return_rate\",\n",
    "                                \"total_spending\"],\n",
    "                    category_orders = {\"cluster_name\": \n",
    "                                       [\"0\", \"1\", \"2\", \"3\"]},\n",
    "                    symbol = \"is_center\"\n",
    "                    )\n",
    "\n",
    "fig.update_layout(margin=dict(l=0, r=0, b=0, t=0))\n",
    "fig.show()"
   ]
  },
  {
   "cell_type": "markdown",
   "id": "77d316db",
   "metadata": {},
   "source": [
    "Check for Cluster Magnitude"
   ]
  },
  {
   "cell_type": "code",
   "execution_count": 128,
   "id": "1b711abc",
   "metadata": {},
   "outputs": [],
   "source": [
    "# values for log_transformation\n",
    "cardinality_df = pd.DataFrame(\n",
    "    customers.cluster_name.value_counts().reset_index())\n",
    "\n",
    "cardinality_df.rename(columns={\"index\": \"Customer Groups\",\n",
    "                               \"cluster_name\": \"Customer Group Magnitude\"},\n",
    "                      inplace=True)"
   ]
  },
  {
   "cell_type": "code",
   "execution_count": 129,
   "id": "f93b08c0",
   "metadata": {},
   "outputs": [
    {
     "data": {
      "text/html": [
       "<div>\n",
       "<style scoped>\n",
       "    .dataframe tbody tr th:only-of-type {\n",
       "        vertical-align: middle;\n",
       "    }\n",
       "\n",
       "    .dataframe tbody tr th {\n",
       "        vertical-align: top;\n",
       "    }\n",
       "\n",
       "    .dataframe thead th {\n",
       "        text-align: right;\n",
       "    }\n",
       "</style>\n",
       "<table border=\"1\" class=\"dataframe\">\n",
       "  <thead>\n",
       "    <tr style=\"text-align: right;\">\n",
       "      <th></th>\n",
       "      <th>Customer Groups</th>\n",
       "      <th>Customer Group Magnitude</th>\n",
       "    </tr>\n",
       "  </thead>\n",
       "  <tbody>\n",
       "    <tr>\n",
       "      <th>0</th>\n",
       "      <td>0</td>\n",
       "      <td>139</td>\n",
       "    </tr>\n",
       "    <tr>\n",
       "      <th>1</th>\n",
       "      <td>2</td>\n",
       "      <td>88</td>\n",
       "    </tr>\n",
       "    <tr>\n",
       "      <th>2</th>\n",
       "      <td>1</td>\n",
       "      <td>9</td>\n",
       "    </tr>\n",
       "    <tr>\n",
       "      <th>3</th>\n",
       "      <td>3</td>\n",
       "      <td>4</td>\n",
       "    </tr>\n",
       "  </tbody>\n",
       "</table>\n",
       "</div>"
      ],
      "text/plain": [
       "  Customer Groups  Customer Group Magnitude\n",
       "0               0                       139\n",
       "1               2                        88\n",
       "2               1                         9\n",
       "3               3                         4"
      ]
     },
     "execution_count": 129,
     "metadata": {},
     "output_type": "execute_result"
    }
   ],
   "source": [
    "cardinality_df"
   ]
  },
  {
   "cell_type": "code",
   "execution_count": 130,
   "id": "aed0ee74",
   "metadata": {},
   "outputs": [
    {
     "data": {
      "application/vnd.plotly.v1+json": {
       "config": {
        "plotlyServerURL": "https://plot.ly"
       },
       "data": [
        {
         "alignmentgroup": "True",
         "hovertemplate": "Customer Groups=%{x}<br>Customer Group Magnitude=%{y}<extra></extra>",
         "legendgroup": "0",
         "marker": {
          "color": "#636efa",
          "pattern": {
           "shape": ""
          }
         },
         "name": "0",
         "offsetgroup": "0",
         "orientation": "v",
         "showlegend": true,
         "textposition": "auto",
         "type": "bar",
         "x": [
          "0"
         ],
         "xaxis": "x",
         "y": [
          139
         ],
         "yaxis": "y"
        },
        {
         "alignmentgroup": "True",
         "hovertemplate": "Customer Groups=%{x}<br>Customer Group Magnitude=%{y}<extra></extra>",
         "legendgroup": "1",
         "marker": {
          "color": "#EF553B",
          "pattern": {
           "shape": ""
          }
         },
         "name": "1",
         "offsetgroup": "1",
         "orientation": "v",
         "showlegend": true,
         "textposition": "auto",
         "type": "bar",
         "x": [
          "1"
         ],
         "xaxis": "x",
         "y": [
          9
         ],
         "yaxis": "y"
        },
        {
         "alignmentgroup": "True",
         "hovertemplate": "Customer Groups=%{x}<br>Customer Group Magnitude=%{y}<extra></extra>",
         "legendgroup": "2",
         "marker": {
          "color": "#00cc96",
          "pattern": {
           "shape": ""
          }
         },
         "name": "2",
         "offsetgroup": "2",
         "orientation": "v",
         "showlegend": true,
         "textposition": "auto",
         "type": "bar",
         "x": [
          "2"
         ],
         "xaxis": "x",
         "y": [
          88
         ],
         "yaxis": "y"
        },
        {
         "alignmentgroup": "True",
         "hovertemplate": "Customer Groups=%{x}<br>Customer Group Magnitude=%{y}<extra></extra>",
         "legendgroup": "3",
         "marker": {
          "color": "#ab63fa",
          "pattern": {
           "shape": ""
          }
         },
         "name": "3",
         "offsetgroup": "3",
         "orientation": "v",
         "showlegend": true,
         "textposition": "auto",
         "type": "bar",
         "x": [
          "3"
         ],
         "xaxis": "x",
         "y": [
          4
         ],
         "yaxis": "y"
        }
       ],
       "layout": {
        "barmode": "relative",
        "legend": {
         "title": {
          "text": "Customer Groups"
         },
         "tracegroupgap": 0
        },
        "margin": {
         "t": 60
        },
        "template": {
         "data": {
          "bar": [
           {
            "error_x": {
             "color": "#2a3f5f"
            },
            "error_y": {
             "color": "#2a3f5f"
            },
            "marker": {
             "line": {
              "color": "#E5ECF6",
              "width": 0.5
             },
             "pattern": {
              "fillmode": "overlay",
              "size": 10,
              "solidity": 0.2
             }
            },
            "type": "bar"
           }
          ],
          "barpolar": [
           {
            "marker": {
             "line": {
              "color": "#E5ECF6",
              "width": 0.5
             },
             "pattern": {
              "fillmode": "overlay",
              "size": 10,
              "solidity": 0.2
             }
            },
            "type": "barpolar"
           }
          ],
          "carpet": [
           {
            "aaxis": {
             "endlinecolor": "#2a3f5f",
             "gridcolor": "white",
             "linecolor": "white",
             "minorgridcolor": "white",
             "startlinecolor": "#2a3f5f"
            },
            "baxis": {
             "endlinecolor": "#2a3f5f",
             "gridcolor": "white",
             "linecolor": "white",
             "minorgridcolor": "white",
             "startlinecolor": "#2a3f5f"
            },
            "type": "carpet"
           }
          ],
          "choropleth": [
           {
            "colorbar": {
             "outlinewidth": 0,
             "ticks": ""
            },
            "type": "choropleth"
           }
          ],
          "contour": [
           {
            "colorbar": {
             "outlinewidth": 0,
             "ticks": ""
            },
            "colorscale": [
             [
              0,
              "#0d0887"
             ],
             [
              0.1111111111111111,
              "#46039f"
             ],
             [
              0.2222222222222222,
              "#7201a8"
             ],
             [
              0.3333333333333333,
              "#9c179e"
             ],
             [
              0.4444444444444444,
              "#bd3786"
             ],
             [
              0.5555555555555556,
              "#d8576b"
             ],
             [
              0.6666666666666666,
              "#ed7953"
             ],
             [
              0.7777777777777778,
              "#fb9f3a"
             ],
             [
              0.8888888888888888,
              "#fdca26"
             ],
             [
              1,
              "#f0f921"
             ]
            ],
            "type": "contour"
           }
          ],
          "contourcarpet": [
           {
            "colorbar": {
             "outlinewidth": 0,
             "ticks": ""
            },
            "type": "contourcarpet"
           }
          ],
          "heatmap": [
           {
            "colorbar": {
             "outlinewidth": 0,
             "ticks": ""
            },
            "colorscale": [
             [
              0,
              "#0d0887"
             ],
             [
              0.1111111111111111,
              "#46039f"
             ],
             [
              0.2222222222222222,
              "#7201a8"
             ],
             [
              0.3333333333333333,
              "#9c179e"
             ],
             [
              0.4444444444444444,
              "#bd3786"
             ],
             [
              0.5555555555555556,
              "#d8576b"
             ],
             [
              0.6666666666666666,
              "#ed7953"
             ],
             [
              0.7777777777777778,
              "#fb9f3a"
             ],
             [
              0.8888888888888888,
              "#fdca26"
             ],
             [
              1,
              "#f0f921"
             ]
            ],
            "type": "heatmap"
           }
          ],
          "heatmapgl": [
           {
            "colorbar": {
             "outlinewidth": 0,
             "ticks": ""
            },
            "colorscale": [
             [
              0,
              "#0d0887"
             ],
             [
              0.1111111111111111,
              "#46039f"
             ],
             [
              0.2222222222222222,
              "#7201a8"
             ],
             [
              0.3333333333333333,
              "#9c179e"
             ],
             [
              0.4444444444444444,
              "#bd3786"
             ],
             [
              0.5555555555555556,
              "#d8576b"
             ],
             [
              0.6666666666666666,
              "#ed7953"
             ],
             [
              0.7777777777777778,
              "#fb9f3a"
             ],
             [
              0.8888888888888888,
              "#fdca26"
             ],
             [
              1,
              "#f0f921"
             ]
            ],
            "type": "heatmapgl"
           }
          ],
          "histogram": [
           {
            "marker": {
             "pattern": {
              "fillmode": "overlay",
              "size": 10,
              "solidity": 0.2
             }
            },
            "type": "histogram"
           }
          ],
          "histogram2d": [
           {
            "colorbar": {
             "outlinewidth": 0,
             "ticks": ""
            },
            "colorscale": [
             [
              0,
              "#0d0887"
             ],
             [
              0.1111111111111111,
              "#46039f"
             ],
             [
              0.2222222222222222,
              "#7201a8"
             ],
             [
              0.3333333333333333,
              "#9c179e"
             ],
             [
              0.4444444444444444,
              "#bd3786"
             ],
             [
              0.5555555555555556,
              "#d8576b"
             ],
             [
              0.6666666666666666,
              "#ed7953"
             ],
             [
              0.7777777777777778,
              "#fb9f3a"
             ],
             [
              0.8888888888888888,
              "#fdca26"
             ],
             [
              1,
              "#f0f921"
             ]
            ],
            "type": "histogram2d"
           }
          ],
          "histogram2dcontour": [
           {
            "colorbar": {
             "outlinewidth": 0,
             "ticks": ""
            },
            "colorscale": [
             [
              0,
              "#0d0887"
             ],
             [
              0.1111111111111111,
              "#46039f"
             ],
             [
              0.2222222222222222,
              "#7201a8"
             ],
             [
              0.3333333333333333,
              "#9c179e"
             ],
             [
              0.4444444444444444,
              "#bd3786"
             ],
             [
              0.5555555555555556,
              "#d8576b"
             ],
             [
              0.6666666666666666,
              "#ed7953"
             ],
             [
              0.7777777777777778,
              "#fb9f3a"
             ],
             [
              0.8888888888888888,
              "#fdca26"
             ],
             [
              1,
              "#f0f921"
             ]
            ],
            "type": "histogram2dcontour"
           }
          ],
          "mesh3d": [
           {
            "colorbar": {
             "outlinewidth": 0,
             "ticks": ""
            },
            "type": "mesh3d"
           }
          ],
          "parcoords": [
           {
            "line": {
             "colorbar": {
              "outlinewidth": 0,
              "ticks": ""
             }
            },
            "type": "parcoords"
           }
          ],
          "pie": [
           {
            "automargin": true,
            "type": "pie"
           }
          ],
          "scatter": [
           {
            "marker": {
             "colorbar": {
              "outlinewidth": 0,
              "ticks": ""
             }
            },
            "type": "scatter"
           }
          ],
          "scatter3d": [
           {
            "line": {
             "colorbar": {
              "outlinewidth": 0,
              "ticks": ""
             }
            },
            "marker": {
             "colorbar": {
              "outlinewidth": 0,
              "ticks": ""
             }
            },
            "type": "scatter3d"
           }
          ],
          "scattercarpet": [
           {
            "marker": {
             "colorbar": {
              "outlinewidth": 0,
              "ticks": ""
             }
            },
            "type": "scattercarpet"
           }
          ],
          "scattergeo": [
           {
            "marker": {
             "colorbar": {
              "outlinewidth": 0,
              "ticks": ""
             }
            },
            "type": "scattergeo"
           }
          ],
          "scattergl": [
           {
            "marker": {
             "colorbar": {
              "outlinewidth": 0,
              "ticks": ""
             }
            },
            "type": "scattergl"
           }
          ],
          "scattermapbox": [
           {
            "marker": {
             "colorbar": {
              "outlinewidth": 0,
              "ticks": ""
             }
            },
            "type": "scattermapbox"
           }
          ],
          "scatterpolar": [
           {
            "marker": {
             "colorbar": {
              "outlinewidth": 0,
              "ticks": ""
             }
            },
            "type": "scatterpolar"
           }
          ],
          "scatterpolargl": [
           {
            "marker": {
             "colorbar": {
              "outlinewidth": 0,
              "ticks": ""
             }
            },
            "type": "scatterpolargl"
           }
          ],
          "scatterternary": [
           {
            "marker": {
             "colorbar": {
              "outlinewidth": 0,
              "ticks": ""
             }
            },
            "type": "scatterternary"
           }
          ],
          "surface": [
           {
            "colorbar": {
             "outlinewidth": 0,
             "ticks": ""
            },
            "colorscale": [
             [
              0,
              "#0d0887"
             ],
             [
              0.1111111111111111,
              "#46039f"
             ],
             [
              0.2222222222222222,
              "#7201a8"
             ],
             [
              0.3333333333333333,
              "#9c179e"
             ],
             [
              0.4444444444444444,
              "#bd3786"
             ],
             [
              0.5555555555555556,
              "#d8576b"
             ],
             [
              0.6666666666666666,
              "#ed7953"
             ],
             [
              0.7777777777777778,
              "#fb9f3a"
             ],
             [
              0.8888888888888888,
              "#fdca26"
             ],
             [
              1,
              "#f0f921"
             ]
            ],
            "type": "surface"
           }
          ],
          "table": [
           {
            "cells": {
             "fill": {
              "color": "#EBF0F8"
             },
             "line": {
              "color": "white"
             }
            },
            "header": {
             "fill": {
              "color": "#C8D4E3"
             },
             "line": {
              "color": "white"
             }
            },
            "type": "table"
           }
          ]
         },
         "layout": {
          "annotationdefaults": {
           "arrowcolor": "#2a3f5f",
           "arrowhead": 0,
           "arrowwidth": 1
          },
          "autotypenumbers": "strict",
          "coloraxis": {
           "colorbar": {
            "outlinewidth": 0,
            "ticks": ""
           }
          },
          "colorscale": {
           "diverging": [
            [
             0,
             "#8e0152"
            ],
            [
             0.1,
             "#c51b7d"
            ],
            [
             0.2,
             "#de77ae"
            ],
            [
             0.3,
             "#f1b6da"
            ],
            [
             0.4,
             "#fde0ef"
            ],
            [
             0.5,
             "#f7f7f7"
            ],
            [
             0.6,
             "#e6f5d0"
            ],
            [
             0.7,
             "#b8e186"
            ],
            [
             0.8,
             "#7fbc41"
            ],
            [
             0.9,
             "#4d9221"
            ],
            [
             1,
             "#276419"
            ]
           ],
           "sequential": [
            [
             0,
             "#0d0887"
            ],
            [
             0.1111111111111111,
             "#46039f"
            ],
            [
             0.2222222222222222,
             "#7201a8"
            ],
            [
             0.3333333333333333,
             "#9c179e"
            ],
            [
             0.4444444444444444,
             "#bd3786"
            ],
            [
             0.5555555555555556,
             "#d8576b"
            ],
            [
             0.6666666666666666,
             "#ed7953"
            ],
            [
             0.7777777777777778,
             "#fb9f3a"
            ],
            [
             0.8888888888888888,
             "#fdca26"
            ],
            [
             1,
             "#f0f921"
            ]
           ],
           "sequentialminus": [
            [
             0,
             "#0d0887"
            ],
            [
             0.1111111111111111,
             "#46039f"
            ],
            [
             0.2222222222222222,
             "#7201a8"
            ],
            [
             0.3333333333333333,
             "#9c179e"
            ],
            [
             0.4444444444444444,
             "#bd3786"
            ],
            [
             0.5555555555555556,
             "#d8576b"
            ],
            [
             0.6666666666666666,
             "#ed7953"
            ],
            [
             0.7777777777777778,
             "#fb9f3a"
            ],
            [
             0.8888888888888888,
             "#fdca26"
            ],
            [
             1,
             "#f0f921"
            ]
           ]
          },
          "colorway": [
           "#636efa",
           "#EF553B",
           "#00cc96",
           "#ab63fa",
           "#FFA15A",
           "#19d3f3",
           "#FF6692",
           "#B6E880",
           "#FF97FF",
           "#FECB52"
          ],
          "font": {
           "color": "#2a3f5f"
          },
          "geo": {
           "bgcolor": "white",
           "lakecolor": "white",
           "landcolor": "#E5ECF6",
           "showlakes": true,
           "showland": true,
           "subunitcolor": "white"
          },
          "hoverlabel": {
           "align": "left"
          },
          "hovermode": "closest",
          "mapbox": {
           "style": "light"
          },
          "paper_bgcolor": "white",
          "plot_bgcolor": "#E5ECF6",
          "polar": {
           "angularaxis": {
            "gridcolor": "white",
            "linecolor": "white",
            "ticks": ""
           },
           "bgcolor": "#E5ECF6",
           "radialaxis": {
            "gridcolor": "white",
            "linecolor": "white",
            "ticks": ""
           }
          },
          "scene": {
           "xaxis": {
            "backgroundcolor": "#E5ECF6",
            "gridcolor": "white",
            "gridwidth": 2,
            "linecolor": "white",
            "showbackground": true,
            "ticks": "",
            "zerolinecolor": "white"
           },
           "yaxis": {
            "backgroundcolor": "#E5ECF6",
            "gridcolor": "white",
            "gridwidth": 2,
            "linecolor": "white",
            "showbackground": true,
            "ticks": "",
            "zerolinecolor": "white"
           },
           "zaxis": {
            "backgroundcolor": "#E5ECF6",
            "gridcolor": "white",
            "gridwidth": 2,
            "linecolor": "white",
            "showbackground": true,
            "ticks": "",
            "zerolinecolor": "white"
           }
          },
          "shapedefaults": {
           "line": {
            "color": "#2a3f5f"
           }
          },
          "ternary": {
           "aaxis": {
            "gridcolor": "white",
            "linecolor": "white",
            "ticks": ""
           },
           "baxis": {
            "gridcolor": "white",
            "linecolor": "white",
            "ticks": ""
           },
           "bgcolor": "#E5ECF6",
           "caxis": {
            "gridcolor": "white",
            "linecolor": "white",
            "ticks": ""
           }
          },
          "title": {
           "x": 0.05
          },
          "xaxis": {
           "automargin": true,
           "gridcolor": "white",
           "linecolor": "white",
           "ticks": "",
           "title": {
            "standoff": 15
           },
           "zerolinecolor": "white",
           "zerolinewidth": 2
          },
          "yaxis": {
           "automargin": true,
           "gridcolor": "white",
           "linecolor": "white",
           "ticks": "",
           "title": {
            "standoff": 15
           },
           "zerolinecolor": "white",
           "zerolinewidth": 2
          }
         }
        },
        "xaxis": {
         "anchor": "y",
         "categoryarray": [
          "0",
          "1",
          "2",
          "3"
         ],
         "categoryorder": "array",
         "domain": [
          0,
          1
         ],
         "dtick": 1,
         "tick0": 1,
         "tickmode": "linear",
         "title": {
          "text": "Customer Groups"
         }
        },
        "yaxis": {
         "anchor": "x",
         "domain": [
          0,
          1
         ],
         "dtick": 1000,
         "tick0": 1000,
         "tickmode": "linear",
         "title": {
          "text": "Customer Group Magnitude"
         }
        }
       }
      },
      "text/html": [
       "<div>                            <div id=\"97895c78-3d11-49a9-a25e-6fbf2f9478dc\" class=\"plotly-graph-div\" style=\"height:525px; width:100%;\"></div>            <script type=\"text/javascript\">                require([\"plotly\"], function(Plotly) {                    window.PLOTLYENV=window.PLOTLYENV || {};                                    if (document.getElementById(\"97895c78-3d11-49a9-a25e-6fbf2f9478dc\")) {                    Plotly.newPlot(                        \"97895c78-3d11-49a9-a25e-6fbf2f9478dc\",                        [{\"alignmentgroup\":\"True\",\"hovertemplate\":\"Customer Groups=%{x}<br>Customer Group Magnitude=%{y}<extra></extra>\",\"legendgroup\":\"0\",\"marker\":{\"color\":\"#636efa\",\"pattern\":{\"shape\":\"\"}},\"name\":\"0\",\"offsetgroup\":\"0\",\"orientation\":\"v\",\"showlegend\":true,\"textposition\":\"auto\",\"x\":[\"0\"],\"xaxis\":\"x\",\"y\":[139],\"yaxis\":\"y\",\"type\":\"bar\"},{\"alignmentgroup\":\"True\",\"hovertemplate\":\"Customer Groups=%{x}<br>Customer Group Magnitude=%{y}<extra></extra>\",\"legendgroup\":\"1\",\"marker\":{\"color\":\"#EF553B\",\"pattern\":{\"shape\":\"\"}},\"name\":\"1\",\"offsetgroup\":\"1\",\"orientation\":\"v\",\"showlegend\":true,\"textposition\":\"auto\",\"x\":[\"1\"],\"xaxis\":\"x\",\"y\":[9],\"yaxis\":\"y\",\"type\":\"bar\"},{\"alignmentgroup\":\"True\",\"hovertemplate\":\"Customer Groups=%{x}<br>Customer Group Magnitude=%{y}<extra></extra>\",\"legendgroup\":\"2\",\"marker\":{\"color\":\"#00cc96\",\"pattern\":{\"shape\":\"\"}},\"name\":\"2\",\"offsetgroup\":\"2\",\"orientation\":\"v\",\"showlegend\":true,\"textposition\":\"auto\",\"x\":[\"2\"],\"xaxis\":\"x\",\"y\":[88],\"yaxis\":\"y\",\"type\":\"bar\"},{\"alignmentgroup\":\"True\",\"hovertemplate\":\"Customer Groups=%{x}<br>Customer Group Magnitude=%{y}<extra></extra>\",\"legendgroup\":\"3\",\"marker\":{\"color\":\"#ab63fa\",\"pattern\":{\"shape\":\"\"}},\"name\":\"3\",\"offsetgroup\":\"3\",\"orientation\":\"v\",\"showlegend\":true,\"textposition\":\"auto\",\"x\":[\"3\"],\"xaxis\":\"x\",\"y\":[4],\"yaxis\":\"y\",\"type\":\"bar\"}],                        {\"template\":{\"data\":{\"bar\":[{\"error_x\":{\"color\":\"#2a3f5f\"},\"error_y\":{\"color\":\"#2a3f5f\"},\"marker\":{\"line\":{\"color\":\"#E5ECF6\",\"width\":0.5},\"pattern\":{\"fillmode\":\"overlay\",\"size\":10,\"solidity\":0.2}},\"type\":\"bar\"}],\"barpolar\":[{\"marker\":{\"line\":{\"color\":\"#E5ECF6\",\"width\":0.5},\"pattern\":{\"fillmode\":\"overlay\",\"size\":10,\"solidity\":0.2}},\"type\":\"barpolar\"}],\"carpet\":[{\"aaxis\":{\"endlinecolor\":\"#2a3f5f\",\"gridcolor\":\"white\",\"linecolor\":\"white\",\"minorgridcolor\":\"white\",\"startlinecolor\":\"#2a3f5f\"},\"baxis\":{\"endlinecolor\":\"#2a3f5f\",\"gridcolor\":\"white\",\"linecolor\":\"white\",\"minorgridcolor\":\"white\",\"startlinecolor\":\"#2a3f5f\"},\"type\":\"carpet\"}],\"choropleth\":[{\"colorbar\":{\"outlinewidth\":0,\"ticks\":\"\"},\"type\":\"choropleth\"}],\"contour\":[{\"colorbar\":{\"outlinewidth\":0,\"ticks\":\"\"},\"colorscale\":[[0.0,\"#0d0887\"],[0.1111111111111111,\"#46039f\"],[0.2222222222222222,\"#7201a8\"],[0.3333333333333333,\"#9c179e\"],[0.4444444444444444,\"#bd3786\"],[0.5555555555555556,\"#d8576b\"],[0.6666666666666666,\"#ed7953\"],[0.7777777777777778,\"#fb9f3a\"],[0.8888888888888888,\"#fdca26\"],[1.0,\"#f0f921\"]],\"type\":\"contour\"}],\"contourcarpet\":[{\"colorbar\":{\"outlinewidth\":0,\"ticks\":\"\"},\"type\":\"contourcarpet\"}],\"heatmap\":[{\"colorbar\":{\"outlinewidth\":0,\"ticks\":\"\"},\"colorscale\":[[0.0,\"#0d0887\"],[0.1111111111111111,\"#46039f\"],[0.2222222222222222,\"#7201a8\"],[0.3333333333333333,\"#9c179e\"],[0.4444444444444444,\"#bd3786\"],[0.5555555555555556,\"#d8576b\"],[0.6666666666666666,\"#ed7953\"],[0.7777777777777778,\"#fb9f3a\"],[0.8888888888888888,\"#fdca26\"],[1.0,\"#f0f921\"]],\"type\":\"heatmap\"}],\"heatmapgl\":[{\"colorbar\":{\"outlinewidth\":0,\"ticks\":\"\"},\"colorscale\":[[0.0,\"#0d0887\"],[0.1111111111111111,\"#46039f\"],[0.2222222222222222,\"#7201a8\"],[0.3333333333333333,\"#9c179e\"],[0.4444444444444444,\"#bd3786\"],[0.5555555555555556,\"#d8576b\"],[0.6666666666666666,\"#ed7953\"],[0.7777777777777778,\"#fb9f3a\"],[0.8888888888888888,\"#fdca26\"],[1.0,\"#f0f921\"]],\"type\":\"heatmapgl\"}],\"histogram\":[{\"marker\":{\"pattern\":{\"fillmode\":\"overlay\",\"size\":10,\"solidity\":0.2}},\"type\":\"histogram\"}],\"histogram2d\":[{\"colorbar\":{\"outlinewidth\":0,\"ticks\":\"\"},\"colorscale\":[[0.0,\"#0d0887\"],[0.1111111111111111,\"#46039f\"],[0.2222222222222222,\"#7201a8\"],[0.3333333333333333,\"#9c179e\"],[0.4444444444444444,\"#bd3786\"],[0.5555555555555556,\"#d8576b\"],[0.6666666666666666,\"#ed7953\"],[0.7777777777777778,\"#fb9f3a\"],[0.8888888888888888,\"#fdca26\"],[1.0,\"#f0f921\"]],\"type\":\"histogram2d\"}],\"histogram2dcontour\":[{\"colorbar\":{\"outlinewidth\":0,\"ticks\":\"\"},\"colorscale\":[[0.0,\"#0d0887\"],[0.1111111111111111,\"#46039f\"],[0.2222222222222222,\"#7201a8\"],[0.3333333333333333,\"#9c179e\"],[0.4444444444444444,\"#bd3786\"],[0.5555555555555556,\"#d8576b\"],[0.6666666666666666,\"#ed7953\"],[0.7777777777777778,\"#fb9f3a\"],[0.8888888888888888,\"#fdca26\"],[1.0,\"#f0f921\"]],\"type\":\"histogram2dcontour\"}],\"mesh3d\":[{\"colorbar\":{\"outlinewidth\":0,\"ticks\":\"\"},\"type\":\"mesh3d\"}],\"parcoords\":[{\"line\":{\"colorbar\":{\"outlinewidth\":0,\"ticks\":\"\"}},\"type\":\"parcoords\"}],\"pie\":[{\"automargin\":true,\"type\":\"pie\"}],\"scatter\":[{\"marker\":{\"colorbar\":{\"outlinewidth\":0,\"ticks\":\"\"}},\"type\":\"scatter\"}],\"scatter3d\":[{\"line\":{\"colorbar\":{\"outlinewidth\":0,\"ticks\":\"\"}},\"marker\":{\"colorbar\":{\"outlinewidth\":0,\"ticks\":\"\"}},\"type\":\"scatter3d\"}],\"scattercarpet\":[{\"marker\":{\"colorbar\":{\"outlinewidth\":0,\"ticks\":\"\"}},\"type\":\"scattercarpet\"}],\"scattergeo\":[{\"marker\":{\"colorbar\":{\"outlinewidth\":0,\"ticks\":\"\"}},\"type\":\"scattergeo\"}],\"scattergl\":[{\"marker\":{\"colorbar\":{\"outlinewidth\":0,\"ticks\":\"\"}},\"type\":\"scattergl\"}],\"scattermapbox\":[{\"marker\":{\"colorbar\":{\"outlinewidth\":0,\"ticks\":\"\"}},\"type\":\"scattermapbox\"}],\"scatterpolar\":[{\"marker\":{\"colorbar\":{\"outlinewidth\":0,\"ticks\":\"\"}},\"type\":\"scatterpolar\"}],\"scatterpolargl\":[{\"marker\":{\"colorbar\":{\"outlinewidth\":0,\"ticks\":\"\"}},\"type\":\"scatterpolargl\"}],\"scatterternary\":[{\"marker\":{\"colorbar\":{\"outlinewidth\":0,\"ticks\":\"\"}},\"type\":\"scatterternary\"}],\"surface\":[{\"colorbar\":{\"outlinewidth\":0,\"ticks\":\"\"},\"colorscale\":[[0.0,\"#0d0887\"],[0.1111111111111111,\"#46039f\"],[0.2222222222222222,\"#7201a8\"],[0.3333333333333333,\"#9c179e\"],[0.4444444444444444,\"#bd3786\"],[0.5555555555555556,\"#d8576b\"],[0.6666666666666666,\"#ed7953\"],[0.7777777777777778,\"#fb9f3a\"],[0.8888888888888888,\"#fdca26\"],[1.0,\"#f0f921\"]],\"type\":\"surface\"}],\"table\":[{\"cells\":{\"fill\":{\"color\":\"#EBF0F8\"},\"line\":{\"color\":\"white\"}},\"header\":{\"fill\":{\"color\":\"#C8D4E3\"},\"line\":{\"color\":\"white\"}},\"type\":\"table\"}]},\"layout\":{\"annotationdefaults\":{\"arrowcolor\":\"#2a3f5f\",\"arrowhead\":0,\"arrowwidth\":1},\"autotypenumbers\":\"strict\",\"coloraxis\":{\"colorbar\":{\"outlinewidth\":0,\"ticks\":\"\"}},\"colorscale\":{\"diverging\":[[0,\"#8e0152\"],[0.1,\"#c51b7d\"],[0.2,\"#de77ae\"],[0.3,\"#f1b6da\"],[0.4,\"#fde0ef\"],[0.5,\"#f7f7f7\"],[0.6,\"#e6f5d0\"],[0.7,\"#b8e186\"],[0.8,\"#7fbc41\"],[0.9,\"#4d9221\"],[1,\"#276419\"]],\"sequential\":[[0.0,\"#0d0887\"],[0.1111111111111111,\"#46039f\"],[0.2222222222222222,\"#7201a8\"],[0.3333333333333333,\"#9c179e\"],[0.4444444444444444,\"#bd3786\"],[0.5555555555555556,\"#d8576b\"],[0.6666666666666666,\"#ed7953\"],[0.7777777777777778,\"#fb9f3a\"],[0.8888888888888888,\"#fdca26\"],[1.0,\"#f0f921\"]],\"sequentialminus\":[[0.0,\"#0d0887\"],[0.1111111111111111,\"#46039f\"],[0.2222222222222222,\"#7201a8\"],[0.3333333333333333,\"#9c179e\"],[0.4444444444444444,\"#bd3786\"],[0.5555555555555556,\"#d8576b\"],[0.6666666666666666,\"#ed7953\"],[0.7777777777777778,\"#fb9f3a\"],[0.8888888888888888,\"#fdca26\"],[1.0,\"#f0f921\"]]},\"colorway\":[\"#636efa\",\"#EF553B\",\"#00cc96\",\"#ab63fa\",\"#FFA15A\",\"#19d3f3\",\"#FF6692\",\"#B6E880\",\"#FF97FF\",\"#FECB52\"],\"font\":{\"color\":\"#2a3f5f\"},\"geo\":{\"bgcolor\":\"white\",\"lakecolor\":\"white\",\"landcolor\":\"#E5ECF6\",\"showlakes\":true,\"showland\":true,\"subunitcolor\":\"white\"},\"hoverlabel\":{\"align\":\"left\"},\"hovermode\":\"closest\",\"mapbox\":{\"style\":\"light\"},\"paper_bgcolor\":\"white\",\"plot_bgcolor\":\"#E5ECF6\",\"polar\":{\"angularaxis\":{\"gridcolor\":\"white\",\"linecolor\":\"white\",\"ticks\":\"\"},\"bgcolor\":\"#E5ECF6\",\"radialaxis\":{\"gridcolor\":\"white\",\"linecolor\":\"white\",\"ticks\":\"\"}},\"scene\":{\"xaxis\":{\"backgroundcolor\":\"#E5ECF6\",\"gridcolor\":\"white\",\"gridwidth\":2,\"linecolor\":\"white\",\"showbackground\":true,\"ticks\":\"\",\"zerolinecolor\":\"white\"},\"yaxis\":{\"backgroundcolor\":\"#E5ECF6\",\"gridcolor\":\"white\",\"gridwidth\":2,\"linecolor\":\"white\",\"showbackground\":true,\"ticks\":\"\",\"zerolinecolor\":\"white\"},\"zaxis\":{\"backgroundcolor\":\"#E5ECF6\",\"gridcolor\":\"white\",\"gridwidth\":2,\"linecolor\":\"white\",\"showbackground\":true,\"ticks\":\"\",\"zerolinecolor\":\"white\"}},\"shapedefaults\":{\"line\":{\"color\":\"#2a3f5f\"}},\"ternary\":{\"aaxis\":{\"gridcolor\":\"white\",\"linecolor\":\"white\",\"ticks\":\"\"},\"baxis\":{\"gridcolor\":\"white\",\"linecolor\":\"white\",\"ticks\":\"\"},\"bgcolor\":\"#E5ECF6\",\"caxis\":{\"gridcolor\":\"white\",\"linecolor\":\"white\",\"ticks\":\"\"}},\"title\":{\"x\":0.05},\"xaxis\":{\"automargin\":true,\"gridcolor\":\"white\",\"linecolor\":\"white\",\"ticks\":\"\",\"title\":{\"standoff\":15},\"zerolinecolor\":\"white\",\"zerolinewidth\":2},\"yaxis\":{\"automargin\":true,\"gridcolor\":\"white\",\"linecolor\":\"white\",\"ticks\":\"\",\"title\":{\"standoff\":15},\"zerolinecolor\":\"white\",\"zerolinewidth\":2}}},\"xaxis\":{\"anchor\":\"y\",\"domain\":[0.0,1.0],\"title\":{\"text\":\"Customer Groups\"},\"categoryorder\":\"array\",\"categoryarray\":[\"0\",\"1\",\"2\",\"3\"],\"tickmode\":\"linear\",\"tick0\":1,\"dtick\":1},\"yaxis\":{\"anchor\":\"x\",\"domain\":[0.0,1.0],\"title\":{\"text\":\"Customer Group Magnitude\"},\"tickmode\":\"linear\",\"tick0\":1000,\"dtick\":1000},\"legend\":{\"title\":{\"text\":\"Customer Groups\"},\"tracegroupgap\":0},\"margin\":{\"t\":60},\"barmode\":\"relative\"},                        {\"responsive\": true}                    ).then(function(){\n",
       "                            \n",
       "var gd = document.getElementById('97895c78-3d11-49a9-a25e-6fbf2f9478dc');\n",
       "var x = new MutationObserver(function (mutations, observer) {{\n",
       "        var display = window.getComputedStyle(gd).display;\n",
       "        if (!display || display === 'none') {{\n",
       "            console.log([gd, 'removed!']);\n",
       "            Plotly.purge(gd);\n",
       "            observer.disconnect();\n",
       "        }}\n",
       "}});\n",
       "\n",
       "// Listen for the removal of the full notebook cells\n",
       "var notebookContainer = gd.closest('#notebook-container');\n",
       "if (notebookContainer) {{\n",
       "    x.observe(notebookContainer, {childList: true});\n",
       "}}\n",
       "\n",
       "// Listen for the clearing of the current output cell\n",
       "var outputEl = gd.closest('.output');\n",
       "if (outputEl) {{\n",
       "    x.observe(outputEl, {childList: true});\n",
       "}}\n",
       "\n",
       "                        })                };                });            </script>        </div>"
      ]
     },
     "metadata": {},
     "output_type": "display_data"
    }
   ],
   "source": [
    "fig = px.bar(cardinality_df, x=\"Customer Groups\", \n",
    "             y=\"Customer Group Magnitude\",\n",
    "             color = \"Customer Groups\",\n",
    "             category_orders = {\"Customer Groups\": [\"0\", \"1\", \"2\", \"3\"]})\n",
    "\n",
    "fig.update_layout(xaxis = dict(\n",
    "        tickmode = 'linear',\n",
    "        tick0 = 1,\n",
    "        dtick = 1),\n",
    "                 yaxis = dict(\n",
    "        tickmode = 'linear',\n",
    "        tick0 = 1000,\n",
    "        dtick = 1000))\n",
    "\n",
    "fig.show()"
   ]
  },
  {
   "cell_type": "code",
   "execution_count": null,
   "id": "1df67df3",
   "metadata": {},
   "outputs": [],
   "source": []
  }
 ],
 "metadata": {
  "kernelspec": {
   "display_name": "Python 3",
   "language": "python",
   "name": "python3"
  },
  "language_info": {
   "codemirror_mode": {
    "name": "ipython",
    "version": 3
   },
   "file_extension": ".py",
   "mimetype": "text/x-python",
   "name": "python",
   "nbconvert_exporter": "python",
   "pygments_lexer": "ipython3",
   "version": "3.8.8"
  }
 },
 "nbformat": 4,
 "nbformat_minor": 5
}
