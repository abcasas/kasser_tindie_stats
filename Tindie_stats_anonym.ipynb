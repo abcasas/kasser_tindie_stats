{
 "cells": [
  {
   "cell_type": "markdown",
   "id": "d09ca065",
   "metadata": {},
   "source": [
    "# Anonymize the dataset"
   ]
  },
  {
   "cell_type": "markdown",
   "id": "74e4a6a7",
   "metadata": {},
   "source": [
    "The dataset contains sensitive information about customers. We will convert the customer's first and last name into a distinctive hash. We will also reorganize the variables to keep those that are most useful to us."
   ]
  },
  {
   "cell_type": "code",
   "execution_count": 63,
   "id": "5c32becc",
   "metadata": {},
   "outputs": [],
   "source": [
    "import pandas as pd\n",
    "\n",
    "orders = pd.read_csv('orders.csv')"
   ]
  },
  {
   "cell_type": "markdown",
   "id": "6e8d2012",
   "metadata": {},
   "source": [
    "First glance of orders data"
   ]
  },
  {
   "cell_type": "code",
   "execution_count": 64,
   "id": "9d944cda",
   "metadata": {},
   "outputs": [
    {
     "name": "stdout",
     "output_type": "stream",
     "text": [
      "<class 'pandas.core.frame.DataFrame'>\n",
      "RangeIndex: 264 entries, 0 to 263\n",
      "Data columns (total 35 columns):\n",
      " #   Column                 Non-Null Count  Dtype  \n",
      "---  ------                 --------------  -----  \n",
      " 0   Order ID               264 non-null    int64  \n",
      " 1   Order Date             264 non-null    object \n",
      " 2   First Name             262 non-null    object \n",
      " 3   Last Name              262 non-null    object \n",
      " 4   Email                  262 non-null    object \n",
      " 5   Company                24 non-null     object \n",
      " 6   Phone                  262 non-null    object \n",
      " 7   Street                 262 non-null    object \n",
      " 8   City                   262 non-null    object \n",
      " 9   State/Province         260 non-null    object \n",
      " 10  Postal/Zip Code        262 non-null    object \n",
      " 11  Country                262 non-null    object \n",
      " 12  Shipping Instructions  16 non-null     object \n",
      " 13  Shipping Method        262 non-null    object \n",
      " 14  Shipping Total         262 non-null    float64\n",
      " 15  Discount Total         262 non-null    float64\n",
      " 16  Discount Codes         5 non-null      object \n",
      " 17  Tax                    262 non-null    float64\n",
      " 18  Order Total            262 non-null    float64\n",
      " 19  Tindie Fee             262 non-null    float64\n",
      " 20  Transaction Fee        262 non-null    float64\n",
      " 21  Seller Amount          262 non-null    float64\n",
      " 22  Refund Date            13 non-null     object \n",
      " 23  Shipped                253 non-null    object \n",
      " 24  Tracking Number        250 non-null    object \n",
      " 25  Pay Out Status         250 non-null    object \n",
      " 26  Pay Out Date           248 non-null    object \n",
      " 27  Product Title          264 non-null    object \n",
      " 28  Option Summary         264 non-null    object \n",
      " 29  Model Number           0 non-null      float64\n",
      " 30  Status                 264 non-null    object \n",
      " 31  Unit Price             264 non-null    float64\n",
      " 32  Discount Price         264 non-null    float64\n",
      " 33  Quantity               264 non-null    int64  \n",
      " 34  Item Total             264 non-null    float64\n",
      "dtypes: float64(11), int64(2), object(22)\n",
      "memory usage: 72.3+ KB\n"
     ]
    }
   ],
   "source": [
    "orders.info()"
   ]
  },
  {
   "cell_type": "markdown",
   "id": "14cac003",
   "metadata": {},
   "source": [
    "Let's import the hashlib library and convert the customer name to a hash. See the results."
   ]
  },
  {
   "cell_type": "code",
   "execution_count": 65,
   "id": "24a2d748",
   "metadata": {},
   "outputs": [
    {
     "data": {
      "text/plain": [
       "757f33ad9fbcf1f55a1f6420161ed88772d990bf14a1a18c152d6ca4f3fc13e4    4\n",
       "604d763a54bbb2affa2a56f7e893a692551ff4268ac09644af11800b168b3c12    3\n",
       "ee97429a3a37102bf2a3fb0d3d11a2585b6dfa2f201c472f42705687f3dbac7f    3\n",
       "2b399d7420dc7bc7af563099b028273c83adae8cf92fef0d4fc1b992765d109d    2\n",
       "29b2bac5decdc8aa13c07ad0c2aee6076099044cc28bb450650575095b0fb248    2\n",
       "                                                                   ..\n",
       "76139883ebc5fc9f384d2de559c68af551cede6c2fb2152d9872fd3532908498    1\n",
       "65518f673f0f0ee95524bbfac829fac90915a87b89fe923155080b81621f5fc9    1\n",
       "f3c84917b5a85ccec7491d0b233c6381303a8a8350b03bd8f7867996710c84f3    1\n",
       "bb896dda33736b77df1bdd93fc3d85bae54c6b2a75c12b04db7297c8fdba1b10    1\n",
       "6c9509162976dc640ff232283affc522f04b0425ad2171a510115f67bd0321a3    1\n",
       "Name: Customer ID, Length: 236, dtype: int64"
      ]
     },
     "execution_count": 65,
     "metadata": {},
     "output_type": "execute_result"
    }
   ],
   "source": [
    "import hashlib\n",
    " \n",
    "orders['Customer Name'] = orders['First Name'] + ' ' + orders['Last Name']\n",
    "orders['Customer Name'] = orders['Customer Name'].astype(str)\n",
    "\n",
    "# Apply hashing function to the column\n",
    "orders['Customer ID'] = orders['Customer Name'].apply(\n",
    "    lambda x: \n",
    "        hashlib.sha256(x.encode()).hexdigest()\n",
    ")\n",
    "\n",
    "orders[\"Customer ID\"].value_counts()\n"
   ]
  },
  {
   "cell_type": "raw",
   "id": "c0e73c72",
   "metadata": {},
   "source": [
    "Let's rename, keep and rearrange only the columns that we consider most important."
   ]
  },
  {
   "cell_type": "code",
   "execution_count": 66,
   "id": "21beefec",
   "metadata": {},
   "outputs": [
    {
     "data": {
      "text/html": [
       "<div>\n",
       "<style scoped>\n",
       "    .dataframe tbody tr th:only-of-type {\n",
       "        vertical-align: middle;\n",
       "    }\n",
       "\n",
       "    .dataframe tbody tr th {\n",
       "        vertical-align: top;\n",
       "    }\n",
       "\n",
       "    .dataframe thead th {\n",
       "        text-align: right;\n",
       "    }\n",
       "</style>\n",
       "<table border=\"1\" class=\"dataframe\">\n",
       "  <thead>\n",
       "    <tr style=\"text-align: right;\">\n",
       "      <th></th>\n",
       "      <th>Order ID</th>\n",
       "      <th>Status</th>\n",
       "      <th>Order Date</th>\n",
       "      <th>Shipping Date</th>\n",
       "      <th>Refund Date</th>\n",
       "      <th>Customer ID</th>\n",
       "      <th>City</th>\n",
       "      <th>State/Province</th>\n",
       "      <th>Postal/Zip Code</th>\n",
       "      <th>Country</th>\n",
       "      <th>Product Title</th>\n",
       "      <th>Option Summary</th>\n",
       "      <th>Quantity</th>\n",
       "      <th>Unit Price</th>\n",
       "      <th>Discount Price</th>\n",
       "      <th>Item Total</th>\n",
       "      <th>Shipping Total</th>\n",
       "      <th>Discount Total</th>\n",
       "      <th>Order Total</th>\n",
       "    </tr>\n",
       "  </thead>\n",
       "  <tbody>\n",
       "    <tr>\n",
       "      <th>0</th>\n",
       "      <td>134029</td>\n",
       "      <td>billed</td>\n",
       "      <td>2018-12-07</td>\n",
       "      <td>2018-12-12</td>\n",
       "      <td>NaN</td>\n",
       "      <td>79b517750071a0fce0ea0c2ef27fc40d5063df78aac79c...</td>\n",
       "      <td>Brookings</td>\n",
       "      <td>SD</td>\n",
       "      <td>57006</td>\n",
       "      <td>United States of America</td>\n",
       "      <td>DAFM synth - GENESIS YM2612 / YM3438</td>\n",
       "      <td>FM YAMAHA chip: YM3438 - Fully Assembled</td>\n",
       "      <td>1</td>\n",
       "      <td>124.38</td>\n",
       "      <td>124.38</td>\n",
       "      <td>124.38</td>\n",
       "      <td>0.00</td>\n",
       "      <td>0.00</td>\n",
       "      <td>124.38</td>\n",
       "    </tr>\n",
       "    <tr>\n",
       "      <th>1</th>\n",
       "      <td>136661</td>\n",
       "      <td>billed</td>\n",
       "      <td>2019-01-04</td>\n",
       "      <td>2019-01-13</td>\n",
       "      <td>NaN</td>\n",
       "      <td>5f54c081a80b3cd0960794be1ea8f4fbd1bb977f7d9b30...</td>\n",
       "      <td>Neustadt</td>\n",
       "      <td>RP</td>\n",
       "      <td>67433</td>\n",
       "      <td>Germany</td>\n",
       "      <td>DAFM synth - GENESIS YM2612 / YM3438</td>\n",
       "      <td>FM YAMAHA chip: YM2612 - Fully Assembled</td>\n",
       "      <td>1</td>\n",
       "      <td>126.12</td>\n",
       "      <td>126.12</td>\n",
       "      <td>126.12</td>\n",
       "      <td>0.00</td>\n",
       "      <td>0.00</td>\n",
       "      <td>126.12</td>\n",
       "    </tr>\n",
       "    <tr>\n",
       "      <th>2</th>\n",
       "      <td>136829</td>\n",
       "      <td>billed</td>\n",
       "      <td>2019-01-05</td>\n",
       "      <td>2019-01-16</td>\n",
       "      <td>NaN</td>\n",
       "      <td>1eaa433ace9b356d976ae83bdfac56282ef0fa7afcc05f...</td>\n",
       "      <td>Auckland</td>\n",
       "      <td>Auckland</td>\n",
       "      <td>1024</td>\n",
       "      <td>New Zealand</td>\n",
       "      <td>DAFM synth - GENESIS YM2612 / YM3438</td>\n",
       "      <td>FM YAMAHA chip: YM2612 - Fully Assembled</td>\n",
       "      <td>1</td>\n",
       "      <td>126.12</td>\n",
       "      <td>126.12</td>\n",
       "      <td>126.12</td>\n",
       "      <td>0.00</td>\n",
       "      <td>0.00</td>\n",
       "      <td>126.12</td>\n",
       "    </tr>\n",
       "    <tr>\n",
       "      <th>3</th>\n",
       "      <td>137381</td>\n",
       "      <td>billed</td>\n",
       "      <td>2019-01-10</td>\n",
       "      <td>2019-01-19</td>\n",
       "      <td>NaN</td>\n",
       "      <td>92ce259747bc2c850787c5e27547416aa4da0a13a23708...</td>\n",
       "      <td>Berlin</td>\n",
       "      <td>Berlin</td>\n",
       "      <td>10409</td>\n",
       "      <td>Germany</td>\n",
       "      <td>DAFM synth - GENESIS YM2612 / YM3438</td>\n",
       "      <td>FM YAMAHA chip: YM2612 - Fully Assembled</td>\n",
       "      <td>1</td>\n",
       "      <td>126.12</td>\n",
       "      <td>126.12</td>\n",
       "      <td>126.12</td>\n",
       "      <td>0.00</td>\n",
       "      <td>0.00</td>\n",
       "      <td>126.12</td>\n",
       "    </tr>\n",
       "    <tr>\n",
       "      <th>4</th>\n",
       "      <td>142040</td>\n",
       "      <td>billed</td>\n",
       "      <td>2019-02-23</td>\n",
       "      <td>2019-02-25</td>\n",
       "      <td>NaN</td>\n",
       "      <td>d1b71ad194e919d69cabdf143cea070293c4190d6c3be3...</td>\n",
       "      <td>Bluff City</td>\n",
       "      <td>TN</td>\n",
       "      <td>37618</td>\n",
       "      <td>United States of America</td>\n",
       "      <td>DAFM synth - GENESIS YM2612 / YM3438</td>\n",
       "      <td>FM YAMAHA chip: YM2612 - Fully Assembled</td>\n",
       "      <td>1</td>\n",
       "      <td>156.11</td>\n",
       "      <td>129.99</td>\n",
       "      <td>129.99</td>\n",
       "      <td>19.99</td>\n",
       "      <td>26.12</td>\n",
       "      <td>149.98</td>\n",
       "    </tr>\n",
       "  </tbody>\n",
       "</table>\n",
       "</div>"
      ],
      "text/plain": [
       "   Order ID  Status  Order Date Shipping Date Refund Date  \\\n",
       "0    134029  billed  2018-12-07    2018-12-12         NaN   \n",
       "1    136661  billed  2019-01-04    2019-01-13         NaN   \n",
       "2    136829  billed  2019-01-05    2019-01-16         NaN   \n",
       "3    137381  billed  2019-01-10    2019-01-19         NaN   \n",
       "4    142040  billed  2019-02-23    2019-02-25         NaN   \n",
       "\n",
       "                                         Customer ID        City  \\\n",
       "0  79b517750071a0fce0ea0c2ef27fc40d5063df78aac79c...   Brookings   \n",
       "1  5f54c081a80b3cd0960794be1ea8f4fbd1bb977f7d9b30...    Neustadt   \n",
       "2  1eaa433ace9b356d976ae83bdfac56282ef0fa7afcc05f...    Auckland   \n",
       "3  92ce259747bc2c850787c5e27547416aa4da0a13a23708...      Berlin   \n",
       "4  d1b71ad194e919d69cabdf143cea070293c4190d6c3be3...  Bluff City   \n",
       "\n",
       "  State/Province Postal/Zip Code                   Country  \\\n",
       "0             SD           57006  United States of America   \n",
       "1             RP           67433                   Germany   \n",
       "2       Auckland            1024               New Zealand   \n",
       "3         Berlin           10409                   Germany   \n",
       "4             TN           37618  United States of America   \n",
       "\n",
       "                          Product Title  \\\n",
       "0  DAFM synth - GENESIS YM2612 / YM3438   \n",
       "1  DAFM synth - GENESIS YM2612 / YM3438   \n",
       "2  DAFM synth - GENESIS YM2612 / YM3438   \n",
       "3  DAFM synth - GENESIS YM2612 / YM3438   \n",
       "4  DAFM synth - GENESIS YM2612 / YM3438   \n",
       "\n",
       "                             Option Summary  Quantity  Unit Price  \\\n",
       "0  FM YAMAHA chip: YM3438 - Fully Assembled         1      124.38   \n",
       "1  FM YAMAHA chip: YM2612 - Fully Assembled         1      126.12   \n",
       "2  FM YAMAHA chip: YM2612 - Fully Assembled         1      126.12   \n",
       "3  FM YAMAHA chip: YM2612 - Fully Assembled         1      126.12   \n",
       "4  FM YAMAHA chip: YM2612 - Fully Assembled         1      156.11   \n",
       "\n",
       "   Discount Price  Item Total  Shipping Total  Discount Total  Order Total  \n",
       "0          124.38      124.38            0.00            0.00       124.38  \n",
       "1          126.12      126.12            0.00            0.00       126.12  \n",
       "2          126.12      126.12            0.00            0.00       126.12  \n",
       "3          126.12      126.12            0.00            0.00       126.12  \n",
       "4          129.99      129.99           19.99           26.12       149.98  "
      ]
     },
     "execution_count": 66,
     "metadata": {},
     "output_type": "execute_result"
    }
   ],
   "source": [
    "orders.rename(columns = {'Shipped':'Shipping Date'}, inplace = True)\n",
    "orders = orders[['Order ID', 'Status', 'Order Date', 'Shipping Date', 'Refund Date', 'Customer ID', 'City','State/Province', 'Postal/Zip Code', 'Country', 'Product Title', 'Option Summary', 'Quantity', 'Unit Price', 'Discount Price', 'Item Total', 'Shipping Total', 'Discount Total', 'Order Total']]\n",
    "orders.head()"
   ]
  },
  {
   "cell_type": "code",
   "execution_count": 67,
   "id": "fcd75be3",
   "metadata": {},
   "outputs": [
    {
     "name": "stdout",
     "output_type": "stream",
     "text": [
      "<class 'pandas.core.frame.DataFrame'>\n",
      "RangeIndex: 264 entries, 0 to 263\n",
      "Data columns (total 19 columns):\n",
      " #   Column           Non-Null Count  Dtype  \n",
      "---  ------           --------------  -----  \n",
      " 0   Order ID         264 non-null    int64  \n",
      " 1   Status           264 non-null    object \n",
      " 2   Order Date       264 non-null    object \n",
      " 3   Shipping Date    253 non-null    object \n",
      " 4   Refund Date      13 non-null     object \n",
      " 5   Customer ID      264 non-null    object \n",
      " 6   City             262 non-null    object \n",
      " 7   State/Province   260 non-null    object \n",
      " 8   Postal/Zip Code  262 non-null    object \n",
      " 9   Country          262 non-null    object \n",
      " 10  Product Title    264 non-null    object \n",
      " 11  Option Summary   264 non-null    object \n",
      " 12  Quantity         264 non-null    int64  \n",
      " 13  Unit Price       264 non-null    float64\n",
      " 14  Discount Price   264 non-null    float64\n",
      " 15  Item Total       264 non-null    float64\n",
      " 16  Shipping Total   262 non-null    float64\n",
      " 17  Discount Total   262 non-null    float64\n",
      " 18  Order Total      262 non-null    float64\n",
      "dtypes: float64(6), int64(2), object(11)\n",
      "memory usage: 39.3+ KB\n"
     ]
    }
   ],
   "source": [
    "orders.info()"
   ]
  },
  {
   "cell_type": "markdown",
   "id": "84eaa114",
   "metadata": {},
   "source": [
    "Finally we can save the file in csv format with the name anonym_orders.csv"
   ]
  },
  {
   "cell_type": "code",
   "execution_count": 68,
   "id": "8007a5f4",
   "metadata": {},
   "outputs": [],
   "source": [
    "orders.to_csv('anonym_orders.csv', index = False)"
   ]
  },
  {
   "cell_type": "code",
   "execution_count": null,
   "id": "85796bc0",
   "metadata": {},
   "outputs": [],
   "source": []
  }
 ],
 "metadata": {
  "kernelspec": {
   "display_name": "Python 3",
   "language": "python",
   "name": "python3"
  },
  "language_info": {
   "codemirror_mode": {
    "name": "ipython",
    "version": 3
   },
   "file_extension": ".py",
   "mimetype": "text/x-python",
   "name": "python",
   "nbconvert_exporter": "python",
   "pygments_lexer": "ipython3",
   "version": "3.8.8"
  }
 },
 "nbformat": 4,
 "nbformat_minor": 5
}
